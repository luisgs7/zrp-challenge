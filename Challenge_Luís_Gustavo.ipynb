{
  "nbformat": 4,
  "nbformat_minor": 0,
  "metadata": {
    "colab": {
      "provenance": []
    },
    "kernelspec": {
      "name": "python3",
      "display_name": "Python 3"
    },
    "language_info": {
      "name": "python"
    },
    "gpuClass": "standard"
  },
  "cells": [
    {
      "cell_type": "markdown",
      "source": [
        "# Resolução do [Challenge](https://zrp.github.io/challenges/data-science/) da ZRP"
      ],
      "metadata": {
        "id": "MgevhTdczmGy"
      }
    },
    {
      "cell_type": "markdown",
      "source": [
        "## Importação das bibliotecas"
      ],
      "metadata": {
        "id": "9rrlWMWPzrT6"
      }
    },
    {
      "cell_type": "code",
      "source": [
        "import pandas as pd\n",
        "import numpy as np\n",
        "import seaborn as sns\n",
        "import matplotlib.pyplot as plt\n",
        "import plotly.express as px"
      ],
      "metadata": {
        "id": "JSYOGWRWX6Lh"
      },
      "execution_count": 234,
      "outputs": []
    },
    {
      "cell_type": "markdown",
      "source": [
        "## Download dos dados"
      ],
      "metadata": {
        "id": "kvDKdx_wzu89"
      }
    },
    {
      "cell_type": "code",
      "execution_count": 235,
      "metadata": {
        "colab": {
          "base_uri": "https://localhost:8080/"
        },
        "id": "bH7DFLsfr5Je",
        "outputId": "01ac896f-60b9-420c-8bb8-09ffd6b086c7"
      },
      "outputs": [
        {
          "output_type": "stream",
          "name": "stdout",
          "text": [
            "--2023-03-01 00:05:18--  https://zrp.github.io/challenges/data-science/data.csv\n",
            "Resolving zrp.github.io (zrp.github.io)... 185.199.109.153, 185.199.110.153, 185.199.111.153, ...\n",
            "Connecting to zrp.github.io (zrp.github.io)|185.199.109.153|:443... connected.\n",
            "HTTP request sent, awaiting response... 200 OK\n",
            "Length: 643839 (629K) [text/csv]\n",
            "Saving to: ‘data.csv.2’\n",
            "\n",
            "\rdata.csv.2            0%[                    ]       0  --.-KB/s               \rdata.csv.2          100%[===================>] 628.75K  --.-KB/s    in 0.03s   \n",
            "\n",
            "2023-03-01 00:05:18 (18.5 MB/s) - ‘data.csv.2’ saved [643839/643839]\n",
            "\n"
          ]
        }
      ],
      "source": [
        "!wget https://zrp.github.io/challenges/data-science/data.csv"
      ]
    },
    {
      "cell_type": "markdown",
      "source": [
        "## Carregamento dos dados, e criação do dataframe com o Pandas\n",
        "\n",
        "É necessário remover as [ ] dos dados, e dividir os dados entre colunas diferentes, separando através da virgula dos valores de leitura dos sensores "
      ],
      "metadata": {
        "id": "QBC1Qt0rzx7L"
      }
    },
    {
      "cell_type": "code",
      "source": [
        "data_start_df = pd.read_csv('/content/data.csv')\n",
        "data_start_df.head(5)"
      ],
      "metadata": {
        "colab": {
          "base_uri": "https://localhost:8080/",
          "height": 337
        },
        "id": "-OmlnxLyX21o",
        "outputId": "f705d2bc-a058-43ad-da96-6fa423e3b34e"
      },
      "execution_count": 236,
      "outputs": [
        {
          "output_type": "execute_result",
          "data": {
            "text/plain": [
              "            read0           read1           read2           read3  \\\n",
              "0  [-0.29, -0.07]   [0.24, -0.62]   [-0.29, 0.14]     [0.1, 0.14]   \n",
              "1  [-0.25, -0.04]    [0.04, 0.19]    [0.11, 0.19]   [-0.23, 0.07]   \n",
              "2  [-0.59, -0.27]  [-0.42, -0.27]  [-0.42, -0.34]  [-0.35, -0.37]   \n",
              "3   [-0.2, -0.15]  [-0.44, -0.31]  [-0.65, -0.31]   [-0.7, -0.17]   \n",
              "4  [-0.35, -0.19]  [-0.61, -0.19]  [-0.61, -0.15]  [-0.61, -0.13]   \n",
              "\n",
              "            read4           read5           read6           read7  \\\n",
              "0   [0.41, -0.45]    [0.41, 0.22]    [0.36, 0.03]    [0.37, 0.42]   \n",
              "1  [-0.23, -0.38]  [-0.48, -0.37]  [-0.42, -0.33]  [-0.23, -0.33]   \n",
              "2  [-0.39, -0.36]  [-0.47, -0.36]  [-0.12, -0.39]  [-0.12, -0.06]   \n",
              "3   [-0.7, -0.15]  [-0.63, -0.12]  [-0.56, -0.13]  [-0.46, -0.13]   \n",
              "4  [-0.59, -0.15]  [-0.56, -0.15]    [0.44, 0.27]    [0.44, 0.15]   \n",
              "\n",
              "            read8           read9  start_timestamp  end_timestamp  inference  \n",
              "0    [0.19, 0.42]    [0.19, 0.01]       1665656955     1665656967          1  \n",
              "1   [-0.23, -0.2]  [-0.12, -0.31]       1665656968     1665656980          1  \n",
              "2  [-0.01, -0.05]   [-0.11, 0.46]       1665656982     1665656994          1  \n",
              "3  [-0.46, -0.18]  [-0.52, -0.15]       1665656914     1665656926          1  \n",
              "4  [-0.59, -0.25]  [-0.56, -0.22]       1665656928     1665656940          1  "
            ],
            "text/html": [
              "\n",
              "  <div id=\"df-4269aec8-35c1-4db6-b45a-7832ce44e692\">\n",
              "    <div class=\"colab-df-container\">\n",
              "      <div>\n",
              "<style scoped>\n",
              "    .dataframe tbody tr th:only-of-type {\n",
              "        vertical-align: middle;\n",
              "    }\n",
              "\n",
              "    .dataframe tbody tr th {\n",
              "        vertical-align: top;\n",
              "    }\n",
              "\n",
              "    .dataframe thead th {\n",
              "        text-align: right;\n",
              "    }\n",
              "</style>\n",
              "<table border=\"1\" class=\"dataframe\">\n",
              "  <thead>\n",
              "    <tr style=\"text-align: right;\">\n",
              "      <th></th>\n",
              "      <th>read0</th>\n",
              "      <th>read1</th>\n",
              "      <th>read2</th>\n",
              "      <th>read3</th>\n",
              "      <th>read4</th>\n",
              "      <th>read5</th>\n",
              "      <th>read6</th>\n",
              "      <th>read7</th>\n",
              "      <th>read8</th>\n",
              "      <th>read9</th>\n",
              "      <th>start_timestamp</th>\n",
              "      <th>end_timestamp</th>\n",
              "      <th>inference</th>\n",
              "    </tr>\n",
              "  </thead>\n",
              "  <tbody>\n",
              "    <tr>\n",
              "      <th>0</th>\n",
              "      <td>[-0.29, -0.07]</td>\n",
              "      <td>[0.24, -0.62]</td>\n",
              "      <td>[-0.29, 0.14]</td>\n",
              "      <td>[0.1, 0.14]</td>\n",
              "      <td>[0.41, -0.45]</td>\n",
              "      <td>[0.41, 0.22]</td>\n",
              "      <td>[0.36, 0.03]</td>\n",
              "      <td>[0.37, 0.42]</td>\n",
              "      <td>[0.19, 0.42]</td>\n",
              "      <td>[0.19, 0.01]</td>\n",
              "      <td>1665656955</td>\n",
              "      <td>1665656967</td>\n",
              "      <td>1</td>\n",
              "    </tr>\n",
              "    <tr>\n",
              "      <th>1</th>\n",
              "      <td>[-0.25, -0.04]</td>\n",
              "      <td>[0.04, 0.19]</td>\n",
              "      <td>[0.11, 0.19]</td>\n",
              "      <td>[-0.23, 0.07]</td>\n",
              "      <td>[-0.23, -0.38]</td>\n",
              "      <td>[-0.48, -0.37]</td>\n",
              "      <td>[-0.42, -0.33]</td>\n",
              "      <td>[-0.23, -0.33]</td>\n",
              "      <td>[-0.23, -0.2]</td>\n",
              "      <td>[-0.12, -0.31]</td>\n",
              "      <td>1665656968</td>\n",
              "      <td>1665656980</td>\n",
              "      <td>1</td>\n",
              "    </tr>\n",
              "    <tr>\n",
              "      <th>2</th>\n",
              "      <td>[-0.59, -0.27]</td>\n",
              "      <td>[-0.42, -0.27]</td>\n",
              "      <td>[-0.42, -0.34]</td>\n",
              "      <td>[-0.35, -0.37]</td>\n",
              "      <td>[-0.39, -0.36]</td>\n",
              "      <td>[-0.47, -0.36]</td>\n",
              "      <td>[-0.12, -0.39]</td>\n",
              "      <td>[-0.12, -0.06]</td>\n",
              "      <td>[-0.01, -0.05]</td>\n",
              "      <td>[-0.11, 0.46]</td>\n",
              "      <td>1665656982</td>\n",
              "      <td>1665656994</td>\n",
              "      <td>1</td>\n",
              "    </tr>\n",
              "    <tr>\n",
              "      <th>3</th>\n",
              "      <td>[-0.2, -0.15]</td>\n",
              "      <td>[-0.44, -0.31]</td>\n",
              "      <td>[-0.65, -0.31]</td>\n",
              "      <td>[-0.7, -0.17]</td>\n",
              "      <td>[-0.7, -0.15]</td>\n",
              "      <td>[-0.63, -0.12]</td>\n",
              "      <td>[-0.56, -0.13]</td>\n",
              "      <td>[-0.46, -0.13]</td>\n",
              "      <td>[-0.46, -0.18]</td>\n",
              "      <td>[-0.52, -0.15]</td>\n",
              "      <td>1665656914</td>\n",
              "      <td>1665656926</td>\n",
              "      <td>1</td>\n",
              "    </tr>\n",
              "    <tr>\n",
              "      <th>4</th>\n",
              "      <td>[-0.35, -0.19]</td>\n",
              "      <td>[-0.61, -0.19]</td>\n",
              "      <td>[-0.61, -0.15]</td>\n",
              "      <td>[-0.61, -0.13]</td>\n",
              "      <td>[-0.59, -0.15]</td>\n",
              "      <td>[-0.56, -0.15]</td>\n",
              "      <td>[0.44, 0.27]</td>\n",
              "      <td>[0.44, 0.15]</td>\n",
              "      <td>[-0.59, -0.25]</td>\n",
              "      <td>[-0.56, -0.22]</td>\n",
              "      <td>1665656928</td>\n",
              "      <td>1665656940</td>\n",
              "      <td>1</td>\n",
              "    </tr>\n",
              "  </tbody>\n",
              "</table>\n",
              "</div>\n",
              "      <button class=\"colab-df-convert\" onclick=\"convertToInteractive('df-4269aec8-35c1-4db6-b45a-7832ce44e692')\"\n",
              "              title=\"Convert this dataframe to an interactive table.\"\n",
              "              style=\"display:none;\">\n",
              "        \n",
              "  <svg xmlns=\"http://www.w3.org/2000/svg\" height=\"24px\"viewBox=\"0 0 24 24\"\n",
              "       width=\"24px\">\n",
              "    <path d=\"M0 0h24v24H0V0z\" fill=\"none\"/>\n",
              "    <path d=\"M18.56 5.44l.94 2.06.94-2.06 2.06-.94-2.06-.94-.94-2.06-.94 2.06-2.06.94zm-11 1L8.5 8.5l.94-2.06 2.06-.94-2.06-.94L8.5 2.5l-.94 2.06-2.06.94zm10 10l.94 2.06.94-2.06 2.06-.94-2.06-.94-.94-2.06-.94 2.06-2.06.94z\"/><path d=\"M17.41 7.96l-1.37-1.37c-.4-.4-.92-.59-1.43-.59-.52 0-1.04.2-1.43.59L10.3 9.45l-7.72 7.72c-.78.78-.78 2.05 0 2.83L4 21.41c.39.39.9.59 1.41.59.51 0 1.02-.2 1.41-.59l7.78-7.78 2.81-2.81c.8-.78.8-2.07 0-2.86zM5.41 20L4 18.59l7.72-7.72 1.47 1.35L5.41 20z\"/>\n",
              "  </svg>\n",
              "      </button>\n",
              "      \n",
              "  <style>\n",
              "    .colab-df-container {\n",
              "      display:flex;\n",
              "      flex-wrap:wrap;\n",
              "      gap: 12px;\n",
              "    }\n",
              "\n",
              "    .colab-df-convert {\n",
              "      background-color: #E8F0FE;\n",
              "      border: none;\n",
              "      border-radius: 50%;\n",
              "      cursor: pointer;\n",
              "      display: none;\n",
              "      fill: #1967D2;\n",
              "      height: 32px;\n",
              "      padding: 0 0 0 0;\n",
              "      width: 32px;\n",
              "    }\n",
              "\n",
              "    .colab-df-convert:hover {\n",
              "      background-color: #E2EBFA;\n",
              "      box-shadow: 0px 1px 2px rgba(60, 64, 67, 0.3), 0px 1px 3px 1px rgba(60, 64, 67, 0.15);\n",
              "      fill: #174EA6;\n",
              "    }\n",
              "\n",
              "    [theme=dark] .colab-df-convert {\n",
              "      background-color: #3B4455;\n",
              "      fill: #D2E3FC;\n",
              "    }\n",
              "\n",
              "    [theme=dark] .colab-df-convert:hover {\n",
              "      background-color: #434B5C;\n",
              "      box-shadow: 0px 1px 3px 1px rgba(0, 0, 0, 0.15);\n",
              "      filter: drop-shadow(0px 1px 2px rgba(0, 0, 0, 0.3));\n",
              "      fill: #FFFFFF;\n",
              "    }\n",
              "  </style>\n",
              "\n",
              "      <script>\n",
              "        const buttonEl =\n",
              "          document.querySelector('#df-4269aec8-35c1-4db6-b45a-7832ce44e692 button.colab-df-convert');\n",
              "        buttonEl.style.display =\n",
              "          google.colab.kernel.accessAllowed ? 'block' : 'none';\n",
              "\n",
              "        async function convertToInteractive(key) {\n",
              "          const element = document.querySelector('#df-4269aec8-35c1-4db6-b45a-7832ce44e692');\n",
              "          const dataTable =\n",
              "            await google.colab.kernel.invokeFunction('convertToInteractive',\n",
              "                                                     [key], {});\n",
              "          if (!dataTable) return;\n",
              "\n",
              "          const docLinkHtml = 'Like what you see? Visit the ' +\n",
              "            '<a target=\"_blank\" href=https://colab.research.google.com/notebooks/data_table.ipynb>data table notebook</a>'\n",
              "            + ' to learn more about interactive tables.';\n",
              "          element.innerHTML = '';\n",
              "          dataTable['output_type'] = 'display_data';\n",
              "          await google.colab.output.renderOutput(dataTable, element);\n",
              "          const docLink = document.createElement('div');\n",
              "          docLink.innerHTML = docLinkHtml;\n",
              "          element.appendChild(docLink);\n",
              "        }\n",
              "      </script>\n",
              "    </div>\n",
              "  </div>\n",
              "  "
            ]
          },
          "metadata": {},
          "execution_count": 236
        }
      ]
    },
    {
      "cell_type": "markdown",
      "source": [
        "## Explorando os dados "
      ],
      "metadata": {
        "id": "qjDVT3l5z7GI"
      }
    },
    {
      "cell_type": "code",
      "source": [
        "data_start_df.columns"
      ],
      "metadata": {
        "colab": {
          "base_uri": "https://localhost:8080/"
        },
        "id": "w_2VWeCbe8YK",
        "outputId": "7c9560f8-72c3-459f-afdf-a321e99cd7f1"
      },
      "execution_count": 237,
      "outputs": [
        {
          "output_type": "execute_result",
          "data": {
            "text/plain": [
              "Index(['read0', 'read1', 'read2', 'read3', 'read4', 'read5', 'read6', 'read7',\n",
              "       'read8', 'read9', 'start_timestamp', 'end_timestamp', 'inference'],\n",
              "      dtype='object')"
            ]
          },
          "metadata": {},
          "execution_count": 237
        }
      ]
    },
    {
      "cell_type": "markdown",
      "source": [
        "## A maioria dos dados são do tipo *object*, desta forma será necessário converte-los para *float64*"
      ],
      "metadata": {
        "id": "HO2CGRDm0DRq"
      }
    },
    {
      "cell_type": "code",
      "source": [
        "data_start_df.info()"
      ],
      "metadata": {
        "id": "KVK6yA5efaHM",
        "colab": {
          "base_uri": "https://localhost:8080/"
        },
        "outputId": "51863a25-9645-41f1-9220-4f5d61003130"
      },
      "execution_count": 238,
      "outputs": [
        {
          "output_type": "stream",
          "name": "stdout",
          "text": [
            "<class 'pandas.core.frame.DataFrame'>\n",
            "RangeIndex: 3515 entries, 0 to 3514\n",
            "Data columns (total 13 columns):\n",
            " #   Column           Non-Null Count  Dtype \n",
            "---  ------           --------------  ----- \n",
            " 0   read0            3515 non-null   object\n",
            " 1   read1            3515 non-null   object\n",
            " 2   read2            3515 non-null   object\n",
            " 3   read3            3515 non-null   object\n",
            " 4   read4            3515 non-null   object\n",
            " 5   read5            3515 non-null   object\n",
            " 6   read6            3515 non-null   object\n",
            " 7   read7            3515 non-null   object\n",
            " 8   read8            3515 non-null   object\n",
            " 9   read9            3515 non-null   object\n",
            " 10  start_timestamp  3515 non-null   int64 \n",
            " 11  end_timestamp    3515 non-null   int64 \n",
            " 12  inference        3515 non-null   int64 \n",
            "dtypes: int64(3), object(10)\n",
            "memory usage: 357.1+ KB\n"
          ]
        }
      ]
    },
    {
      "cell_type": "markdown",
      "source": [
        "## A função abaixo realiza a limpeza dos dados, removendo os '[  ]' além de garantir a conversão dos valores de timestamp's e inference para valores numéricos\n",
        "\n",
        "Esta conversão é necessária, pois os algoritmos de *machine leaning* realizam operações matemáticas com os valores, e desta forma necessita que eles sejam numéricos"
      ],
      "metadata": {
        "id": "FD19V6w80VGj"
      }
    },
    {
      "cell_type": "code",
      "source": [
        "def format_data(data):\n",
        "  for i in data:\n",
        "    for j in i:\n",
        "      data[i] = data[i].apply(lambda x: str(x).replace(\"[\", \"\"))\n",
        "      data[i] = data[i].apply(lambda x: str(x).replace(\"]\", \"\"))\n",
        "  \n",
        "  data['start_timestamp'] = pd.to_numeric(data['start_timestamp'])\n",
        "  data['end_timestamp'] = pd.to_numeric(data['end_timestamp'])\n",
        "  data['inference'] = pd.to_numeric(data['inference'])\n",
        "  return data"
      ],
      "metadata": {
        "id": "-I-7D05Nvmt4"
      },
      "execution_count": 239,
      "outputs": []
    },
    {
      "cell_type": "code",
      "source": [
        "data_df = format_data(data_start_df)\n",
        "data_df.head(3)"
      ],
      "metadata": {
        "colab": {
          "base_uri": "https://localhost:8080/",
          "height": 240
        },
        "id": "6oR-J7Ov1cT6",
        "outputId": "a2596d43-bb8e-4650-f83f-7b94518fe711"
      },
      "execution_count": 240,
      "outputs": [
        {
          "output_type": "execute_result",
          "data": {
            "text/plain": [
              "          read0         read1         read2         read3         read4  \\\n",
              "0  -0.29, -0.07   0.24, -0.62   -0.29, 0.14     0.1, 0.14   0.41, -0.45   \n",
              "1  -0.25, -0.04    0.04, 0.19    0.11, 0.19   -0.23, 0.07  -0.23, -0.38   \n",
              "2  -0.59, -0.27  -0.42, -0.27  -0.42, -0.34  -0.35, -0.37  -0.39, -0.36   \n",
              "\n",
              "          read5         read6         read7         read8         read9  \\\n",
              "0    0.41, 0.22    0.36, 0.03    0.37, 0.42    0.19, 0.42    0.19, 0.01   \n",
              "1  -0.48, -0.37  -0.42, -0.33  -0.23, -0.33   -0.23, -0.2  -0.12, -0.31   \n",
              "2  -0.47, -0.36  -0.12, -0.39  -0.12, -0.06  -0.01, -0.05   -0.11, 0.46   \n",
              "\n",
              "   start_timestamp  end_timestamp  inference  \n",
              "0       1665656955     1665656967          1  \n",
              "1       1665656968     1665656980          1  \n",
              "2       1665656982     1665656994          1  "
            ],
            "text/html": [
              "\n",
              "  <div id=\"df-0e03a6d3-90b5-4b66-bd8c-e089513c9793\">\n",
              "    <div class=\"colab-df-container\">\n",
              "      <div>\n",
              "<style scoped>\n",
              "    .dataframe tbody tr th:only-of-type {\n",
              "        vertical-align: middle;\n",
              "    }\n",
              "\n",
              "    .dataframe tbody tr th {\n",
              "        vertical-align: top;\n",
              "    }\n",
              "\n",
              "    .dataframe thead th {\n",
              "        text-align: right;\n",
              "    }\n",
              "</style>\n",
              "<table border=\"1\" class=\"dataframe\">\n",
              "  <thead>\n",
              "    <tr style=\"text-align: right;\">\n",
              "      <th></th>\n",
              "      <th>read0</th>\n",
              "      <th>read1</th>\n",
              "      <th>read2</th>\n",
              "      <th>read3</th>\n",
              "      <th>read4</th>\n",
              "      <th>read5</th>\n",
              "      <th>read6</th>\n",
              "      <th>read7</th>\n",
              "      <th>read8</th>\n",
              "      <th>read9</th>\n",
              "      <th>start_timestamp</th>\n",
              "      <th>end_timestamp</th>\n",
              "      <th>inference</th>\n",
              "    </tr>\n",
              "  </thead>\n",
              "  <tbody>\n",
              "    <tr>\n",
              "      <th>0</th>\n",
              "      <td>-0.29, -0.07</td>\n",
              "      <td>0.24, -0.62</td>\n",
              "      <td>-0.29, 0.14</td>\n",
              "      <td>0.1, 0.14</td>\n",
              "      <td>0.41, -0.45</td>\n",
              "      <td>0.41, 0.22</td>\n",
              "      <td>0.36, 0.03</td>\n",
              "      <td>0.37, 0.42</td>\n",
              "      <td>0.19, 0.42</td>\n",
              "      <td>0.19, 0.01</td>\n",
              "      <td>1665656955</td>\n",
              "      <td>1665656967</td>\n",
              "      <td>1</td>\n",
              "    </tr>\n",
              "    <tr>\n",
              "      <th>1</th>\n",
              "      <td>-0.25, -0.04</td>\n",
              "      <td>0.04, 0.19</td>\n",
              "      <td>0.11, 0.19</td>\n",
              "      <td>-0.23, 0.07</td>\n",
              "      <td>-0.23, -0.38</td>\n",
              "      <td>-0.48, -0.37</td>\n",
              "      <td>-0.42, -0.33</td>\n",
              "      <td>-0.23, -0.33</td>\n",
              "      <td>-0.23, -0.2</td>\n",
              "      <td>-0.12, -0.31</td>\n",
              "      <td>1665656968</td>\n",
              "      <td>1665656980</td>\n",
              "      <td>1</td>\n",
              "    </tr>\n",
              "    <tr>\n",
              "      <th>2</th>\n",
              "      <td>-0.59, -0.27</td>\n",
              "      <td>-0.42, -0.27</td>\n",
              "      <td>-0.42, -0.34</td>\n",
              "      <td>-0.35, -0.37</td>\n",
              "      <td>-0.39, -0.36</td>\n",
              "      <td>-0.47, -0.36</td>\n",
              "      <td>-0.12, -0.39</td>\n",
              "      <td>-0.12, -0.06</td>\n",
              "      <td>-0.01, -0.05</td>\n",
              "      <td>-0.11, 0.46</td>\n",
              "      <td>1665656982</td>\n",
              "      <td>1665656994</td>\n",
              "      <td>1</td>\n",
              "    </tr>\n",
              "  </tbody>\n",
              "</table>\n",
              "</div>\n",
              "      <button class=\"colab-df-convert\" onclick=\"convertToInteractive('df-0e03a6d3-90b5-4b66-bd8c-e089513c9793')\"\n",
              "              title=\"Convert this dataframe to an interactive table.\"\n",
              "              style=\"display:none;\">\n",
              "        \n",
              "  <svg xmlns=\"http://www.w3.org/2000/svg\" height=\"24px\"viewBox=\"0 0 24 24\"\n",
              "       width=\"24px\">\n",
              "    <path d=\"M0 0h24v24H0V0z\" fill=\"none\"/>\n",
              "    <path d=\"M18.56 5.44l.94 2.06.94-2.06 2.06-.94-2.06-.94-.94-2.06-.94 2.06-2.06.94zm-11 1L8.5 8.5l.94-2.06 2.06-.94-2.06-.94L8.5 2.5l-.94 2.06-2.06.94zm10 10l.94 2.06.94-2.06 2.06-.94-2.06-.94-.94-2.06-.94 2.06-2.06.94z\"/><path d=\"M17.41 7.96l-1.37-1.37c-.4-.4-.92-.59-1.43-.59-.52 0-1.04.2-1.43.59L10.3 9.45l-7.72 7.72c-.78.78-.78 2.05 0 2.83L4 21.41c.39.39.9.59 1.41.59.51 0 1.02-.2 1.41-.59l7.78-7.78 2.81-2.81c.8-.78.8-2.07 0-2.86zM5.41 20L4 18.59l7.72-7.72 1.47 1.35L5.41 20z\"/>\n",
              "  </svg>\n",
              "      </button>\n",
              "      \n",
              "  <style>\n",
              "    .colab-df-container {\n",
              "      display:flex;\n",
              "      flex-wrap:wrap;\n",
              "      gap: 12px;\n",
              "    }\n",
              "\n",
              "    .colab-df-convert {\n",
              "      background-color: #E8F0FE;\n",
              "      border: none;\n",
              "      border-radius: 50%;\n",
              "      cursor: pointer;\n",
              "      display: none;\n",
              "      fill: #1967D2;\n",
              "      height: 32px;\n",
              "      padding: 0 0 0 0;\n",
              "      width: 32px;\n",
              "    }\n",
              "\n",
              "    .colab-df-convert:hover {\n",
              "      background-color: #E2EBFA;\n",
              "      box-shadow: 0px 1px 2px rgba(60, 64, 67, 0.3), 0px 1px 3px 1px rgba(60, 64, 67, 0.15);\n",
              "      fill: #174EA6;\n",
              "    }\n",
              "\n",
              "    [theme=dark] .colab-df-convert {\n",
              "      background-color: #3B4455;\n",
              "      fill: #D2E3FC;\n",
              "    }\n",
              "\n",
              "    [theme=dark] .colab-df-convert:hover {\n",
              "      background-color: #434B5C;\n",
              "      box-shadow: 0px 1px 3px 1px rgba(0, 0, 0, 0.15);\n",
              "      filter: drop-shadow(0px 1px 2px rgba(0, 0, 0, 0.3));\n",
              "      fill: #FFFFFF;\n",
              "    }\n",
              "  </style>\n",
              "\n",
              "      <script>\n",
              "        const buttonEl =\n",
              "          document.querySelector('#df-0e03a6d3-90b5-4b66-bd8c-e089513c9793 button.colab-df-convert');\n",
              "        buttonEl.style.display =\n",
              "          google.colab.kernel.accessAllowed ? 'block' : 'none';\n",
              "\n",
              "        async function convertToInteractive(key) {\n",
              "          const element = document.querySelector('#df-0e03a6d3-90b5-4b66-bd8c-e089513c9793');\n",
              "          const dataTable =\n",
              "            await google.colab.kernel.invokeFunction('convertToInteractive',\n",
              "                                                     [key], {});\n",
              "          if (!dataTable) return;\n",
              "\n",
              "          const docLinkHtml = 'Like what you see? Visit the ' +\n",
              "            '<a target=\"_blank\" href=https://colab.research.google.com/notebooks/data_table.ipynb>data table notebook</a>'\n",
              "            + ' to learn more about interactive tables.';\n",
              "          element.innerHTML = '';\n",
              "          dataTable['output_type'] = 'display_data';\n",
              "          await google.colab.output.renderOutput(dataTable, element);\n",
              "          const docLink = document.createElement('div');\n",
              "          docLink.innerHTML = docLinkHtml;\n",
              "          element.appendChild(docLink);\n",
              "        }\n",
              "      </script>\n",
              "    </div>\n",
              "  </div>\n",
              "  "
            ]
          },
          "metadata": {},
          "execution_count": 240
        }
      ]
    },
    {
      "cell_type": "markdown",
      "source": [
        "## A função abaixo divide os valores que estão na mesma celula do dataframe, separados por virgulas em colunas diferentes, além de realizar a conversão dos valores para numéricos"
      ],
      "metadata": {
        "id": "bBCihQuS1rmQ"
      }
    },
    {
      "cell_type": "code",
      "source": [
        "COLUMNS_RENAME = ['read0'\t,'read1'\t,'read2'\t,'read3'\t,'read4'\t,'read5'\t,'read6'\t,'read7'\t,'read8'\t,'read9']\n",
        "\n",
        "def new_dataframe(data):\n",
        "\n",
        "  df = pd.DataFrame()\n",
        "\n",
        "  for i in COLUMNS_RENAME:\n",
        "    new_df = data[i].str.split(\",\", expand=True)\n",
        "    new_df.rename(columns = {0:f'{i}0', 1:f'{i}1'}, inplace = True)\n",
        "    \n",
        "    new_df[f'{i}0'] = pd.to_numeric(new_df[f'{i}0'])\n",
        "    new_df[f'{i}1'] = pd.to_numeric(new_df[f'{i}1'])\n",
        "    \n",
        "    df = pd.concat([df, new_df],axis=1)\n",
        "  \n",
        "  return df"
      ],
      "metadata": {
        "id": "c85rUKxPUrbK"
      },
      "execution_count": 241,
      "outputs": []
    },
    {
      "cell_type": "code",
      "source": [
        "new_df = new_dataframe(data_df)"
      ],
      "metadata": {
        "id": "jOeuOMvi2N6F"
      },
      "execution_count": 242,
      "outputs": []
    },
    {
      "cell_type": "markdown",
      "source": [
        "### O dataframe, com os dados limpos, mas sem as novas colunas, tem as suas colunas que agora estão dividas em outro dataframe removidas, deixando apenas as colunas de timestamps e inference no dataframe"
      ],
      "metadata": {
        "id": "fVviZyr32kaG"
      }
    },
    {
      "cell_type": "code",
      "source": [
        "data_df = data_df.drop(COLUMNS_RENAME, axis='columns')\n",
        "data_df.head(2)"
      ],
      "metadata": {
        "colab": {
          "base_uri": "https://localhost:8080/",
          "height": 112
        },
        "id": "sbNI8yrzdhOK",
        "outputId": "b7dc76d3-0faf-44ad-eb32-010cc756777a"
      },
      "execution_count": 243,
      "outputs": [
        {
          "output_type": "execute_result",
          "data": {
            "text/plain": [
              "   start_timestamp  end_timestamp  inference\n",
              "0       1665656955     1665656967          1\n",
              "1       1665656968     1665656980          1"
            ],
            "text/html": [
              "\n",
              "  <div id=\"df-84dd3b3f-9cbf-44af-8b66-689237eddd5d\">\n",
              "    <div class=\"colab-df-container\">\n",
              "      <div>\n",
              "<style scoped>\n",
              "    .dataframe tbody tr th:only-of-type {\n",
              "        vertical-align: middle;\n",
              "    }\n",
              "\n",
              "    .dataframe tbody tr th {\n",
              "        vertical-align: top;\n",
              "    }\n",
              "\n",
              "    .dataframe thead th {\n",
              "        text-align: right;\n",
              "    }\n",
              "</style>\n",
              "<table border=\"1\" class=\"dataframe\">\n",
              "  <thead>\n",
              "    <tr style=\"text-align: right;\">\n",
              "      <th></th>\n",
              "      <th>start_timestamp</th>\n",
              "      <th>end_timestamp</th>\n",
              "      <th>inference</th>\n",
              "    </tr>\n",
              "  </thead>\n",
              "  <tbody>\n",
              "    <tr>\n",
              "      <th>0</th>\n",
              "      <td>1665656955</td>\n",
              "      <td>1665656967</td>\n",
              "      <td>1</td>\n",
              "    </tr>\n",
              "    <tr>\n",
              "      <th>1</th>\n",
              "      <td>1665656968</td>\n",
              "      <td>1665656980</td>\n",
              "      <td>1</td>\n",
              "    </tr>\n",
              "  </tbody>\n",
              "</table>\n",
              "</div>\n",
              "      <button class=\"colab-df-convert\" onclick=\"convertToInteractive('df-84dd3b3f-9cbf-44af-8b66-689237eddd5d')\"\n",
              "              title=\"Convert this dataframe to an interactive table.\"\n",
              "              style=\"display:none;\">\n",
              "        \n",
              "  <svg xmlns=\"http://www.w3.org/2000/svg\" height=\"24px\"viewBox=\"0 0 24 24\"\n",
              "       width=\"24px\">\n",
              "    <path d=\"M0 0h24v24H0V0z\" fill=\"none\"/>\n",
              "    <path d=\"M18.56 5.44l.94 2.06.94-2.06 2.06-.94-2.06-.94-.94-2.06-.94 2.06-2.06.94zm-11 1L8.5 8.5l.94-2.06 2.06-.94-2.06-.94L8.5 2.5l-.94 2.06-2.06.94zm10 10l.94 2.06.94-2.06 2.06-.94-2.06-.94-.94-2.06-.94 2.06-2.06.94z\"/><path d=\"M17.41 7.96l-1.37-1.37c-.4-.4-.92-.59-1.43-.59-.52 0-1.04.2-1.43.59L10.3 9.45l-7.72 7.72c-.78.78-.78 2.05 0 2.83L4 21.41c.39.39.9.59 1.41.59.51 0 1.02-.2 1.41-.59l7.78-7.78 2.81-2.81c.8-.78.8-2.07 0-2.86zM5.41 20L4 18.59l7.72-7.72 1.47 1.35L5.41 20z\"/>\n",
              "  </svg>\n",
              "      </button>\n",
              "      \n",
              "  <style>\n",
              "    .colab-df-container {\n",
              "      display:flex;\n",
              "      flex-wrap:wrap;\n",
              "      gap: 12px;\n",
              "    }\n",
              "\n",
              "    .colab-df-convert {\n",
              "      background-color: #E8F0FE;\n",
              "      border: none;\n",
              "      border-radius: 50%;\n",
              "      cursor: pointer;\n",
              "      display: none;\n",
              "      fill: #1967D2;\n",
              "      height: 32px;\n",
              "      padding: 0 0 0 0;\n",
              "      width: 32px;\n",
              "    }\n",
              "\n",
              "    .colab-df-convert:hover {\n",
              "      background-color: #E2EBFA;\n",
              "      box-shadow: 0px 1px 2px rgba(60, 64, 67, 0.3), 0px 1px 3px 1px rgba(60, 64, 67, 0.15);\n",
              "      fill: #174EA6;\n",
              "    }\n",
              "\n",
              "    [theme=dark] .colab-df-convert {\n",
              "      background-color: #3B4455;\n",
              "      fill: #D2E3FC;\n",
              "    }\n",
              "\n",
              "    [theme=dark] .colab-df-convert:hover {\n",
              "      background-color: #434B5C;\n",
              "      box-shadow: 0px 1px 3px 1px rgba(0, 0, 0, 0.15);\n",
              "      filter: drop-shadow(0px 1px 2px rgba(0, 0, 0, 0.3));\n",
              "      fill: #FFFFFF;\n",
              "    }\n",
              "  </style>\n",
              "\n",
              "      <script>\n",
              "        const buttonEl =\n",
              "          document.querySelector('#df-84dd3b3f-9cbf-44af-8b66-689237eddd5d button.colab-df-convert');\n",
              "        buttonEl.style.display =\n",
              "          google.colab.kernel.accessAllowed ? 'block' : 'none';\n",
              "\n",
              "        async function convertToInteractive(key) {\n",
              "          const element = document.querySelector('#df-84dd3b3f-9cbf-44af-8b66-689237eddd5d');\n",
              "          const dataTable =\n",
              "            await google.colab.kernel.invokeFunction('convertToInteractive',\n",
              "                                                     [key], {});\n",
              "          if (!dataTable) return;\n",
              "\n",
              "          const docLinkHtml = 'Like what you see? Visit the ' +\n",
              "            '<a target=\"_blank\" href=https://colab.research.google.com/notebooks/data_table.ipynb>data table notebook</a>'\n",
              "            + ' to learn more about interactive tables.';\n",
              "          element.innerHTML = '';\n",
              "          dataTable['output_type'] = 'display_data';\n",
              "          await google.colab.output.renderOutput(dataTable, element);\n",
              "          const docLink = document.createElement('div');\n",
              "          docLink.innerHTML = docLinkHtml;\n",
              "          element.appendChild(docLink);\n",
              "        }\n",
              "      </script>\n",
              "    </div>\n",
              "  </div>\n",
              "  "
            ]
          },
          "metadata": {},
          "execution_count": 243
        }
      ]
    },
    {
      "cell_type": "markdown",
      "source": [
        "### Agora é criado um novo dataframe, através da união entre o dataframe com as novas colunas, e o dataframe que possui os timespamps e inference"
      ],
      "metadata": {
        "id": "0bMisEoN2vUD"
      }
    },
    {
      "cell_type": "code",
      "source": [
        "data_df = pd.concat([new_df, data_df],axis=1)\n",
        "data_df.head(2)"
      ],
      "metadata": {
        "colab": {
          "base_uri": "https://localhost:8080/",
          "height": 205
        },
        "id": "rIpvQKIQ2uNO",
        "outputId": "605adfee-7608-4392-d257-80be871bc8c3"
      },
      "execution_count": 244,
      "outputs": [
        {
          "output_type": "execute_result",
          "data": {
            "text/plain": [
              "   read00  read01  read10  read11  read20  read21  read30  read31  read40  \\\n",
              "0   -0.29   -0.07    0.24   -0.62   -0.29    0.14    0.10    0.14    0.41   \n",
              "1   -0.25   -0.04    0.04    0.19    0.11    0.19   -0.23    0.07   -0.23   \n",
              "\n",
              "   read41  ...  read61  read70  read71  read80  read81  read90  read91  \\\n",
              "0   -0.45  ...    0.03    0.37    0.42    0.19    0.42    0.19    0.01   \n",
              "1   -0.38  ...   -0.33   -0.23   -0.33   -0.23   -0.20   -0.12   -0.31   \n",
              "\n",
              "   start_timestamp  end_timestamp  inference  \n",
              "0       1665656955     1665656967          1  \n",
              "1       1665656968     1665656980          1  \n",
              "\n",
              "[2 rows x 23 columns]"
            ],
            "text/html": [
              "\n",
              "  <div id=\"df-6fd1d677-4610-49d9-8afd-4061b97a25df\">\n",
              "    <div class=\"colab-df-container\">\n",
              "      <div>\n",
              "<style scoped>\n",
              "    .dataframe tbody tr th:only-of-type {\n",
              "        vertical-align: middle;\n",
              "    }\n",
              "\n",
              "    .dataframe tbody tr th {\n",
              "        vertical-align: top;\n",
              "    }\n",
              "\n",
              "    .dataframe thead th {\n",
              "        text-align: right;\n",
              "    }\n",
              "</style>\n",
              "<table border=\"1\" class=\"dataframe\">\n",
              "  <thead>\n",
              "    <tr style=\"text-align: right;\">\n",
              "      <th></th>\n",
              "      <th>read00</th>\n",
              "      <th>read01</th>\n",
              "      <th>read10</th>\n",
              "      <th>read11</th>\n",
              "      <th>read20</th>\n",
              "      <th>read21</th>\n",
              "      <th>read30</th>\n",
              "      <th>read31</th>\n",
              "      <th>read40</th>\n",
              "      <th>read41</th>\n",
              "      <th>...</th>\n",
              "      <th>read61</th>\n",
              "      <th>read70</th>\n",
              "      <th>read71</th>\n",
              "      <th>read80</th>\n",
              "      <th>read81</th>\n",
              "      <th>read90</th>\n",
              "      <th>read91</th>\n",
              "      <th>start_timestamp</th>\n",
              "      <th>end_timestamp</th>\n",
              "      <th>inference</th>\n",
              "    </tr>\n",
              "  </thead>\n",
              "  <tbody>\n",
              "    <tr>\n",
              "      <th>0</th>\n",
              "      <td>-0.29</td>\n",
              "      <td>-0.07</td>\n",
              "      <td>0.24</td>\n",
              "      <td>-0.62</td>\n",
              "      <td>-0.29</td>\n",
              "      <td>0.14</td>\n",
              "      <td>0.10</td>\n",
              "      <td>0.14</td>\n",
              "      <td>0.41</td>\n",
              "      <td>-0.45</td>\n",
              "      <td>...</td>\n",
              "      <td>0.03</td>\n",
              "      <td>0.37</td>\n",
              "      <td>0.42</td>\n",
              "      <td>0.19</td>\n",
              "      <td>0.42</td>\n",
              "      <td>0.19</td>\n",
              "      <td>0.01</td>\n",
              "      <td>1665656955</td>\n",
              "      <td>1665656967</td>\n",
              "      <td>1</td>\n",
              "    </tr>\n",
              "    <tr>\n",
              "      <th>1</th>\n",
              "      <td>-0.25</td>\n",
              "      <td>-0.04</td>\n",
              "      <td>0.04</td>\n",
              "      <td>0.19</td>\n",
              "      <td>0.11</td>\n",
              "      <td>0.19</td>\n",
              "      <td>-0.23</td>\n",
              "      <td>0.07</td>\n",
              "      <td>-0.23</td>\n",
              "      <td>-0.38</td>\n",
              "      <td>...</td>\n",
              "      <td>-0.33</td>\n",
              "      <td>-0.23</td>\n",
              "      <td>-0.33</td>\n",
              "      <td>-0.23</td>\n",
              "      <td>-0.20</td>\n",
              "      <td>-0.12</td>\n",
              "      <td>-0.31</td>\n",
              "      <td>1665656968</td>\n",
              "      <td>1665656980</td>\n",
              "      <td>1</td>\n",
              "    </tr>\n",
              "  </tbody>\n",
              "</table>\n",
              "<p>2 rows × 23 columns</p>\n",
              "</div>\n",
              "      <button class=\"colab-df-convert\" onclick=\"convertToInteractive('df-6fd1d677-4610-49d9-8afd-4061b97a25df')\"\n",
              "              title=\"Convert this dataframe to an interactive table.\"\n",
              "              style=\"display:none;\">\n",
              "        \n",
              "  <svg xmlns=\"http://www.w3.org/2000/svg\" height=\"24px\"viewBox=\"0 0 24 24\"\n",
              "       width=\"24px\">\n",
              "    <path d=\"M0 0h24v24H0V0z\" fill=\"none\"/>\n",
              "    <path d=\"M18.56 5.44l.94 2.06.94-2.06 2.06-.94-2.06-.94-.94-2.06-.94 2.06-2.06.94zm-11 1L8.5 8.5l.94-2.06 2.06-.94-2.06-.94L8.5 2.5l-.94 2.06-2.06.94zm10 10l.94 2.06.94-2.06 2.06-.94-2.06-.94-.94-2.06-.94 2.06-2.06.94z\"/><path d=\"M17.41 7.96l-1.37-1.37c-.4-.4-.92-.59-1.43-.59-.52 0-1.04.2-1.43.59L10.3 9.45l-7.72 7.72c-.78.78-.78 2.05 0 2.83L4 21.41c.39.39.9.59 1.41.59.51 0 1.02-.2 1.41-.59l7.78-7.78 2.81-2.81c.8-.78.8-2.07 0-2.86zM5.41 20L4 18.59l7.72-7.72 1.47 1.35L5.41 20z\"/>\n",
              "  </svg>\n",
              "      </button>\n",
              "      \n",
              "  <style>\n",
              "    .colab-df-container {\n",
              "      display:flex;\n",
              "      flex-wrap:wrap;\n",
              "      gap: 12px;\n",
              "    }\n",
              "\n",
              "    .colab-df-convert {\n",
              "      background-color: #E8F0FE;\n",
              "      border: none;\n",
              "      border-radius: 50%;\n",
              "      cursor: pointer;\n",
              "      display: none;\n",
              "      fill: #1967D2;\n",
              "      height: 32px;\n",
              "      padding: 0 0 0 0;\n",
              "      width: 32px;\n",
              "    }\n",
              "\n",
              "    .colab-df-convert:hover {\n",
              "      background-color: #E2EBFA;\n",
              "      box-shadow: 0px 1px 2px rgba(60, 64, 67, 0.3), 0px 1px 3px 1px rgba(60, 64, 67, 0.15);\n",
              "      fill: #174EA6;\n",
              "    }\n",
              "\n",
              "    [theme=dark] .colab-df-convert {\n",
              "      background-color: #3B4455;\n",
              "      fill: #D2E3FC;\n",
              "    }\n",
              "\n",
              "    [theme=dark] .colab-df-convert:hover {\n",
              "      background-color: #434B5C;\n",
              "      box-shadow: 0px 1px 3px 1px rgba(0, 0, 0, 0.15);\n",
              "      filter: drop-shadow(0px 1px 2px rgba(0, 0, 0, 0.3));\n",
              "      fill: #FFFFFF;\n",
              "    }\n",
              "  </style>\n",
              "\n",
              "      <script>\n",
              "        const buttonEl =\n",
              "          document.querySelector('#df-6fd1d677-4610-49d9-8afd-4061b97a25df button.colab-df-convert');\n",
              "        buttonEl.style.display =\n",
              "          google.colab.kernel.accessAllowed ? 'block' : 'none';\n",
              "\n",
              "        async function convertToInteractive(key) {\n",
              "          const element = document.querySelector('#df-6fd1d677-4610-49d9-8afd-4061b97a25df');\n",
              "          const dataTable =\n",
              "            await google.colab.kernel.invokeFunction('convertToInteractive',\n",
              "                                                     [key], {});\n",
              "          if (!dataTable) return;\n",
              "\n",
              "          const docLinkHtml = 'Like what you see? Visit the ' +\n",
              "            '<a target=\"_blank\" href=https://colab.research.google.com/notebooks/data_table.ipynb>data table notebook</a>'\n",
              "            + ' to learn more about interactive tables.';\n",
              "          element.innerHTML = '';\n",
              "          dataTable['output_type'] = 'display_data';\n",
              "          await google.colab.output.renderOutput(dataTable, element);\n",
              "          const docLink = document.createElement('div');\n",
              "          docLink.innerHTML = docLinkHtml;\n",
              "          element.appendChild(docLink);\n",
              "        }\n",
              "      </script>\n",
              "    </div>\n",
              "  </div>\n",
              "  "
            ]
          },
          "metadata": {},
          "execution_count": 244
        }
      ]
    },
    {
      "cell_type": "markdown",
      "source": [
        "## Explorando os dados do novo dataframe"
      ],
      "metadata": {
        "id": "LhMJ_S-A3xya"
      }
    },
    {
      "cell_type": "code",
      "source": [
        "data_df.info()"
      ],
      "metadata": {
        "colab": {
          "base_uri": "https://localhost:8080/"
        },
        "id": "VPbepaPdgsDE",
        "outputId": "0de162ef-22fd-4504-9d09-df76842aa591"
      },
      "execution_count": 245,
      "outputs": [
        {
          "output_type": "stream",
          "name": "stdout",
          "text": [
            "<class 'pandas.core.frame.DataFrame'>\n",
            "RangeIndex: 3515 entries, 0 to 3514\n",
            "Data columns (total 23 columns):\n",
            " #   Column           Non-Null Count  Dtype  \n",
            "---  ------           --------------  -----  \n",
            " 0   read00           3515 non-null   float64\n",
            " 1   read01           3515 non-null   float64\n",
            " 2   read10           3515 non-null   float64\n",
            " 3   read11           3515 non-null   float64\n",
            " 4   read20           3515 non-null   float64\n",
            " 5   read21           3515 non-null   float64\n",
            " 6   read30           3515 non-null   float64\n",
            " 7   read31           3515 non-null   float64\n",
            " 8   read40           3515 non-null   float64\n",
            " 9   read41           3515 non-null   float64\n",
            " 10  read50           3515 non-null   float64\n",
            " 11  read51           3515 non-null   float64\n",
            " 12  read60           3515 non-null   float64\n",
            " 13  read61           3515 non-null   float64\n",
            " 14  read70           3515 non-null   float64\n",
            " 15  read71           3515 non-null   float64\n",
            " 16  read80           3515 non-null   float64\n",
            " 17  read81           3515 non-null   float64\n",
            " 18  read90           3515 non-null   float64\n",
            " 19  read91           3515 non-null   float64\n",
            " 20  start_timestamp  3515 non-null   int64  \n",
            " 21  end_timestamp    3515 non-null   int64  \n",
            " 22  inference        3515 non-null   int64  \n",
            "dtypes: float64(20), int64(3)\n",
            "memory usage: 631.7 KB\n"
          ]
        }
      ]
    },
    {
      "cell_type": "code",
      "source": [
        "data_df.dtypes"
      ],
      "metadata": {
        "colab": {
          "base_uri": "https://localhost:8080/"
        },
        "id": "_ACX9nyUhLgN",
        "outputId": "7f95cf24-9a1f-45dd-cb1f-48ec218c220b"
      },
      "execution_count": 246,
      "outputs": [
        {
          "output_type": "execute_result",
          "data": {
            "text/plain": [
              "read00             float64\n",
              "read01             float64\n",
              "read10             float64\n",
              "read11             float64\n",
              "read20             float64\n",
              "read21             float64\n",
              "read30             float64\n",
              "read31             float64\n",
              "read40             float64\n",
              "read41             float64\n",
              "read50             float64\n",
              "read51             float64\n",
              "read60             float64\n",
              "read61             float64\n",
              "read70             float64\n",
              "read71             float64\n",
              "read80             float64\n",
              "read81             float64\n",
              "read90             float64\n",
              "read91             float64\n",
              "start_timestamp      int64\n",
              "end_timestamp        int64\n",
              "inference            int64\n",
              "dtype: object"
            ]
          },
          "metadata": {},
          "execution_count": 246
        }
      ]
    },
    {
      "cell_type": "markdown",
      "source": [
        "## A função .describe( ), permite verificar dados estatísticos do dataframe"
      ],
      "metadata": {
        "id": "IhizrWIk34h_"
      }
    },
    {
      "cell_type": "code",
      "source": [
        "data_df.describe()"
      ],
      "metadata": {
        "colab": {
          "base_uri": "https://localhost:8080/",
          "height": 394
        },
        "id": "jP-813q6kkt3",
        "outputId": "cba2b519-5389-4761-9b9c-81fe93cda12f"
      },
      "execution_count": 247,
      "outputs": [
        {
          "output_type": "execute_result",
          "data": {
            "text/plain": [
              "            read00       read01      read10       read11       read20  \\\n",
              "count  3515.000000  3515.000000  3515.00000  3515.000000  3515.000000   \n",
              "mean      0.068506    -0.303587     0.07043    -0.311300     0.070788   \n",
              "std       0.719141     0.765685     0.71870     0.763332     0.715149   \n",
              "min      -1.270000    -1.270000    -1.27000    -1.270000    -1.270000   \n",
              "25%      -0.430000    -0.950000    -0.43000    -0.950000    -0.420000   \n",
              "50%       0.010000    -0.500000     0.03000    -0.510000     0.030000   \n",
              "75%       0.660000     0.295000     0.67000     0.290000     0.660000   \n",
              "max       1.280000     1.280000     1.28000     1.280000     1.280000   \n",
              "\n",
              "            read21       read30       read31       read40       read41  ...  \\\n",
              "count  3515.000000  3515.000000  3515.000000  3515.000000  3515.000000  ...   \n",
              "mean     -0.311292     0.072193    -0.304609     0.068583    -0.310156  ...   \n",
              "std       0.765938     0.717160     0.767316     0.715274     0.767252  ...   \n",
              "min      -1.270000    -1.270000    -1.270000    -1.270000    -1.270000  ...   \n",
              "25%      -0.950000    -0.430000    -0.940000    -0.430000    -0.950000  ...   \n",
              "50%      -0.510000     0.030000    -0.510000     0.020000    -0.510000  ...   \n",
              "75%       0.290000     0.670000     0.300000     0.670000     0.290000  ...   \n",
              "max       1.280000     1.280000     1.280000     1.280000     1.280000  ...   \n",
              "\n",
              "            read61       read70       read71       read80       read81  \\\n",
              "count  3515.000000  3515.000000  3515.000000  3515.000000  3515.000000   \n",
              "mean     -0.307582     0.083050    -0.310640     0.086313    -0.309832   \n",
              "std       0.764617     0.715933     0.765227     0.718966     0.761471   \n",
              "min      -1.270000    -1.270000    -1.270000    -1.270000    -1.270000   \n",
              "25%      -0.950000    -0.415000    -0.950000    -0.420000    -0.950000   \n",
              "50%      -0.510000     0.040000    -0.490000     0.030000    -0.490000   \n",
              "75%       0.300000     0.680000     0.290000     0.680000     0.285000   \n",
              "max       1.280000     1.280000     1.280000     1.280000     1.280000   \n",
              "\n",
              "            read90       read91  start_timestamp  end_timestamp    inference  \n",
              "count  3515.000000  3515.000000     3.515000e+03   3.515000e+03  3515.000000  \n",
              "mean      0.080834    -0.303312     1.673222e+09   1.673222e+09     0.565861  \n",
              "std       0.714136     0.767372     2.356191e+06   2.356191e+06     0.495714  \n",
              "min      -1.270000    -1.270000     1.665657e+09   1.665657e+09     0.000000  \n",
              "25%      -0.420000    -0.950000     1.673362e+09   1.673362e+09     0.000000  \n",
              "50%       0.030000    -0.480000     1.674051e+09   1.674051e+09     1.000000  \n",
              "75%       0.665000     0.305000     1.674225e+09   1.674225e+09     1.000000  \n",
              "max       1.280000     1.280000     1.674812e+09   1.674812e+09     1.000000  \n",
              "\n",
              "[8 rows x 23 columns]"
            ],
            "text/html": [
              "\n",
              "  <div id=\"df-f11e650f-e0ed-472a-8ebc-583f134998cd\">\n",
              "    <div class=\"colab-df-container\">\n",
              "      <div>\n",
              "<style scoped>\n",
              "    .dataframe tbody tr th:only-of-type {\n",
              "        vertical-align: middle;\n",
              "    }\n",
              "\n",
              "    .dataframe tbody tr th {\n",
              "        vertical-align: top;\n",
              "    }\n",
              "\n",
              "    .dataframe thead th {\n",
              "        text-align: right;\n",
              "    }\n",
              "</style>\n",
              "<table border=\"1\" class=\"dataframe\">\n",
              "  <thead>\n",
              "    <tr style=\"text-align: right;\">\n",
              "      <th></th>\n",
              "      <th>read00</th>\n",
              "      <th>read01</th>\n",
              "      <th>read10</th>\n",
              "      <th>read11</th>\n",
              "      <th>read20</th>\n",
              "      <th>read21</th>\n",
              "      <th>read30</th>\n",
              "      <th>read31</th>\n",
              "      <th>read40</th>\n",
              "      <th>read41</th>\n",
              "      <th>...</th>\n",
              "      <th>read61</th>\n",
              "      <th>read70</th>\n",
              "      <th>read71</th>\n",
              "      <th>read80</th>\n",
              "      <th>read81</th>\n",
              "      <th>read90</th>\n",
              "      <th>read91</th>\n",
              "      <th>start_timestamp</th>\n",
              "      <th>end_timestamp</th>\n",
              "      <th>inference</th>\n",
              "    </tr>\n",
              "  </thead>\n",
              "  <tbody>\n",
              "    <tr>\n",
              "      <th>count</th>\n",
              "      <td>3515.000000</td>\n",
              "      <td>3515.000000</td>\n",
              "      <td>3515.00000</td>\n",
              "      <td>3515.000000</td>\n",
              "      <td>3515.000000</td>\n",
              "      <td>3515.000000</td>\n",
              "      <td>3515.000000</td>\n",
              "      <td>3515.000000</td>\n",
              "      <td>3515.000000</td>\n",
              "      <td>3515.000000</td>\n",
              "      <td>...</td>\n",
              "      <td>3515.000000</td>\n",
              "      <td>3515.000000</td>\n",
              "      <td>3515.000000</td>\n",
              "      <td>3515.000000</td>\n",
              "      <td>3515.000000</td>\n",
              "      <td>3515.000000</td>\n",
              "      <td>3515.000000</td>\n",
              "      <td>3.515000e+03</td>\n",
              "      <td>3.515000e+03</td>\n",
              "      <td>3515.000000</td>\n",
              "    </tr>\n",
              "    <tr>\n",
              "      <th>mean</th>\n",
              "      <td>0.068506</td>\n",
              "      <td>-0.303587</td>\n",
              "      <td>0.07043</td>\n",
              "      <td>-0.311300</td>\n",
              "      <td>0.070788</td>\n",
              "      <td>-0.311292</td>\n",
              "      <td>0.072193</td>\n",
              "      <td>-0.304609</td>\n",
              "      <td>0.068583</td>\n",
              "      <td>-0.310156</td>\n",
              "      <td>...</td>\n",
              "      <td>-0.307582</td>\n",
              "      <td>0.083050</td>\n",
              "      <td>-0.310640</td>\n",
              "      <td>0.086313</td>\n",
              "      <td>-0.309832</td>\n",
              "      <td>0.080834</td>\n",
              "      <td>-0.303312</td>\n",
              "      <td>1.673222e+09</td>\n",
              "      <td>1.673222e+09</td>\n",
              "      <td>0.565861</td>\n",
              "    </tr>\n",
              "    <tr>\n",
              "      <th>std</th>\n",
              "      <td>0.719141</td>\n",
              "      <td>0.765685</td>\n",
              "      <td>0.71870</td>\n",
              "      <td>0.763332</td>\n",
              "      <td>0.715149</td>\n",
              "      <td>0.765938</td>\n",
              "      <td>0.717160</td>\n",
              "      <td>0.767316</td>\n",
              "      <td>0.715274</td>\n",
              "      <td>0.767252</td>\n",
              "      <td>...</td>\n",
              "      <td>0.764617</td>\n",
              "      <td>0.715933</td>\n",
              "      <td>0.765227</td>\n",
              "      <td>0.718966</td>\n",
              "      <td>0.761471</td>\n",
              "      <td>0.714136</td>\n",
              "      <td>0.767372</td>\n",
              "      <td>2.356191e+06</td>\n",
              "      <td>2.356191e+06</td>\n",
              "      <td>0.495714</td>\n",
              "    </tr>\n",
              "    <tr>\n",
              "      <th>min</th>\n",
              "      <td>-1.270000</td>\n",
              "      <td>-1.270000</td>\n",
              "      <td>-1.27000</td>\n",
              "      <td>-1.270000</td>\n",
              "      <td>-1.270000</td>\n",
              "      <td>-1.270000</td>\n",
              "      <td>-1.270000</td>\n",
              "      <td>-1.270000</td>\n",
              "      <td>-1.270000</td>\n",
              "      <td>-1.270000</td>\n",
              "      <td>...</td>\n",
              "      <td>-1.270000</td>\n",
              "      <td>-1.270000</td>\n",
              "      <td>-1.270000</td>\n",
              "      <td>-1.270000</td>\n",
              "      <td>-1.270000</td>\n",
              "      <td>-1.270000</td>\n",
              "      <td>-1.270000</td>\n",
              "      <td>1.665657e+09</td>\n",
              "      <td>1.665657e+09</td>\n",
              "      <td>0.000000</td>\n",
              "    </tr>\n",
              "    <tr>\n",
              "      <th>25%</th>\n",
              "      <td>-0.430000</td>\n",
              "      <td>-0.950000</td>\n",
              "      <td>-0.43000</td>\n",
              "      <td>-0.950000</td>\n",
              "      <td>-0.420000</td>\n",
              "      <td>-0.950000</td>\n",
              "      <td>-0.430000</td>\n",
              "      <td>-0.940000</td>\n",
              "      <td>-0.430000</td>\n",
              "      <td>-0.950000</td>\n",
              "      <td>...</td>\n",
              "      <td>-0.950000</td>\n",
              "      <td>-0.415000</td>\n",
              "      <td>-0.950000</td>\n",
              "      <td>-0.420000</td>\n",
              "      <td>-0.950000</td>\n",
              "      <td>-0.420000</td>\n",
              "      <td>-0.950000</td>\n",
              "      <td>1.673362e+09</td>\n",
              "      <td>1.673362e+09</td>\n",
              "      <td>0.000000</td>\n",
              "    </tr>\n",
              "    <tr>\n",
              "      <th>50%</th>\n",
              "      <td>0.010000</td>\n",
              "      <td>-0.500000</td>\n",
              "      <td>0.03000</td>\n",
              "      <td>-0.510000</td>\n",
              "      <td>0.030000</td>\n",
              "      <td>-0.510000</td>\n",
              "      <td>0.030000</td>\n",
              "      <td>-0.510000</td>\n",
              "      <td>0.020000</td>\n",
              "      <td>-0.510000</td>\n",
              "      <td>...</td>\n",
              "      <td>-0.510000</td>\n",
              "      <td>0.040000</td>\n",
              "      <td>-0.490000</td>\n",
              "      <td>0.030000</td>\n",
              "      <td>-0.490000</td>\n",
              "      <td>0.030000</td>\n",
              "      <td>-0.480000</td>\n",
              "      <td>1.674051e+09</td>\n",
              "      <td>1.674051e+09</td>\n",
              "      <td>1.000000</td>\n",
              "    </tr>\n",
              "    <tr>\n",
              "      <th>75%</th>\n",
              "      <td>0.660000</td>\n",
              "      <td>0.295000</td>\n",
              "      <td>0.67000</td>\n",
              "      <td>0.290000</td>\n",
              "      <td>0.660000</td>\n",
              "      <td>0.290000</td>\n",
              "      <td>0.670000</td>\n",
              "      <td>0.300000</td>\n",
              "      <td>0.670000</td>\n",
              "      <td>0.290000</td>\n",
              "      <td>...</td>\n",
              "      <td>0.300000</td>\n",
              "      <td>0.680000</td>\n",
              "      <td>0.290000</td>\n",
              "      <td>0.680000</td>\n",
              "      <td>0.285000</td>\n",
              "      <td>0.665000</td>\n",
              "      <td>0.305000</td>\n",
              "      <td>1.674225e+09</td>\n",
              "      <td>1.674225e+09</td>\n",
              "      <td>1.000000</td>\n",
              "    </tr>\n",
              "    <tr>\n",
              "      <th>max</th>\n",
              "      <td>1.280000</td>\n",
              "      <td>1.280000</td>\n",
              "      <td>1.28000</td>\n",
              "      <td>1.280000</td>\n",
              "      <td>1.280000</td>\n",
              "      <td>1.280000</td>\n",
              "      <td>1.280000</td>\n",
              "      <td>1.280000</td>\n",
              "      <td>1.280000</td>\n",
              "      <td>1.280000</td>\n",
              "      <td>...</td>\n",
              "      <td>1.280000</td>\n",
              "      <td>1.280000</td>\n",
              "      <td>1.280000</td>\n",
              "      <td>1.280000</td>\n",
              "      <td>1.280000</td>\n",
              "      <td>1.280000</td>\n",
              "      <td>1.280000</td>\n",
              "      <td>1.674812e+09</td>\n",
              "      <td>1.674812e+09</td>\n",
              "      <td>1.000000</td>\n",
              "    </tr>\n",
              "  </tbody>\n",
              "</table>\n",
              "<p>8 rows × 23 columns</p>\n",
              "</div>\n",
              "      <button class=\"colab-df-convert\" onclick=\"convertToInteractive('df-f11e650f-e0ed-472a-8ebc-583f134998cd')\"\n",
              "              title=\"Convert this dataframe to an interactive table.\"\n",
              "              style=\"display:none;\">\n",
              "        \n",
              "  <svg xmlns=\"http://www.w3.org/2000/svg\" height=\"24px\"viewBox=\"0 0 24 24\"\n",
              "       width=\"24px\">\n",
              "    <path d=\"M0 0h24v24H0V0z\" fill=\"none\"/>\n",
              "    <path d=\"M18.56 5.44l.94 2.06.94-2.06 2.06-.94-2.06-.94-.94-2.06-.94 2.06-2.06.94zm-11 1L8.5 8.5l.94-2.06 2.06-.94-2.06-.94L8.5 2.5l-.94 2.06-2.06.94zm10 10l.94 2.06.94-2.06 2.06-.94-2.06-.94-.94-2.06-.94 2.06-2.06.94z\"/><path d=\"M17.41 7.96l-1.37-1.37c-.4-.4-.92-.59-1.43-.59-.52 0-1.04.2-1.43.59L10.3 9.45l-7.72 7.72c-.78.78-.78 2.05 0 2.83L4 21.41c.39.39.9.59 1.41.59.51 0 1.02-.2 1.41-.59l7.78-7.78 2.81-2.81c.8-.78.8-2.07 0-2.86zM5.41 20L4 18.59l7.72-7.72 1.47 1.35L5.41 20z\"/>\n",
              "  </svg>\n",
              "      </button>\n",
              "      \n",
              "  <style>\n",
              "    .colab-df-container {\n",
              "      display:flex;\n",
              "      flex-wrap:wrap;\n",
              "      gap: 12px;\n",
              "    }\n",
              "\n",
              "    .colab-df-convert {\n",
              "      background-color: #E8F0FE;\n",
              "      border: none;\n",
              "      border-radius: 50%;\n",
              "      cursor: pointer;\n",
              "      display: none;\n",
              "      fill: #1967D2;\n",
              "      height: 32px;\n",
              "      padding: 0 0 0 0;\n",
              "      width: 32px;\n",
              "    }\n",
              "\n",
              "    .colab-df-convert:hover {\n",
              "      background-color: #E2EBFA;\n",
              "      box-shadow: 0px 1px 2px rgba(60, 64, 67, 0.3), 0px 1px 3px 1px rgba(60, 64, 67, 0.15);\n",
              "      fill: #174EA6;\n",
              "    }\n",
              "\n",
              "    [theme=dark] .colab-df-convert {\n",
              "      background-color: #3B4455;\n",
              "      fill: #D2E3FC;\n",
              "    }\n",
              "\n",
              "    [theme=dark] .colab-df-convert:hover {\n",
              "      background-color: #434B5C;\n",
              "      box-shadow: 0px 1px 3px 1px rgba(0, 0, 0, 0.15);\n",
              "      filter: drop-shadow(0px 1px 2px rgba(0, 0, 0, 0.3));\n",
              "      fill: #FFFFFF;\n",
              "    }\n",
              "  </style>\n",
              "\n",
              "      <script>\n",
              "        const buttonEl =\n",
              "          document.querySelector('#df-f11e650f-e0ed-472a-8ebc-583f134998cd button.colab-df-convert');\n",
              "        buttonEl.style.display =\n",
              "          google.colab.kernel.accessAllowed ? 'block' : 'none';\n",
              "\n",
              "        async function convertToInteractive(key) {\n",
              "          const element = document.querySelector('#df-f11e650f-e0ed-472a-8ebc-583f134998cd');\n",
              "          const dataTable =\n",
              "            await google.colab.kernel.invokeFunction('convertToInteractive',\n",
              "                                                     [key], {});\n",
              "          if (!dataTable) return;\n",
              "\n",
              "          const docLinkHtml = 'Like what you see? Visit the ' +\n",
              "            '<a target=\"_blank\" href=https://colab.research.google.com/notebooks/data_table.ipynb>data table notebook</a>'\n",
              "            + ' to learn more about interactive tables.';\n",
              "          element.innerHTML = '';\n",
              "          dataTable['output_type'] = 'display_data';\n",
              "          await google.colab.output.renderOutput(dataTable, element);\n",
              "          const docLink = document.createElement('div');\n",
              "          docLink.innerHTML = docLinkHtml;\n",
              "          element.appendChild(docLink);\n",
              "        }\n",
              "      </script>\n",
              "    </div>\n",
              "  </div>\n",
              "  "
            ]
          },
          "metadata": {},
          "execution_count": 247
        }
      ]
    },
    {
      "cell_type": "markdown",
      "source": [
        "## Verificando se há valores nulos no dataframe"
      ],
      "metadata": {
        "id": "u-bhOe1m2kV6"
      }
    },
    {
      "cell_type": "code",
      "source": [
        "data_df.isnull().sum()"
      ],
      "metadata": {
        "colab": {
          "base_uri": "https://localhost:8080/"
        },
        "id": "OFCQosmO156F",
        "outputId": "ed1d4a41-3ab3-48d1-a83e-ff9ba0ea328d"
      },
      "execution_count": 248,
      "outputs": [
        {
          "output_type": "execute_result",
          "data": {
            "text/plain": [
              "read00             0\n",
              "read01             0\n",
              "read10             0\n",
              "read11             0\n",
              "read20             0\n",
              "read21             0\n",
              "read30             0\n",
              "read31             0\n",
              "read40             0\n",
              "read41             0\n",
              "read50             0\n",
              "read51             0\n",
              "read60             0\n",
              "read61             0\n",
              "read70             0\n",
              "read71             0\n",
              "read80             0\n",
              "read81             0\n",
              "read90             0\n",
              "read91             0\n",
              "start_timestamp    0\n",
              "end_timestamp      0\n",
              "inference          0\n",
              "dtype: int64"
            ]
          },
          "metadata": {},
          "execution_count": 248
        }
      ]
    },
    {
      "cell_type": "markdown",
      "source": [
        "## Verificando os ultimos valores do dataframe"
      ],
      "metadata": {
        "id": "q0Pja7qKYhGU"
      }
    },
    {
      "cell_type": "code",
      "source": [
        "data_df.tail()"
      ],
      "metadata": {
        "colab": {
          "base_uri": "https://localhost:8080/",
          "height": 300
        },
        "id": "tY84ALnyfRx5",
        "outputId": "c0b78412-526b-480e-858c-cfa248bb3897"
      },
      "execution_count": 249,
      "outputs": [
        {
          "output_type": "execute_result",
          "data": {
            "text/plain": [
              "      read00  read01  read10  read11  read20  read21  read30  read31  read40  \\\n",
              "3510    0.08   -1.27    0.07   -1.27    0.07   -1.27    0.08   -1.27    0.08   \n",
              "3511    0.02   -1.27    0.25   -1.27    0.18   -1.27    0.17   -1.27    0.19   \n",
              "3512   -0.04   -1.27    0.03   -1.27    0.02   -1.27    0.02   -1.27    0.00   \n",
              "3513   -0.09   -1.18    0.14   -1.27    0.16   -1.27    0.15   -1.27    0.14   \n",
              "3514    0.15   -1.27    0.15   -1.27    0.14   -1.27    0.15   -1.27    0.14   \n",
              "\n",
              "      read41  ...  read61  read70  read71  read80  read81  read90  read91  \\\n",
              "3510   -1.27  ...   -1.27    0.10   -1.27    0.08   -1.27    0.09   -1.27   \n",
              "3511   -1.27  ...   -1.27    0.06   -1.14   -1.18   -0.71   -0.35   -1.27   \n",
              "3512   -1.27  ...   -1.27    0.01   -1.27    0.01   -1.27   -0.80   -1.07   \n",
              "3513   -1.27  ...   -1.27    0.15   -1.27    0.15   -1.27    0.15   -1.27   \n",
              "3514   -1.27  ...   -1.27    0.09   -1.27    0.07   -1.27    0.04   -1.27   \n",
              "\n",
              "      start_timestamp  end_timestamp  inference  \n",
              "3510       1674811711     1674811723          0  \n",
              "3511       1674811725     1674811737          1  \n",
              "3512       1674811654     1674811667          1  \n",
              "3513       1674811669     1674811681          1  \n",
              "3514       1674811683     1674811695          0  \n",
              "\n",
              "[5 rows x 23 columns]"
            ],
            "text/html": [
              "\n",
              "  <div id=\"df-8d3f0791-48b1-45ac-af77-7f452dfe6397\">\n",
              "    <div class=\"colab-df-container\">\n",
              "      <div>\n",
              "<style scoped>\n",
              "    .dataframe tbody tr th:only-of-type {\n",
              "        vertical-align: middle;\n",
              "    }\n",
              "\n",
              "    .dataframe tbody tr th {\n",
              "        vertical-align: top;\n",
              "    }\n",
              "\n",
              "    .dataframe thead th {\n",
              "        text-align: right;\n",
              "    }\n",
              "</style>\n",
              "<table border=\"1\" class=\"dataframe\">\n",
              "  <thead>\n",
              "    <tr style=\"text-align: right;\">\n",
              "      <th></th>\n",
              "      <th>read00</th>\n",
              "      <th>read01</th>\n",
              "      <th>read10</th>\n",
              "      <th>read11</th>\n",
              "      <th>read20</th>\n",
              "      <th>read21</th>\n",
              "      <th>read30</th>\n",
              "      <th>read31</th>\n",
              "      <th>read40</th>\n",
              "      <th>read41</th>\n",
              "      <th>...</th>\n",
              "      <th>read61</th>\n",
              "      <th>read70</th>\n",
              "      <th>read71</th>\n",
              "      <th>read80</th>\n",
              "      <th>read81</th>\n",
              "      <th>read90</th>\n",
              "      <th>read91</th>\n",
              "      <th>start_timestamp</th>\n",
              "      <th>end_timestamp</th>\n",
              "      <th>inference</th>\n",
              "    </tr>\n",
              "  </thead>\n",
              "  <tbody>\n",
              "    <tr>\n",
              "      <th>3510</th>\n",
              "      <td>0.08</td>\n",
              "      <td>-1.27</td>\n",
              "      <td>0.07</td>\n",
              "      <td>-1.27</td>\n",
              "      <td>0.07</td>\n",
              "      <td>-1.27</td>\n",
              "      <td>0.08</td>\n",
              "      <td>-1.27</td>\n",
              "      <td>0.08</td>\n",
              "      <td>-1.27</td>\n",
              "      <td>...</td>\n",
              "      <td>-1.27</td>\n",
              "      <td>0.10</td>\n",
              "      <td>-1.27</td>\n",
              "      <td>0.08</td>\n",
              "      <td>-1.27</td>\n",
              "      <td>0.09</td>\n",
              "      <td>-1.27</td>\n",
              "      <td>1674811711</td>\n",
              "      <td>1674811723</td>\n",
              "      <td>0</td>\n",
              "    </tr>\n",
              "    <tr>\n",
              "      <th>3511</th>\n",
              "      <td>0.02</td>\n",
              "      <td>-1.27</td>\n",
              "      <td>0.25</td>\n",
              "      <td>-1.27</td>\n",
              "      <td>0.18</td>\n",
              "      <td>-1.27</td>\n",
              "      <td>0.17</td>\n",
              "      <td>-1.27</td>\n",
              "      <td>0.19</td>\n",
              "      <td>-1.27</td>\n",
              "      <td>...</td>\n",
              "      <td>-1.27</td>\n",
              "      <td>0.06</td>\n",
              "      <td>-1.14</td>\n",
              "      <td>-1.18</td>\n",
              "      <td>-0.71</td>\n",
              "      <td>-0.35</td>\n",
              "      <td>-1.27</td>\n",
              "      <td>1674811725</td>\n",
              "      <td>1674811737</td>\n",
              "      <td>1</td>\n",
              "    </tr>\n",
              "    <tr>\n",
              "      <th>3512</th>\n",
              "      <td>-0.04</td>\n",
              "      <td>-1.27</td>\n",
              "      <td>0.03</td>\n",
              "      <td>-1.27</td>\n",
              "      <td>0.02</td>\n",
              "      <td>-1.27</td>\n",
              "      <td>0.02</td>\n",
              "      <td>-1.27</td>\n",
              "      <td>0.00</td>\n",
              "      <td>-1.27</td>\n",
              "      <td>...</td>\n",
              "      <td>-1.27</td>\n",
              "      <td>0.01</td>\n",
              "      <td>-1.27</td>\n",
              "      <td>0.01</td>\n",
              "      <td>-1.27</td>\n",
              "      <td>-0.80</td>\n",
              "      <td>-1.07</td>\n",
              "      <td>1674811654</td>\n",
              "      <td>1674811667</td>\n",
              "      <td>1</td>\n",
              "    </tr>\n",
              "    <tr>\n",
              "      <th>3513</th>\n",
              "      <td>-0.09</td>\n",
              "      <td>-1.18</td>\n",
              "      <td>0.14</td>\n",
              "      <td>-1.27</td>\n",
              "      <td>0.16</td>\n",
              "      <td>-1.27</td>\n",
              "      <td>0.15</td>\n",
              "      <td>-1.27</td>\n",
              "      <td>0.14</td>\n",
              "      <td>-1.27</td>\n",
              "      <td>...</td>\n",
              "      <td>-1.27</td>\n",
              "      <td>0.15</td>\n",
              "      <td>-1.27</td>\n",
              "      <td>0.15</td>\n",
              "      <td>-1.27</td>\n",
              "      <td>0.15</td>\n",
              "      <td>-1.27</td>\n",
              "      <td>1674811669</td>\n",
              "      <td>1674811681</td>\n",
              "      <td>1</td>\n",
              "    </tr>\n",
              "    <tr>\n",
              "      <th>3514</th>\n",
              "      <td>0.15</td>\n",
              "      <td>-1.27</td>\n",
              "      <td>0.15</td>\n",
              "      <td>-1.27</td>\n",
              "      <td>0.14</td>\n",
              "      <td>-1.27</td>\n",
              "      <td>0.15</td>\n",
              "      <td>-1.27</td>\n",
              "      <td>0.14</td>\n",
              "      <td>-1.27</td>\n",
              "      <td>...</td>\n",
              "      <td>-1.27</td>\n",
              "      <td>0.09</td>\n",
              "      <td>-1.27</td>\n",
              "      <td>0.07</td>\n",
              "      <td>-1.27</td>\n",
              "      <td>0.04</td>\n",
              "      <td>-1.27</td>\n",
              "      <td>1674811683</td>\n",
              "      <td>1674811695</td>\n",
              "      <td>0</td>\n",
              "    </tr>\n",
              "  </tbody>\n",
              "</table>\n",
              "<p>5 rows × 23 columns</p>\n",
              "</div>\n",
              "      <button class=\"colab-df-convert\" onclick=\"convertToInteractive('df-8d3f0791-48b1-45ac-af77-7f452dfe6397')\"\n",
              "              title=\"Convert this dataframe to an interactive table.\"\n",
              "              style=\"display:none;\">\n",
              "        \n",
              "  <svg xmlns=\"http://www.w3.org/2000/svg\" height=\"24px\"viewBox=\"0 0 24 24\"\n",
              "       width=\"24px\">\n",
              "    <path d=\"M0 0h24v24H0V0z\" fill=\"none\"/>\n",
              "    <path d=\"M18.56 5.44l.94 2.06.94-2.06 2.06-.94-2.06-.94-.94-2.06-.94 2.06-2.06.94zm-11 1L8.5 8.5l.94-2.06 2.06-.94-2.06-.94L8.5 2.5l-.94 2.06-2.06.94zm10 10l.94 2.06.94-2.06 2.06-.94-2.06-.94-.94-2.06-.94 2.06-2.06.94z\"/><path d=\"M17.41 7.96l-1.37-1.37c-.4-.4-.92-.59-1.43-.59-.52 0-1.04.2-1.43.59L10.3 9.45l-7.72 7.72c-.78.78-.78 2.05 0 2.83L4 21.41c.39.39.9.59 1.41.59.51 0 1.02-.2 1.41-.59l7.78-7.78 2.81-2.81c.8-.78.8-2.07 0-2.86zM5.41 20L4 18.59l7.72-7.72 1.47 1.35L5.41 20z\"/>\n",
              "  </svg>\n",
              "      </button>\n",
              "      \n",
              "  <style>\n",
              "    .colab-df-container {\n",
              "      display:flex;\n",
              "      flex-wrap:wrap;\n",
              "      gap: 12px;\n",
              "    }\n",
              "\n",
              "    .colab-df-convert {\n",
              "      background-color: #E8F0FE;\n",
              "      border: none;\n",
              "      border-radius: 50%;\n",
              "      cursor: pointer;\n",
              "      display: none;\n",
              "      fill: #1967D2;\n",
              "      height: 32px;\n",
              "      padding: 0 0 0 0;\n",
              "      width: 32px;\n",
              "    }\n",
              "\n",
              "    .colab-df-convert:hover {\n",
              "      background-color: #E2EBFA;\n",
              "      box-shadow: 0px 1px 2px rgba(60, 64, 67, 0.3), 0px 1px 3px 1px rgba(60, 64, 67, 0.15);\n",
              "      fill: #174EA6;\n",
              "    }\n",
              "\n",
              "    [theme=dark] .colab-df-convert {\n",
              "      background-color: #3B4455;\n",
              "      fill: #D2E3FC;\n",
              "    }\n",
              "\n",
              "    [theme=dark] .colab-df-convert:hover {\n",
              "      background-color: #434B5C;\n",
              "      box-shadow: 0px 1px 3px 1px rgba(0, 0, 0, 0.15);\n",
              "      filter: drop-shadow(0px 1px 2px rgba(0, 0, 0, 0.3));\n",
              "      fill: #FFFFFF;\n",
              "    }\n",
              "  </style>\n",
              "\n",
              "      <script>\n",
              "        const buttonEl =\n",
              "          document.querySelector('#df-8d3f0791-48b1-45ac-af77-7f452dfe6397 button.colab-df-convert');\n",
              "        buttonEl.style.display =\n",
              "          google.colab.kernel.accessAllowed ? 'block' : 'none';\n",
              "\n",
              "        async function convertToInteractive(key) {\n",
              "          const element = document.querySelector('#df-8d3f0791-48b1-45ac-af77-7f452dfe6397');\n",
              "          const dataTable =\n",
              "            await google.colab.kernel.invokeFunction('convertToInteractive',\n",
              "                                                     [key], {});\n",
              "          if (!dataTable) return;\n",
              "\n",
              "          const docLinkHtml = 'Like what you see? Visit the ' +\n",
              "            '<a target=\"_blank\" href=https://colab.research.google.com/notebooks/data_table.ipynb>data table notebook</a>'\n",
              "            + ' to learn more about interactive tables.';\n",
              "          element.innerHTML = '';\n",
              "          dataTable['output_type'] = 'display_data';\n",
              "          await google.colab.output.renderOutput(dataTable, element);\n",
              "          const docLink = document.createElement('div');\n",
              "          docLink.innerHTML = docLinkHtml;\n",
              "          element.appendChild(docLink);\n",
              "        }\n",
              "      </script>\n",
              "    </div>\n",
              "  </div>\n",
              "  "
            ]
          },
          "metadata": {},
          "execution_count": 249
        }
      ]
    },
    {
      "cell_type": "markdown",
      "source": [
        "## Verificando as labels do dataframe"
      ],
      "metadata": {
        "id": "U0x68kdiYm56"
      }
    },
    {
      "cell_type": "code",
      "source": [
        "np.unique(data_df['inference'], return_counts=True)"
      ],
      "metadata": {
        "colab": {
          "base_uri": "https://localhost:8080/"
        },
        "id": "EyY62xRdw7QS",
        "outputId": "83113331-d718-4471-e1c8-7549d9636867"
      },
      "execution_count": 250,
      "outputs": [
        {
          "output_type": "execute_result",
          "data": {
            "text/plain": [
              "(array([0, 1]), array([1526, 1989]))"
            ]
          },
          "metadata": {},
          "execution_count": 250
        }
      ]
    },
    {
      "cell_type": "markdown",
      "source": [
        "## Gráficos de exploração dos dados"
      ],
      "metadata": {
        "id": "0bly6CdZ4Jyk"
      }
    },
    {
      "cell_type": "code",
      "source": [
        "sns.countplot(x=data_df['inference']);"
      ],
      "metadata": {
        "colab": {
          "base_uri": "https://localhost:8080/",
          "height": 361
        },
        "id": "KgUCW6gWxXQb",
        "outputId": "9425bdd8-7eef-4c9f-f7f2-6842b0acf6c9"
      },
      "execution_count": 251,
      "outputs": [
        {
          "output_type": "display_data",
          "data": {
            "text/plain": [
              "<Figure size 576x396 with 1 Axes>"
            ],
            "image/png": "[encoded data removed]"
          },
          "metadata": {}
        }
      ]
    },
    {
      "cell_type": "code",
      "source": [
        "plt.hist(x=data_df['read00']);"
      ],
      "metadata": {
        "colab": {
          "base_uri": "https://localhost:8080/",
          "height": 347
        },
        "id": "O2ABL_H4xyPc",
        "outputId": "f16a1bd5-1a7b-413f-bd31-a17e9f5d524c"
      },
      "execution_count": 252,
      "outputs": [
        {
          "output_type": "display_data",
          "data": {
            "text/plain": [
              "<Figure size 576x396 with 1 Axes>"
            ],
            "image/png": "[encoded data removed]"
          },
          "metadata": {}
        }
      ]
    },
    {
      "cell_type": "code",
      "source": [
        "plt.hist(x=data_df['read40']);"
      ],
      "metadata": {
        "colab": {
          "base_uri": "https://localhost:8080/",
          "height": 347
        },
        "id": "v3LQN8ur22dW",
        "outputId": "744bd219-653b-4989-8593-c3861de1cb70"
      },
      "execution_count": 253,
      "outputs": [
        {
          "output_type": "display_data",
          "data": {
            "text/plain": [
              "<Figure size 576x396 with 1 Axes>"
            ],
            "image/png": "[encoded data removed]"
          },
          "metadata": {}
        }
      ]
    },
    {
      "cell_type": "markdown",
      "source": [
        "## O gráfico abaixo, permite verificar a relação entre os campos, e a Label, o campo *inference* do dataframe"
      ],
      "metadata": {
        "id": "m7nnzi0k4RZK"
      }
    },
    {
      "cell_type": "code",
      "source": [
        "grafico = px.scatter_matrix(data_df, dimensions=['read00', 'read01'], color='inference')\n",
        "grafico.show()"
      ],
      "metadata": {
        "colab": {
          "base_uri": "https://localhost:8080/",
          "height": 542
        },
        "id": "tflx3ouIyl7j",
        "outputId": "9db81802-cbc8-40c6-c058-5c653bdbf9b9"
      },
      "execution_count": 254,
      "outputs": [
        {
          "output_type": "display_data",
          "data": {
            "text/html": [
              "<html>\n",
              "<head><meta charset=\"utf-8\" /></head>\n",
              "<body>\n",
              "    <div>            <script src=\"https://cdnjs.cloudflare.com/ajax/libs/mathjax/2.7.5/MathJax.js?config=TeX-AMS-MML_SVG\"></script><script type=\"text/javascript\">if (window.MathJax) {MathJax.Hub.Config({SVG: {font: \"STIX-Web\"}});}</script>                <script type=\"text/javascript\">window.PlotlyConfig = {MathJaxConfig: 'local'};</script>\n",
              "        <script src=\"https://cdn.plot.ly/plotly-2.8.3.min.js\"></script>                <div id=\"0abfa559-8d58-454c-a020-1646795d0a1b\" class=\"plotly-graph-div\" style=\"height:525px; width:100%;\"></div>            <script type=\"text/javascript\">                                    window.PLOTLYENV=window.PLOTLYENV || {};                                    if (document.getElementById(\"0abfa559-8d58-454c-a020-1646795d0a1b\")) {                    Plotly.newPlot(                        \"0abfa559-8d58-454c-a020-1646795d0a1b\",                        [{\"dimensions\":[{\"axis\":{\"matches\":true},\"label\":\"read00\",\"values\":[-0.29,-0.25,-0.59,-0.2,-0.35,-0.47,-0.73,-0.09,0.73,0.19,0.64,0.19,-0.54,-0.24,-0.71,-0.21,-0.04,-0.11,-0.13,0.41,-0.2,-0.1,-0.31,-0.6,-0.65,-0.49,0.32,-0.31,-0.66,0.0,0.01,-0.02,-0.14,-0.3,-0.18,-0.27,-0.25,0.8,0.12,0.0,-0.13,-0.19,-0.1,-0.04,-0.31,-0.31,-0.32,0.61,-0.05,0.41,-0.09,0.47,-0.29,-0.02,-0.01,-0.01,0.96,1.14,-0.63,0.0,0.02,-0.02,1.1,1.06,1.0,1.21,0.89,0.94,-0.8,-0.17,-0.65,0.23,0.17,-0.83,0.82,1.22,-0.64,1.22,1.2,1.07,1.18,1.28,-0.86,-0.64,-0.05,-0.04,-0.03,-0.03,-0.03,-0.01,0.15,0.15,0.16,0.36,1.07,0.16,0.16,0.16,0.17,0.16,0.16,0.6,0.12,0.13,-0.08,-0.35,1.05,0.14,0.14,0.14,1.16,0.26,-0.09,0.53,0.71,0.16,-0.18,0.79,0.77,0.84,0.6,0.0,0.98,0.91,0.86,0.17,0.17,0.11,0.92,0.28,0.29,0.9,1.28,1.28,0.6,0.72,0.61,0.89,0.84,0.73,0.1,1.02,-0.96,0.82,0.66,0.94,0.93,0.97,0.28,0.91,0.92,0.83,-0.42,0.57,0.16,0.34,0.41,0.39,0.19,0.18,0.15,0.34,0.33,0.35,0.34,0.33,0.34,0.16,0.15,0.17,0.35,0.34,0.35,0.41,0.61,0.66,0.41,0.38,0.4,1.26,0.32,0.33,1.02,-0.23,-0.76,-0.64,0.39,-0.49,-0.28,-0.45,-0.14,-0.7,-0.34,-0.21,-0.51,-0.67,-0.41,-0.14,-0.28,-0.34,-0.75,-0.23,-0.02,-0.68,-0.25,0.52,-0.58,0.11,-0.46,-0.82,-0.83,-0.36,-0.64,-0.68,0.08,-0.2,1.05,0.39,0.6,0.42,1.21,0.26,0.41,0.69,0.71,0.27,0.13,0.38,-0.04,0.91,0.1,0.8,0.92,0.74,0.79,0.55,0.91,0.64,0.73,0.94,0.99,0.64,0.33,1.06,0.42,0.97,0.17,1.28,1.27,0.41,0.66,0.42,0.56,0.19,0.41,0.41,0.51,-0.86,-0.1,1.19,0.74,-0.36,1.26,0.96,1.28,1.28,1.13,0.52,0.9,0.56,1.28,1.28,1.28,0.39,1.28,1.28,1.2,1.28,1.28,1.28,0.94,1.28,1.28,1.28,1.28,0.29,1.28,-0.02,0.57,1.28,1.01,1.28,0.37,1.22,1.28,1.28,1.27,0.37,1.28,1.13,1.28,0.8,0.82,0.31,1.13,1.17,0.6,0.92,1.02,1.0,0.12,1.06,1.28,0.07,0.71,0.03,1.28,0.14,0.92,1.28,1.28,-0.11,1.09,1.08,1.08,1.0,1.02,1.02,-0.35,1.05,0.88,-0.59,0.88,-0.35,1.09,1.22,1.22,1.16,1.18,0.08,1.19,1.19,1.19,0.98,1.28,0.7,1.06,-0.29,1.04,1.03,0.85,1.07,1.06,0.99,-0.06,0.8,-0.19,1.16,1.16,-1.27,-1.27,-0.74,-0.73,-0.74,-1.27,-0.72,-0.74,-1.16,-0.43,-0.86,-0.86,-0.86,-1.27,-1.27,-0.82,-1.27,-0.82,-0.8,-0.81,-0.72,-0.82,-0.83,-0.92,-0.92,-0.33,-1.27,-0.92,-0.93,-1.27,-0.4,-0.36,-1.27,-1.27,-1.27,-0.26,-0.96,-0.93,-0.84,-0.83,-0.79,-1.26,-0.81,-1.27,-0.92,-0.92,-0.92,-0.76,-0.75,-0.76,-0.8,-0.78,-1.27,-0.82,-0.96,-0.97,-0.83,-0.7,-0.78,-0.77,-0.78,-1.06,-0.82,-0.8,-0.98,-0.97,-0.98,-0.55,-0.8,-0.77,-0.97,-0.98,-0.97,-1.06,0.95,-0.32,-0.95,-1.27,-0.57,-0.76,0.05,-0.92,-0.63,-0.97,-0.67,-0.74,-0.86,-0.78,-0.66,-0.05,-0.65,-0.61,-0.85,-0.76,-0.7,-0.72,-0.49,-0.72,-0.7,-1.27,-0.55,1.27,-0.75,-0.3,-0.16,-0.55,-0.73,-0.91,-0.44,-0.84,-0.94,-1.14,-0.79,-0.68,-0.73,-0.21,-0.62,-0.69,0.15,-1.27,-0.71,-0.3,-0.84,-0.64,-0.75,-0.74,-0.79,-0.73,-0.85,-0.67,-0.28,-0.66,0.32,-0.61,-0.71,0.33,-0.82,0.41,-0.92,-0.69,0.72,0.73,1.28,0.94,1.28,0.73,0.99,0.69,1.12,0.53,1.26,0.33,1.28,1.28,0.69,0.57,0.58,0.59,0.68,0.68,0.75,0.58,0.57,0.58,0.7,1.28,1.28,0.58,0.58,0.59,0.59,0.6,0.59,0.57,0.58,0.58,0.6,0.6,1.12,0.57,0.57,0.58,-0.44,1.28,1.28,0.59,0.6,0.6,0.74,0.63,0.65,0.6,0.58,0.59,0.02,1.28,1.28,0.63,0.62,0.62,0.6,0.6,0.6,0.58,0.58,0.6,0.71,0.67,0.63,0.65,0.65,0.64,0.82,0.83,0.84,0.89,0.81,0.62,0.64,0.62,0.63,0.63,0.64,0.65,0.63,0.63,0.66,0.65,0.65,0.65,0.63,0.63,0.63,0.64,0.63,0.66,0.65,0.65,0.83,0.84,0.87,-0.09,-0.12,-0.13,0.62,0.74,0.93,-1.27,-1.22,1.16,-0.7,-1.27,-1.27,-0.09,-0.07,-0.87,0.83,-1.04,-0.09,-0.12,-0.12,-0.12,-1.27,-0.07,0.41,-0.12,-0.8,-1.27,-0.15,0.76,0.96,0.03,0.2,1.09,-1.27,-1.27,-0.89,1.07,-0.69,-1.17,-0.18,-0.17,-0.17,0.6,0.54,0.56,-0.18,-0.17,-0.17,0.5,-1.17,-1.25,-0.01,0.0,-0.01,-0.08,-0.1,-0.09,-0.16,-0.16,-0.16,-0.65,-1.11,0.53,0.37,1.08,-0.37,-0.15,-0.13,-1.18,0.56,-0.04,-0.02,-0.11,-0.13,-0.14,-1.27,-0.72,-0.21,0.02,0.02,0.04,0.04,0.03,0.02,0.65,-0.49,-0.35,-0.02,-0.97,-1.17,0.05,0.03,0.03,0.87,0.57,0.8,0.02,0.01,0.05,-1.27,-1.27,-1.27,-0.2,-0.2,-1.16,-0.15,-0.13,-0.23,0.02,0.02,0.02,0.61,-0.88,0.77,-1.12,-1.27,-0.63,1.28,0.29,-0.06,0.44,0.59,-0.26,-0.13,1.28,0.9,0.67,-1.27,0.67,0.19,0.22,0.06,-0.18,0.42,0.26,-0.88,-0.09,0.36,-0.6,-0.34,1.28,-0.46,-0.53,-0.45,0.21,0.79,0.01,0.51,0.03,-0.66,-0.04,0.82,-0.96,-0.59,1.28,-0.62,-0.37,-0.35,0.65,-0.28,0.12,0.01,-0.15,0.63,0.2,0.01,-0.83,0.03,-1.1,0.08,0.19,-0.12,-0.4,0.32,-0.7,-0.19,-0.35,-0.33,-0.11,-0.32,0.09,-0.41,-0.4,-0.21,-1.27,-0.42,-0.02,-0.05,0.04,-0.81,-0.33,-0.24,0.11,0.57,-0.49,0.64,-0.54,-0.38,0.5,0.38,-0.01,-0.28,0.87,-0.04,-0.34,-0.8,-0.82,0.01,-0.98,-0.24,0.04,0.12,0.14,-0.02,-0.83,0.22,-0.01,-0.81,0.0,-0.28,0.11,-0.69,-0.45,-0.63,-0.23,0.12,-0.32,-0.78,-0.98,-0.01,0.14,-0.21,1.28,0.58,0.83,-1.04,-0.87,0.33,-0.45,0.12,0.14,-0.94,-0.54,-0.92,-0.82,-0.34,-0.3,0.03,0.04,-0.06,-0.42,-0.69,-0.35,-0.75,0.25,-0.94,-0.99,-0.32,-0.99,-0.81,0.28,-1.04,-0.33,0.17,-1.27,-0.56,-1.22,0.1,0.28,-0.46,-0.58,-1.02,0.28,-0.68,-1.02,-0.82,-1.19,-0.83,-0.98,-1.27,0.07,-0.45,-0.17,-0.62,-0.68,0.3,-0.96,-0.98,-0.46,1.28,0.94,1.24,-0.13,1.28,-0.61,0.48,0.4,1.25,1.28,1.19,0.75,1.28,1.28,-0.27,1.28,1.28,1.15,1.28,-0.06,1.28,1.21,1.08,1.28,1.28,-0.61,-0.24,1.28,1.28,0.94,-0.66,-0.3,1.01,1.28,1.28,1.28,1.28,0.48,0.41,0.44,0.45,0.45,1.28,-0.45,1.19,-0.53,0.07,-1.14,0.35,-0.22,-0.07,0.57,0.32,-1.09,0.02,0.2,0.63,0.13,-0.13,-0.04,-0.09,0.26,0.86,0.57,0.99,-0.1,-0.63,-1.12,-0.29,-0.09,0.13,-0.33,-0.33,0.32,0.09,-0.41,0.42,-0.43,-0.43,0.01,-0.42,0.83,0.11,-0.75,-0.22,0.28,-0.14,0.27,0.27,-0.41,-0.31,-0.44,-0.12,-0.34,-0.82,-0.82,-0.82,-0.67,-0.76,-0.79,0.4,-0.79,-0.8,-0.83,-0.82,-0.82,-1.26,0.43,-0.31,-0.37,-1.27,0.49,0.52,-0.31,-0.27,-0.04,-0.89,0.54,-1.04,-0.3,0.06,-0.68,0.2,-0.82,-0.81,-0.82,-0.82,-0.81,-0.81,0.41,-0.83,-0.2,-0.84,-0.83,-0.83,-0.81,-0.82,-0.81,-0.81,-0.82,-0.82,-0.83,-0.83,-0.83,-0.83,-0.81,-0.83,-0.83,1.24,1.26,1.28,0.17,1.11,1.17,1.25,1.27,1.23,1.22,1.22,1.23,1.28,1.28,1.28,1.28,1.28,1.28,1.24,1.28,1.28,0.0,0.56,0.55,1.26,1.26,1.28,1.28,1.28,1.28,1.28,1.28,1.28,1.28,1.28,1.27,1.28,1.28,1.28,1.28,1.28,1.27,0.52,0.6,0.59,0.58,0.56,0.55,0.51,0.52,0.52,0.57,0.59,0.54,0.52,0.51,0.52,0.51,0.52,0.51,0.53,0.53,0.52,0.56,0.55,0.54,0.53,0.53,0.53,0.54,0.55,0.55,0.51,0.53,0.52,0.53,0.52,0.51,0.64,0.57,0.56,0.54,0.54,0.52,0.56,0.55,0.53,0.55,0.54,0.54,0.76,0.77,0.78,0.66,0.63,0.63,0.63,0.77,0.67,0.74,0.75,0.77,0.76,0.94,1.26,0.67,0.69,0.68,1.28,0.65,0.65,0.65,0.7,1.28,0.67,-0.35,1.28,0.66,0.65,0.65,0.65,-1.27,-1.23,-1.24,-1.27,-1.22,-0.62,-1.19,-1.11,-0.13,-0.13,-0.14,-1.25,-1.24,-1.25,-1.18,-1.14,-1.14,-1.26,-1.26,-1.26,-1.22,-1.25,-1.27,-1.23,-1.24,-1.27,-1.19,-1.26,-1.24,-1.26,-1.1,-1.27,-0.9,-0.88,-0.09,-0.24,-0.26,-0.26,-0.24,-0.23,-0.24,-0.09,-0.1,-0.11,-0.26,-0.25,-0.25,-0.12,-0.13,-0.13,-0.12,-0.13,-0.12,-0.09,-0.09,-0.1,-0.24,-0.24,-0.24,-0.15,-0.17,-0.19,-0.19,-0.2,-0.22,-0.25,-0.26,-0.26,-0.13,-0.12,-0.95,-0.16,-0.15,-0.16,-0.07,-0.07,-0.08,-0.08,-0.92,-0.14,-0.85,-0.85,-0.08,-0.06,-0.08,-0.07,-0.1,-0.1,-0.12,-0.08,-0.1,-0.09,-0.06,-0.07,-0.07,-0.1,-0.1,-0.84,-0.08,-0.07,-0.09,-0.1,-0.09,-0.05,-0.06,-0.08,-0.08,-0.08,-0.08,-0.08,-0.17,-0.18,-0.19,-0.1,-0.08,-0.1,-0.17,-0.18,-0.17,-0.17,0.3,-0.1,-0.1,-0.12,-0.11,-0.89,0.75,0.6,1.18,0.97,0.89,0.96,-0.03,1.11,0.36,0.54,0.32,0.47,1.28,0.25,1.12,-0.2,0.27,1.04,0.08,0.12,-0.18,0.34,1.08,0.35,1.06,1.11,0.39,0.89,0.66,-0.16,1.28,0.9,0.65,0.23,1.16,1.28,0.93,0.49,0.57,0.23,0.45,0.31,1.05,0.79,1.09,1.06,0.84,0.53,0.86,-0.2,1.13,0.26,0.2,0.16,0.16,1.14,0.8,1.1,-0.2,0.51,0.97,0.95,0.48,1.28,1.24,-0.56,0.65,0.74,1.0,0.5,0.69,1.03,1.28,0.81,0.94,0.75,0.37,0.53,0.83,0.44,0.5,0.86,-0.04,0.5,0.75,0.54,0.4,0.91,-0.73,0.39,1.28,-0.13,1.15,-0.11,1.28,0.52,-0.21,0.3,-0.51,1.28,1.13,1.0,0.77,0.16,0.3,-0.27,0.0,0.03,1.28,1.28,0.37,0.55,0.73,0.66,0.24,0.33,-0.59,0.85,0.27,0.51,0.03,0.93,0.38,0.41,0.43,0.46,-0.69,1.2,0.75,-0.37,0.58,0.24,0.19,0.4,0.7,1.28,0.75,-0.24,1.28,1.0,0.34,1.06,0.23,1.01,0.72,0.5,0.65,-0.13,1.28,0.92,0.27,0.35,0.67,0.58,-0.95,1.28,0.7,0.62,-1.27,-1.02,-0.01,-0.93,-0.99,-1.03,-0.89,0.5,-0.68,-1.16,0.36,-1.06,-0.01,-0.36,-0.33,-0.31,-0.3,-0.33,-0.31,-0.29,-0.3,-0.33,-0.31,-0.31,-1.27,-1.2,-0.74,-0.31,-0.35,-0.35,-0.34,-0.33,-0.34,0.32,-0.67,0.27,-0.33,-0.33,-0.3,-0.35,-0.34,-0.35,-1.27,0.39,-0.88,-0.31,-0.32,-0.31,-0.71,-0.23,-1.21,-0.43,-0.42,-0.44,-0.33,-0.33,-0.33,0.56,-0.4,-1.14,-0.15,-0.33,-0.33,-0.32,-0.32,-0.35,-0.4,-0.42,-0.42,-0.39,-0.39,-0.37,0.38,-1.13,-1.05,-0.4,-0.39,-1.04,-0.31,-0.4,-0.39,-0.32,-0.31,-0.33,-0.43,0.18,-0.33,-1.27,-0.99,-0.72,-0.47,-0.45,-0.43,-0.46,-0.45,-0.42,-0.44,-0.46,-0.43,-0.46,-0.45,-0.44,-0.4,-0.8,-0.41,-0.38,-0.08,-0.45,-0.42,-0.46,-0.46,-0.34,-0.37,-0.36,-1.06,-0.5,-0.36,-0.43,-0.44,-0.43,-0.44,-0.44,-0.44,-0.46,-0.45,-0.38,-0.47,-0.53,-0.39,-0.37,-1.07,-0.37,-0.36,-0.37,0.99,0.39,-1.27,-0.72,-0.89,-0.05,0.31,0.82,-0.23,0.63,0.4,-1.05,0.66,0.32,0.37,-0.4,-0.99,0.73,0.18,0.41,-1.17,-0.46,1.04,-1.14,0.43,0.22,0.05,0.07,-1.05,-1.14,0.13,-0.02,0.42,0.87,0.17,0.33,-0.08,0.34,0.16,-0.61,0.67,0.29,0.63,0.01,-0.12,0.16,0.14,-0.19,-0.19,0.96,0.31,0.48,0.13,0.55,0.23,0.84,0.71,0.61,0.16,0.21,1.06,0.69,0.61,0.28,0.15,0.09,0.68,0.21,0.22,0.31,-0.13,0.1,0.24,-0.77,-0.15,-0.54,-0.16,-0.4,0.66,-0.2,0.06,-0.1,-0.91,0.85,0.14,0.14,0.46,0.16,0.56,-0.41,0.68,-0.08,-0.13,0.99,0.45,0.07,0.23,-0.18,-0.29,-0.29,-0.47,-0.43,0.55,-0.1,-0.18,-0.4,-0.31,0.39,0.15,0.21,0.01,-0.24,-0.11,-0.5,-0.2,-0.28,-0.35,-0.16,0.39,0.24,0.32,0.34,-0.33,0.71,-0.08,0.62,0.54,-0.84,0.49,-0.21,0.51,-0.15,0.02,-0.17,-0.03,0.18,-0.4,0.66,0.68,-0.57,0.45,0.56,0.58,-0.12,0.4,-0.14,-0.04,0.59,0.64,0.32,0.33,0.4,0.36,0.25,0.27,-0.24,-0.26,-0.25,-0.68,0.55,0.55,0.53,-0.24,-0.24,-0.25,0.43,0.5,0.48,0.49,0.63,0.51,-0.29,-0.26,-0.26,0.52,0.28,-0.28,-0.25,-0.26,0.6,-0.24,-0.24,-0.26,-0.43,-0.44,-0.45,-0.33,-0.26,-0.08,-0.94,0.33,-0.43,-0.45,-0.45,-0.44,-0.45,-0.47,-0.48,-0.49,-0.48,-0.52,-0.51,-0.53,-0.54,0.61,0.57,-0.61,-0.35,-0.4,-0.45,-0.55,-0.55,-0.54,0.27,0.26,0.3,0.21,0.28,0.21,0.36,0.43,0.24,0.59,0.6,0.45,0.35,0.42,0.43,0.42,0.42,0.45,0.36,0.38,0.31,0.54,0.44,0.59,0.49,0.46,0.35,0.01,0.48,0.51,0.45,0.4,-0.29,-0.26,-0.24,0.23,-0.35,-0.34,-0.31,-0.34,-0.32,-0.32,-0.32,0.71,-0.3,-0.27,-0.31,-0.32,-0.32,-0.32,0.43,-0.33,-0.34,-0.32,-0.29,-0.3,-0.34,-0.34,-0.34,0.55,-0.28,-0.27,-0.26,-0.24,-0.8,-0.05,-0.25,0.3,-0.33,-0.34,-0.34,-0.22,-0.21,-0.22,-0.21,-0.22,-0.21,-0.23,-0.21,-0.21,-0.2,-0.21,-0.2,-0.17,-0.18,-0.19,-0.23,-0.24,-0.22,-0.34,-0.32,-0.31,-0.19,-0.19,-0.18,-0.22,-0.21,-0.24,-0.2,-0.21,-0.25,-0.2,-0.19,-0.21,-0.23,-0.22,-0.2,-0.3,-0.29,-0.3,-0.37,-0.36,-0.43,-0.62,-0.37,-0.36,-0.36,-0.47,-0.42,-0.42,-0.38,-0.38,-0.38,-0.41,-0.38,-0.38,-0.3,-0.29,-0.42,-0.43,-0.42,-0.44,-0.44,-0.44,0.04,-0.46,-0.46,-0.49,-0.48,-0.49,-0.43,0.16,0.1,-0.41,-0.43,-0.42,-0.48,-0.49,0.2,-0.55,-0.56,-0.57,0.15,0.15,-0.5,-0.58,-0.56,-0.57,-0.58,-0.57,-0.57,-0.42,-0.43,-0.42,-0.42,-0.4,-0.42,-0.55,-0.58,-0.57,-0.43,-0.42,-0.42,-0.37,-0.38,-0.37,-0.39,-0.38,-0.39,-0.4,-0.54,-0.36,-0.37,-0.37,-0.36,0.02,-0.4,-0.41,-0.4,-0.42,-0.41,-0.38,-0.38,-0.38,-0.56,-0.57,-0.56,-0.39,-0.09,-0.4,-0.39,-0.5,-0.4,-0.4,-0.45,-0.62,-0.37,-0.37,-0.38,0.12,0.21,0.42,-1.27,-1.27,-0.14,-0.41,-0.21,0.0,-0.42,-0.41,-0.43,-0.07,-1.11,-0.41,-1.09,-0.57,0.78,-1.1,-1.21,-1.27,-0.78,-0.13,-0.77,-0.55,-0.02,-1.15,-1.18,-0.79,-0.77,-0.75,-0.1,0.24,-0.35,-0.72,-1.27,-0.72,-0.65,-0.94,-1.27,-1.27,-0.64,-0.26,-1.27,-0.66,-0.21,-0.41,-1.09,0.09,-0.98,-1.07,-0.46,-0.42,-1.02,-0.83,-0.64,-0.12,-0.2,-0.1,-0.77,0.56,-0.59,-0.7,1.28,1.28,1.28,1.25,-0.39,-0.99,0.51,0.49,0.08,-0.61,-0.33,1.25,1.2,1.22,1.28,1.22,0.63,1.21,1.17,1.19,1.17,1.04,1.24,-0.31,0.19,0.21,0.2,0.23,0.22,1.05,1.12,1.24,1.21,1.18,1.15,0.0,0.22,-0.39,1.14,1.17,1.18,1.28,1.24,0.69,1.18,1.27,1.24,1.16,1.16,1.18,0.86,-0.15,1.2,0.97,1.28,1.28,-0.06,0.19,0.35,-0.53,0.73,0.74,0.74,1.28,0.38,-0.3,0.12,-0.1,0.02,-0.11,0.99,0.09,1.27,0.71,0.73,0.75,0.75,1.28,0.39,1.28,1.08,0.1,1.28,0.18,0.77,0.75,0.75,1.11,0.06,1.28,1.28,1.28,0.77,0.73,0.73,0.74,1.28,1.14,1.28,1.28,0.68,0.71,1.28,0.27,1.28,0.8,0.79,0.79,0.79,0.79,0.81,0.77,0.77,0.76,1.28,1.28,1.28,0.77,0.77,0.76,-0.09,1.28,0.05,0.78,0.78,0.76,0.8,0.8,0.81,0.94,1.22,1.28,0.7,0.68,0.69,0.71,0.71,0.71,0.61,0.62,0.86,0.71,0.69,0.71,0.82,0.84,0.88,1.28,1.28,0.81,0.69,0.67,0.66,0.72,0.74,0.64,0.84,0.84,0.83,0.7,1.28,1.28,1.28,1.28,1.28,1.28,0.74,0.8,0.92,1.19,0.87,0.84,1.09,0.75,0.9,0.9,0.93,1.28,0.82,0.89,0.91,0.88,0.86,0.67,0.91,0.9,0.85,1.0,0.9,0.88,-0.12,0.8,0.2,0.87,1.28,0.8,0.82,0.65,0.88,0.87,0.89,0.85,0.62,0.87,0.74,0.8,0.76,0.89,0.88,0.53,1.28,0.93,0.78,0.86,0.86,0.87,1.18,0.83,1.28,0.82,0.8,1.28,0.9,0.67,1.28,0.89,0.9,0.89,0.88,0.89,0.86,0.77,0.86,0.87,0.86,-0.37,1.05,0.78,0.69,1.28,0.73,1.28,1.28,1.28,0.73,0.72,0.71,0.67,0.67,0.66,0.7,0.72,0.7,0.7,1.28,1.0,0.78,0.78,0.74,0.73,0.73,0.75,0.65,0.68,0.66,0.68,0.69,0.71,0.76,1.28,1.28,1.28,1.28,1.28,0.24,0.79,0.77,0.79,0.8,0.79,0.69,0.7,0.69,0.8,0.79,0.8,0.78,0.78,0.61,0.78,0.78,0.76,0.77,0.78,0.79,0.69,0.71,0.8,0.77,0.77,0.75,0.66,0.67,0.67,0.69,0.7,0.68,0.77,0.77,0.77,0.68,0.69,0.68,0.68,0.1,1.28,0.72,0.57,0.72,0.78,1.11,0.79,1.28,0.68,0.68,0.68,0.8,0.8,0.68,0.7,0.7,0.79,0.78,1.22,0.66,0.71,0.64,0.72,0.76,0.68,0.67,0.67,0.7,0.79,0.72,0.3,1.28,1.28,0.86,0.55,1.01,1.06,0.72,0.78,1.12,1.28,0.87,0.75,1.28,0.87,1.14,0.37,0.9,1.28,1.28,0.77,1.28,1.28,0.79,0.89,0.84,0.85,0.58,0.73,0.71,0.72,1.15,1.18,0.85,1.16,0.99,1.28,0.75,0.78,0.84,0.87,1.28,0.73,0.85,0.84,0.92,0.76,1.28,0.9,1.28,0.93,1.28,0.77,0.92,1.28,0.89,0.88,1.14,0.87,0.87,1.09,0.75,0.75,0.75,1.28,0.78,0.78,1.28,0.07,1.09,0.84,0.85,0.95,0.76,1.28,1.28,1.28,0.87,0.86,0.79,0.85,0.74,1.28,0.39,1.18,1.11,1.1,0.98,0.97,1.28,1.28,1.14,0.86,1.28,0.85,0.75,0.79,1.28,1.23,0.8,0.86,1.28,1.19,0.88,0.87,0.62,1.19,0.86,1.19,1.04,0.92,0.91,1.28,0.93,0.89,0.88,1.07,0.78,0.8,1.28,0.83,0.77,0.79,1.28,0.75,0.77,0.77,1.08,0.84,0.84,0.75,0.71,0.39,0.83,0.85,0.85,0.85,0.84,0.84,1.28,1.28,1.28,0.89,0.87,0.86,-0.03,0.18,-0.13,1.15,1.21,1.28,1.28,0.09,-0.01,-0.08,0.96,0.94,0.95,0.99,1.01,0.99,0.99,0.99,0.98,0.97,0.97,0.99,1.01,1.02,0.98,0.95,0.99,0.98,1.28,-0.6,-0.06,1.02,1.03,1.28,1.07,1.09,1.01,-0.11,-0.09,0.99,0.98,0.97,0.98,1.0,0.99,1.08,1.01,1.0,-0.42,0.02,0.56,0.56,0.57,0.5,0.53,0.54,-0.4,-1.02,-0.39,0.48,0.48,-0.55,-0.29,-0.36,-0.34,-0.46,-0.57,0.58,1.28,0.49,0.95,0.46,-0.44,0.42,0.45,0.46,0.42,0.42,-0.44,-0.39,0.53,0.45,0.45,-0.3,0.45,0.45,0.44,0.43,0.44,0.43,-0.29,0.48,0.5,0.43,-0.26,0.47,0.54,-0.16,-0.38,0.51,0.5,0.49,0.44,0.43,0.43,1.22,-0.67,0.21,0.54,0.55,0.55,0.55,0.55,0.56,0.5,0.51,0.51,0.51,0.52,0.52,0.52,0.53,0.54,0.48,0.49,0.5,0.54,0.55,0.56,0.47,0.48,0.48,0.51,0.51,0.52,0.55,0.56,0.56,0.51,0.45,0.47,0.57,0.56,0.57,0.56,0.57,0.56,0.58,0.58,0.57,0.58,0.58,0.58,0.58,0.56,0.56,0.57,0.58,0.58,0.58,-0.48,-0.41,0.57,0.56,0.57,0.57,0.58,0.58,0.58,0.57,0.58,0.59,0.58,0.56,0.59,0.59,0.58,0.46,0.44,0.46,0.44,0.43,0.42,-0.4,0.35,0.36,0.31,0.48,0.5,0.45,0.45,0.45,0.44,0.45,0.45,0.38,0.37,0.38,0.43,0.42,0.43,-0.64,0.42,0.43,0.44,0.44,0.44,-0.39,-0.3,-0.32,0.45,0.43,0.43,0.44,0.43,0.43,0.16,0.49,0.49,-1.24,-0.46,-0.73,-0.51,0.21,0.62,0.46,0.0,0.47,-0.42,-0.69,0.41,-0.1,0.47,0.45,0.45,0.74,-0.45,-0.55,-1.27,-1.03,0.21,-0.16,-0.64,1.1,-1.14,-1.11,-1.07,-0.96,-1.2,-1.1,-1.02,-0.99,0.77,0.57,-0.36,-0.01,-0.02,-0.05,-0.04,0.06,0.04,0.02,-0.95,0.4,-1.03,-0.1,-0.09,-0.09,-1.27,-1.27,-0.11,0.02,0.04,-0.86,-0.96,-1.11,-0.78,-1.1,-0.14,0.24,-1.27,-1.18,-0.41,-0.35,-1.01,-0.43,-0.41,-1.23,-1.27,-0.45,-0.4,-0.39,-0.39,-0.38,-0.33,-0.41,-1.27,-0.42,-0.36,-1.27,-0.4,-0.31,-0.32,-0.35,-0.34,-0.35,-0.36,-0.37,-1.22,-1.23,-1.26,-1.23,-0.34,-1.27,-0.51,-0.3,-0.28,-0.3,-0.31,-0.3,-0.36,-0.4,-1.1,-0.34,-0.37,-1.27,-0.37,-1.27,-0.37,-0.35,-0.35,-0.31,-0.33,-0.3,-1.27,-0.3,-0.33,-0.33,-0.3,-0.34,-0.28,-0.34,-0.32,-0.33,-0.34,-1.27,-1.27,-1.27,-0.34,-0.32,-0.47,-1.26,-0.32,-0.35,-0.28,-0.27,-0.93,-1.27,-1.07,-0.32,-0.28,-0.27,-0.23,-0.29,-0.32,-0.3,-0.29,0.06,-0.86,-1.27,-1.0,-1.27,0.66,-0.2,-0.97,-1.27,0.89,0.76,-0.94,-1.19,-1.25,-1.03,-1.05,-1.05,-1.27,-1.21,0.25,-0.61,0.09,-0.04,0.58,-0.8,-0.17,0.15,1.28,0.23,0.49,-0.69,-0.01,-1.27,-1.01,0.52,-1.16,-0.85,-1.21,-1.07,0.18,-0.55,0.02,-1.27,0.42,-1.27,-1.05,-0.6,-1.12,-0.41,-0.43,-0.42,0.55,-0.4,-0.4,-1.27,-1.27,-1.27,-0.43,-0.43,-0.44,0.45,-0.1,-0.34,-1.14,-0.89,-1.0,0.95,-1.08,0.09,-0.45,-0.42,-0.43,1.15,0.85,-0.85,0.28,-0.11,0.4,-1.27,0.42,-1.27,-0.44,-0.44,-0.43,-0.86,-0.87,-0.84,-0.23,0.62,0.57,1.07,0.29,-1.2,0.5,-0.44,1.28,-0.33,0.7,-0.53,0.49,-1.01,0.01,-0.43,0.58,0.64,-0.34,-0.33,-0.26,0.77,-0.3,-0.3,0.17,-0.3,-0.32,-0.45,-0.44,-0.44,-1.03,0.45,0.26,0.04,-0.34,-0.33,1.05,0.18,-1.03,-0.54,-0.53,-0.54,-0.96,-0.94,-0.92,-0.9,-0.91,-1.25,-0.69,-1.03,-0.94,-0.88,-1.05,-1.04,-1.01,-1.0,-0.98,-0.9,-0.93,-0.91,-1.27,-0.69,-1.27,-0.97,-0.98,-0.96,-0.88,-0.85,-1.24,-1.02,-0.98,-0.99,-0.68,-0.7,-0.69,-0.74,-0.72,-0.72,-0.88,-1.08,-1.01,-1.18,-1.18,-1.16,-0.98,-1.02,-0.85,-0.78,-0.77,-0.73,-1.22,-0.84,-0.85,-0.71,-0.71,-0.69,-0.7,-0.66,-0.92,-1.17,-0.93,-1.27,-1.02,-1.21,-1.22,-1.11,-0.31,-0.75,-1.27,-1.27,-1.27,-1.11,-1.12,-1.1,-0.72,-0.67,-0.06,-1.27,-1.27,-1.07,-1.27,-1.27,-1.27,-1.27,-1.27,-0.84,-1.09,-1.05,-1.06,-1.27,-1.27,-1.27,-1.27,-1.27,-1.27,-1.27,-1.0,-1.27,-1.27,-1.27,-0.7,-1.12,-1.12,-1.11,-0.59,-0.62,-0.59,-0.68,-0.69,-1.25,-0.95,-0.58,-0.59,-1.27,-0.73,-0.96,0.39,0.35,-0.06,-0.04,0.09,0.07,0.06,0.08,0.09,0.1,-0.36,-1.02,-1.24,-1.27,0.08,-0.04,-0.01,-0.02,-0.01,0.08,0.39,0.43,0.78,0.85,-1.08,-0.63,0.3,-0.08,-0.08,-0.88,0.27,-0.95,0.04,0.06,-0.25,0.11,0.1,0.1,-0.49,0.04,0.06,-0.2,-0.93,-0.94,0.04,-1.27,-1.26,-0.62,-0.64,-0.31,-1.07,-0.21,-1.27,-0.75,-1.27,-0.73,-0.94,-0.8,-1.24,-0.58,0.02,-0.49,-0.33,-0.39,-0.52,0.36,0.38,-0.55,-0.93,-0.95,-0.76,-0.98,-0.58,-0.57,-0.53,-0.24,0.17,-1.14,0.45,-1.27,-0.15,-0.14,-1.1,-0.86,-0.2,-0.19,-0.99,-0.96,-0.91,-0.3,-0.34,-0.66,-0.16,-0.93,-0.99,-0.51,-0.47,-0.49,-0.9,-0.9,-0.89,-1.08,-1.08,-1.07,-1.27,-0.91,-0.91,-1.02,-1.02,-1.27,-0.9,-0.88,-0.86,-0.17,-0.18,-0.15,-0.18,-0.18,-0.18,-0.78,-0.74,-0.72,-0.21,-0.82,-0.79,-0.78,-0.78,-0.75,-0.71,-0.72,-0.49,-0.49,-0.51,0.8,0.87,-1.27,0.1,-0.68,0.94,1.0,0.79,-0.14,-0.75,-0.67,-1.27,-0.29,-1.11,-0.17,-1.27,0.26,0.48,0.62,-0.22,0.06,1.13,-1.11,-0.02,0.08,-0.17,-1.27,0.55,0.47,-0.14,-0.15,-0.14,-1.27,0.67,-1.27,-0.06,-0.04,-0.03,-0.17,-0.15,-0.13,-0.03,-0.02,-0.04,0.01,0.03,0.03,-0.15,-0.15,-0.16,-0.96,-0.06,-0.07,-0.23,-1.27,-1.27,0.0,-0.8,-1.22,-1.27,-0.43,-1.26,-1.27,-0.06,0.59,-0.05,-0.04,-0.02,0.0,-0.01,-0.01,-0.09,-0.09,-0.08,-0.15,-0.15,-0.14,-0.04,-0.05,-0.05,-0.02,-0.02,0.0,-0.08,-0.07,-0.11,-0.13,-0.14,-0.14,-0.14,-0.14,-0.12,-0.04,-0.05,-0.05,-0.06,-0.05,-0.05,-0.05,-0.06,-0.05,-0.07,-0.07,-0.07,-0.14,0.24,0.82,-0.23,-0.23,-0.22,-0.99,-0.71,-0.56,-0.64,-1.25,-0.92,-0.21,-0.2,-0.21,-1.1,0.9,-0.78,0.73,-0.8,-0.23,0.01,-0.01,-0.01,-0.69,-1.23,0.54,-0.13,-0.13,-0.13,-1.27,0.17,0.27,-1.27,-0.16,-0.13,-0.14,-0.13,-0.12,-0.13,-0.13,-0.13,-0.94,0.08,-0.2,-1.26,-1.06,-0.27,-0.34,-0.31,-0.3,-0.25,-0.23,-1.21,-0.07,0.09,0.07,-1.27,-0.1,-0.05,-1.24,-0.47,-1.27,-0.24,-0.23,-0.24,-0.28,-0.26,0.54,-0.25,-0.25,-0.35,-0.85,-1.01,-1.17,-0.05,-0.06,-0.06,-0.23,-0.24,-0.24,-0.12,-0.11,-0.12,-0.1,-0.26,-0.25,0.14,0.14,0.13,0.12,0.14,0.13,-0.42,-0.15,-0.11,0.12,0.13,0.13,0.13,0.13,-1.09,0.13,0.13,0.12,-0.32,0.07,0.09,0.13,0.14,0.13,0.05,0.08,0.02,-0.04,-0.09,0.15]},{\"axis\":{\"matches\":true},\"label\":\"read01\",\"values\":[-0.07,-0.04,-0.27,-0.15,-0.19,-0.22,0.05,0.89,0.46,0.32,0.55,-0.54,-0.56,-0.52,-0.67,-0.23,-0.38,-0.56,-0.21,-0.73,-0.33,-0.65,-0.43,-0.65,-0.64,-0.67,-0.56,-0.21,-0.68,-0.34,-0.6,-0.58,-0.81,-0.73,-0.43,-0.62,-0.46,0.44,-0.35,-0.41,-0.65,-0.03,-0.49,-0.51,-0.66,-0.46,-0.72,-0.07,-0.52,-0.24,-0.18,0.14,-0.55,0.94,0.93,0.93,1.11,0.68,1.08,0.97,0.95,0.95,0.61,0.62,1.19,0.62,1.22,1.06,0.89,1.08,1.22,1.09,1.02,1.28,0.83,0.26,0.9,0.49,0.52,0.63,0.51,0.15,0.84,1.15,0.92,0.92,0.9,0.91,0.9,0.89,-0.73,-0.74,-0.74,-0.54,0.06,-0.64,-0.64,-0.63,-0.63,-0.64,-0.66,-0.55,-0.67,-0.68,-1.13,-0.81,-0.38,-0.38,-0.37,-0.38,-0.4,-1.27,-0.69,-0.82,-0.63,-0.71,-1.0,-0.62,-0.61,-0.59,-1.05,-0.99,-0.53,-0.61,-0.55,-0.82,-0.82,-0.44,-0.81,-1.24,-1.22,-0.74,-0.45,-0.32,-0.82,-0.85,-0.95,-0.77,-0.78,-0.9,-0.69,-0.69,-0.83,-0.62,-0.89,-0.81,-0.81,-0.79,-1.25,-0.85,-0.87,-0.74,-1.09,-1.0,-1.05,-1.26,-1.16,-1.22,-1.09,-1.09,-1.05,-1.27,-1.25,-1.27,-1.25,-1.27,-1.25,-1.05,-1.05,-1.05,-1.27,-1.25,-1.27,-1.18,-0.94,-0.92,-1.18,-1.21,-1.19,-0.12,-1.27,-1.27,-0.6,0.99,-1.04,0.65,-1.27,-1.27,-0.99,0.68,1.02,1.09,0.42,-0.38,-0.59,-0.15,-0.85,0.45,0.73,0.79,0.32,-1.27,-1.27,-1.27,-1.08,1.2,0.92,-1.22,0.8,0.07,0.09,-1.27,-1.27,0.59,-0.63,0.89,-0.52,-1.27,-1.2,-1.27,-1.27,-1.27,-1.09,-1.13,-0.86,-1.27,-1.27,-1.27,0.6,0.1,-1.27,-1.0,-0.81,-1.06,-0.98,-1.04,-0.87,-1.12,-1.05,-0.85,-0.78,-1.27,-1.27,-0.22,-1.27,1.02,-1.27,0.54,-0.82,-1.21,-1.11,-1.27,-1.27,-1.27,-1.27,-1.27,0.23,-0.2,-0.46,-0.24,0.13,0.84,-0.34,0.22,-0.19,0.12,1.28,0.92,0.6,0.95,-0.02,-0.11,0.02,-0.9,0.18,-0.03,0.28,0.16,0.14,0.21,0.57,0.14,0.13,0.1,0.14,0.72,-0.2,1.28,0.96,0.05,0.52,-0.03,1.18,0.2,0.11,0.13,0.3,-0.95,-0.27,-0.68,0.19,0.63,0.63,-1.0,0.21,-0.68,-0.34,-0.69,-0.08,-0.75,-0.37,0.45,-0.09,1.26,0.95,1.28,0.0,1.28,0.46,0.03,0.22,1.17,-0.43,-0.42,-0.42,-0.66,-0.54,-0.55,0.48,-0.48,-0.37,0.32,0.12,0.4,-0.41,-0.59,-0.57,-0.62,-0.63,0.18,-0.55,-0.54,-0.51,-0.49,-0.58,-0.55,-0.48,-0.02,-0.4,-0.37,-0.26,-0.45,-0.45,-0.36,-0.63,-0.44,0.18,-0.52,-0.54,-0.11,-0.49,-0.71,-0.71,-0.7,0.16,-0.7,-0.71,-0.14,-0.94,0.3,-0.64,-0.67,-0.1,0.03,-0.68,-0.09,-0.68,-0.66,-0.68,-0.3,-0.65,-0.65,-0.62,-0.63,1.28,0.18,-0.62,-0.62,0.2,1.19,1.28,-0.08,-0.11,-0.18,1.18,-0.61,-0.59,-0.67,-0.67,-0.65,0.21,0.97,0.05,-0.57,-0.6,-0.61,-0.65,-0.66,-0.66,-0.69,-0.72,0.08,-0.65,-0.68,-0.69,-0.63,-0.92,-0.67,-0.67,-0.66,-0.65,-0.69,-0.7,-0.68,-0.69,-0.69,-0.61,-0.65,-0.69,-0.7,-0.72,-0.74,-0.56,-0.73,-0.64,-0.68,-0.77,-1.27,-0.49,-1.11,-0.68,-0.55,-0.22,-0.68,-0.85,-0.79,-1.12,-0.78,-0.31,-0.77,-0.71,-0.65,-0.6,-0.82,-0.7,-0.82,-0.78,-0.72,-0.6,-0.63,-0.31,-0.83,-0.67,-0.47,-0.35,-0.84,-1.07,-0.83,-0.58,-0.78,-1.0,-1.02,-0.78,-0.87,-0.71,-0.83,-0.83,-0.26,-0.41,-0.85,-0.82,-0.62,-0.79,-0.88,-0.83,-0.53,-0.8,-0.77,-0.75,-0.6,-0.82,-0.29,-0.66,-0.82,-0.44,-0.78,-0.8,-0.81,-0.66,-1.02,-0.87,0.27,-0.96,0.22,-0.95,0.77,-0.93,-0.7,-1.1,0.62,-0.04,0.29,0.33,-1.2,-0.9,-0.88,-0.89,-0.92,-0.93,-0.92,-0.93,-0.93,-0.9,-0.96,0.19,0.3,-0.9,-0.89,-0.89,-1.1,-1.09,-1.1,-0.89,-0.87,-0.88,-1.11,-1.07,-0.84,-0.86,-0.88,-0.89,-1.27,-0.4,-0.45,-1.1,-1.08,-1.12,-1.25,-0.98,-0.99,-0.86,-0.88,-0.87,-1.15,0.27,0.33,-1.0,-1.03,-1.05,-1.09,-1.08,-1.09,-0.89,-0.89,-0.86,-1.07,-1.12,-1.13,-1.12,-1.12,-1.13,-0.98,-0.96,-0.95,-0.87,-0.95,-1.14,-1.13,-1.13,-1.13,-1.14,-1.14,-1.12,-1.14,-1.13,-1.12,-1.13,-1.13,-1.13,-1.13,-1.14,-1.14,-1.13,-1.13,-1.13,-1.12,-1.13,-0.94,-0.92,-0.89,1.12,1.16,1.17,0.16,0.71,0.66,0.21,0.44,0.82,0.82,0.75,0.15,0.6,1.13,0.14,0.98,0.38,0.7,1.17,1.2,1.19,-0.11,0.63,0.71,1.23,0.49,0.56,1.03,0.61,0.82,0.62,0.68,0.73,-0.34,0.2,0.55,1.16,0.51,0.48,1.2,1.23,1.24,0.77,0.78,0.49,1.14,1.18,1.2,0.8,0.45,0.62,0.81,0.81,0.8,0.79,0.81,0.85,0.98,1.03,1.03,1.01,0.71,0.64,0.53,0.95,0.54,1.07,1.09,1.02,0.63,0.8,0.78,1.0,1.01,1.03,0.05,0.72,1.11,0.65,0.66,0.65,0.67,0.67,0.67,0.77,0.68,0.61,0.8,0.71,0.51,0.66,0.65,0.66,0.72,1.04,0.98,0.9,0.91,0.69,-0.37,-0.04,0.13,1.1,1.09,0.47,1.04,1.05,0.83,0.67,0.66,0.65,0.48,0.42,0.7,0.54,-0.07,0.82,0.44,-0.02,1.13,0.74,1.0,0.88,1.28,0.58,-0.58,0.72,-0.02,0.29,0.58,0.86,0.86,0.96,0.83,0.85,1.07,0.45,0.37,0.93,1.28,0.47,0.82,0.84,1.01,0.91,0.79,1.28,1.02,1.1,0.9,0.79,1.15,0.95,0.9,0.4,0.58,1.28,1.04,0.48,0.84,0.84,0.82,0.97,0.96,1.17,0.74,0.7,0.9,0.69,0.85,0.79,0.74,0.84,0.8,0.82,0.85,0.63,0.84,0.73,1.2,0.74,1.0,1.11,0.68,0.19,0.86,0.7,0.89,0.7,0.59,0.72,1.08,1.25,0.66,1.05,0.84,0.9,0.83,-0.01,-0.14,-0.17,-0.24,0.15,-0.07,-0.45,0.17,0.52,-0.16,0.35,0.32,0.08,-0.4,-0.02,0.16,-0.5,-0.28,-0.42,-0.04,-0.36,0.05,0.12,-0.05,-0.27,0.22,-0.12,-0.18,0.09,0.18,0.14,-0.1,-0.11,0.18,-0.17,-0.18,-0.3,0.07,0.1,-0.54,0.22,-0.07,0.18,0.0,-0.05,0.2,0.36,-0.58,0.24,0.17,-0.08,-0.09,0.46,-0.03,-0.27,-0.05,-0.52,-0.06,-0.06,-0.33,-0.05,-0.37,-0.62,0.01,-0.05,-0.21,0.14,-0.4,0.01,-0.2,-0.22,0.24,0.06,-0.09,-0.3,-0.17,-0.08,-0.44,0.0,0.07,-0.2,-1.21,0.22,-0.07,-0.05,-0.32,0.28,-0.75,0.08,0.02,1.27,0.12,-0.71,-0.36,1.28,0.81,1.28,1.2,1.21,-0.27,0.11,0.26,-0.73,0.09,0.07,1.16,-0.8,0.64,-1.0,0.76,0.39,0.94,-0.67,0.36,-0.18,-0.15,1.28,1.28,0.22,0.14,1.28,1.28,1.12,0.88,0.2,0.11,0.18,-0.17,1.11,1.12,1.11,1.08,1.08,0.25,1.26,0.59,-0.2,-0.71,-0.12,-0.95,-0.32,-0.79,-0.76,-0.86,-0.22,-1.07,-0.73,-0.38,-0.32,-0.47,-0.5,-0.54,-0.32,-0.5,-0.79,-0.23,-0.13,-0.06,-0.38,-0.75,-0.63,0.47,-0.8,-0.07,-1.02,-0.58,-0.64,-0.76,-0.61,-0.61,-0.55,-0.34,-0.62,-0.19,-0.4,-0.56,-0.54,-0.79,-0.52,-0.62,-0.62,-0.53,-0.61,-0.73,-0.4,-0.86,-0.86,-0.89,-0.69,-0.85,-0.85,-1.27,-0.75,-0.76,-0.84,-0.84,-0.85,-0.03,-1.14,-1.01,-0.98,-0.34,-1.07,-1.21,-0.45,-0.88,-1.13,-0.21,-1.24,-0.85,-1.2,-1.27,-0.44,-1.26,-0.87,-0.87,-0.87,-0.88,-0.88,-0.87,-0.99,-0.08,-1.27,-0.88,-0.88,-0.87,-0.88,-0.87,-0.88,-0.87,-0.87,-0.88,-0.87,-0.87,-0.88,-0.86,-0.88,-0.88,-0.87,0.04,0.08,0.06,-0.1,0.05,-0.01,0.13,0.07,0.02,-0.15,0.06,0.02,0.17,0.1,0.13,0.17,0.19,0.16,0.0,0.14,0.21,-0.01,-1.1,-1.13,0.02,-0.02,-0.07,0.14,0.1,0.08,0.09,0.13,0.09,0.12,0.12,0.14,0.15,0.11,0.1,0.11,0.12,0.0,-1.11,-1.11,-1.1,-0.96,-0.97,-0.95,-0.95,-0.94,-0.95,-1.08,-1.09,-0.98,-1.04,-1.04,-1.02,-1.05,-1.05,-1.06,-0.94,-0.94,-0.96,-1.0,-1.01,-1.01,-1.04,-1.05,-1.03,-0.97,-0.99,-1.01,-1.04,-1.05,-1.04,-1.04,-1.04,-1.07,-1.04,-0.98,-0.97,-0.95,-0.95,-0.95,-1.01,-1.0,-1.04,-0.96,-0.94,-0.95,-1.01,-0.98,-1.0,-1.15,-1.15,-1.16,-1.16,-1.01,-0.77,-1.05,-1.01,-1.01,-1.0,-1.21,-0.16,0.03,-1.08,-1.07,-0.21,-1.13,-1.15,-1.15,-1.04,-0.16,-1.13,-1.27,-0.23,-1.08,-1.16,-1.16,-1.16,-0.14,-0.04,-0.01,-0.14,0.03,0.54,-0.04,-0.02,0.63,0.65,0.65,-0.14,-0.1,-0.11,-0.03,-0.01,0.03,-0.02,-0.09,-0.15,-0.13,-0.1,-0.09,-0.13,-0.04,-0.14,-0.01,-0.11,-0.11,-0.09,-0.12,-0.16,0.22,0.2,0.6,0.78,0.78,0.77,0.75,0.75,0.77,0.59,0.58,0.59,0.77,0.75,0.73,0.73,0.7,0.7,0.69,0.69,0.69,0.61,0.59,0.57,0.78,0.76,0.76,0.69,0.68,0.7,0.72,0.71,0.73,0.74,0.75,0.77,0.7,0.71,0.29,0.82,0.85,0.85,0.64,0.64,0.66,0.28,0.25,0.77,0.25,0.26,0.62,0.67,0.65,0.63,0.57,0.58,0.57,0.62,0.64,0.63,0.62,0.63,0.64,0.57,0.58,0.22,0.66,0.65,0.66,0.63,0.62,0.63,0.66,0.64,0.63,0.68,0.67,0.67,0.84,0.83,0.86,0.63,0.64,0.65,0.86,0.86,0.85,0.82,0.71,0.64,0.66,0.67,0.67,0.7,-0.7,-1.04,-0.6,-0.87,-0.55,-0.42,-1.21,-0.49,-1.02,-0.96,-1.01,-1.08,-0.29,-0.79,-0.31,-1.27,-0.72,-0.3,-1.13,-1.27,-1.05,-1.06,-0.88,-1.08,-0.51,-0.54,-0.9,-0.75,-0.81,-0.86,-0.23,-0.75,-0.72,-0.99,-0.76,0.04,-0.49,-0.89,-0.94,-1.25,-0.93,-1.17,-0.75,-0.98,-0.47,-0.43,-1.03,-0.91,-0.79,-1.11,-0.62,-1.1,-1.04,-1.26,-1.13,-0.46,-0.73,-0.45,-1.27,-0.91,-0.45,-0.56,-1.03,0.07,-0.36,0.32,-0.87,-0.95,-0.59,-0.81,-0.83,-0.69,-0.28,-0.81,-0.49,-0.77,-0.95,-0.7,-0.82,-1.03,-0.67,-0.61,-0.95,-0.81,-0.76,-1.03,-0.59,-0.53,-0.79,-0.9,0.32,-1.02,-0.25,-0.08,-0.02,-1.17,-1.13,-0.93,-1.24,0.17,-0.57,-0.87,-0.5,-1.27,-1.07,-1.27,-1.22,-0.99,-0.13,-0.11,-1.05,-0.99,-0.6,-0.44,-1.19,-1.03,-0.95,-0.52,-1.15,-0.65,-0.77,-0.05,-1.03,-1.0,-0.92,-0.84,-0.83,-0.71,-0.47,-1.1,-1.1,-1.14,-1.0,-0.94,-0.8,-0.24,-0.83,-1.04,0.04,-0.37,-1.04,-0.71,-1.25,-0.5,-0.5,-0.82,-0.88,-0.67,-0.34,-0.74,-0.85,-0.61,-0.72,-0.57,-0.79,-0.28,-0.9,-0.93,-0.49,-0.85,-1.27,-0.47,-0.8,0.75,0.07,-1.27,-0.37,-0.81,-1.27,0.5,-1.27,-1.18,-1.18,-1.18,-1.18,-1.18,-1.16,-1.15,-1.16,-1.17,-1.18,-1.16,0.25,-0.52,-0.88,-1.18,-1.15,-1.17,-1.17,-1.17,-1.17,-1.27,-0.99,-1.27,-1.16,-1.17,-1.16,-1.16,-1.16,-1.16,-0.41,-1.27,-1.27,-1.16,-1.15,-1.15,-0.91,-0.84,-0.47,-1.27,-1.27,-1.26,-1.18,-1.19,-1.18,-1.25,-1.27,-0.67,-1.19,-1.14,-1.13,-1.19,-1.17,-1.12,-1.26,-1.26,-1.25,-1.11,-1.11,-1.12,-0.97,-0.64,-0.73,-1.2,-1.19,0.53,-1.12,-1.15,-1.12,-1.2,-1.19,-1.17,-0.58,-1.18,-1.22,-0.43,-0.3,0.84,-1.11,-1.1,-1.11,-1.18,-1.15,-1.27,-1.25,-1.24,-1.25,-1.27,-1.27,-1.27,-1.15,-0.73,-1.11,-1.2,-0.69,-1.25,-1.22,-1.2,-1.2,-1.16,-1.15,-1.14,-0.62,-0.76,-1.18,-1.27,-1.27,-1.26,-1.1,-1.1,-1.1,-1.26,-1.26,-1.15,-1.27,-1.27,-1.1,-1.16,0.14,-1.13,-1.17,-1.14,-0.16,0.38,0.45,0.35,0.51,0.38,0.76,0.57,0.36,0.35,0.67,0.2,0.32,0.42,0.41,0.8,0.58,0.31,0.58,0.34,0.13,0.7,0.21,0.29,0.21,0.29,0.66,0.45,-0.05,0.34,0.8,0.65,0.39,0.47,0.42,0.25,0.7,0.06,0.32,-0.17,0.14,0.23,0.36,0.45,0.45,0.32,0.36,0.68,0.34,0.48,0.31,0.37,0.35,0.13,0.35,0.13,0.01,0.29,0.33,0.16,0.17,0.02,0.1,0.12,0.24,0.07,0.25,0.36,0.13,0.03,0.32,0.25,-0.12,0.25,0.37,0.25,-0.03,0.67,-0.07,0.08,0.23,0.43,0.24,0.12,0.15,0.38,0.11,0.25,-0.03,0.12,0.11,0.28,0.22,0.03,0.03,0.25,0.35,0.41,0.31,0.41,0.13,0.26,0.03,0.21,0.37,0.34,0.1,0.04,0.23,0.1,0.3,0.27,0.41,0.42,0.34,0.22,0.4,0.29,-0.08,0.15,0.16,0.07,0.34,0.14,0.27,0.2,0.32,-0.2,0.3,0.37,0.04,0.46,0.29,0.33,0.35,0.19,0.5,0.28,0.27,-0.27,0.27,0.31,0.27,-0.06,0.28,0.05,0.39,0.37,0.29,0.04,0.03,0.21,0.16,0.22,0.17,-0.4,-0.41,-0.4,-0.16,-1.07,-1.11,-1.12,-0.43,-0.42,-0.41,-1.15,-1.11,-1.12,-1.1,-0.98,-1.1,-0.48,-0.47,-0.43,-1.15,-1.15,-0.47,-0.37,-0.71,-1.04,-0.4,-0.39,-0.38,-0.49,-0.48,-0.48,-0.44,-0.33,-0.41,0.04,-1.18,-0.47,-0.52,-0.51,-0.5,-0.48,-0.49,-0.48,-0.48,-0.47,-0.46,-0.47,-0.46,-0.47,-1.03,-1.03,0.06,-0.4,-0.42,-0.57,-0.45,-0.45,-0.45,-1.25,-1.25,-1.22,-1.16,-1.2,-1.19,-1.27,-1.27,-1.21,-1.09,-1.27,-1.26,-1.23,-1.23,-1.16,-1.22,-1.24,-1.27,-1.24,-1.18,-1.26,-1.18,-1.19,-1.19,-1.2,-1.22,-1.27,-0.65,-1.08,-1.19,-1.18,-1.22,-0.47,-0.44,-0.44,-1.26,-0.52,-0.49,-0.38,-0.41,-0.41,-0.42,-0.42,-1.01,-0.38,-0.38,-0.37,-0.41,-0.37,-0.39,-1.18,-0.43,-0.41,-0.41,-0.4,-0.4,-0.49,-0.48,-0.48,-1.15,-0.48,-0.48,-0.51,-0.5,-0.36,-0.93,-0.73,-1.08,-0.47,-0.46,-0.45,-0.42,-0.42,-0.42,-0.42,-0.43,-0.43,-0.42,-0.42,-0.42,-0.42,-0.42,-0.41,-0.41,-0.41,-0.4,-0.43,-0.41,-0.4,-0.42,-0.43,-0.44,-0.43,-0.41,-0.42,-0.43,-0.42,-0.41,-0.42,-0.41,-0.42,-0.41,-0.42,-0.44,-0.42,-0.42,-0.4,-0.44,-0.45,-0.44,-0.58,-0.57,-0.61,-1.03,-0.59,-0.57,-0.57,-0.64,-0.61,-0.58,-0.58,-0.58,-0.58,-0.61,-0.58,-0.57,-0.43,-0.44,-0.61,-0.59,-0.61,-0.62,-0.62,-0.6,-1.23,-0.77,-0.79,-0.79,-0.79,-0.79,-0.61,-1.24,-1.22,-0.6,-0.61,-0.6,-0.78,-0.78,-1.27,-0.96,-0.97,-0.94,-1.27,-1.27,-0.97,-0.91,-0.92,-0.91,-0.94,-0.92,-0.92,-0.61,-0.61,-0.6,-0.6,-0.59,-0.6,-0.91,-0.92,-0.91,-0.58,-0.6,-0.6,-0.81,-0.82,-0.82,-0.72,-0.7,-0.71,-0.73,-1.13,-0.79,-0.83,-0.84,-0.84,-1.24,-0.68,-0.7,-0.64,-0.62,-0.64,-0.69,-0.68,-0.69,-0.91,-0.91,-0.9,-0.69,-0.71,-0.64,-0.87,-0.69,-0.7,-0.82,-0.76,-0.71,-0.84,-0.86,-0.86,-1.27,-1.27,-1.27,0.07,-0.26,-1.27,-0.9,-1.27,-1.27,-0.63,-0.63,-0.61,-1.26,0.3,-1.27,-0.43,-0.7,-1.27,-0.63,0.21,-0.15,-0.81,-1.27,-0.94,-1.13,-1.27,-0.27,-0.41,-0.77,-0.77,-0.7,-1.27,-1.27,-1.17,-0.59,-0.31,-1.15,-0.94,-0.38,0.29,-0.48,-0.99,-1.27,-0.5,-0.67,-1.27,-0.91,0.37,-1.27,-0.41,-0.65,-0.94,-1.07,-0.62,-0.74,-0.93,-1.27,-1.17,-1.27,-0.57,-0.51,0.19,0.26,-0.31,-0.37,-0.34,-0.02,0.55,0.74,-0.89,-0.85,0.19,0.67,0.82,-0.4,-0.41,-0.38,-0.33,-0.36,0.37,-0.48,-0.47,-0.45,-0.32,-0.17,-0.39,0.7,-0.02,0.05,0.03,0.01,0.01,-0.48,-0.52,-0.47,-0.42,-0.4,-0.37,-1.27,0.17,0.74,-0.4,-0.41,-0.43,-0.15,-0.31,-0.15,-0.28,-0.3,-0.36,-0.4,-0.4,-0.41,-1.27,-1.27,0.38,0.87,0.03,0.12,-1.05,-1.27,-1.27,-0.73,-1.01,-1.01,-1.02,0.21,0.15,-1.27,-0.45,-1.27,-0.94,-1.27,-1.27,-1.27,-0.08,-1.01,-1.02,-1.01,-1.02,-0.25,1.21,0.2,-0.98,-0.92,0.14,-1.23,-0.9,-0.9,-0.88,-0.3,-0.91,0.12,0.4,-0.12,-0.91,-0.87,-0.88,-0.87,1.16,0.24,-0.21,-0.16,-0.89,-0.87,0.18,-0.86,0.14,-0.87,-0.89,-0.87,-0.87,-0.88,-0.87,-1.03,-1.03,-1.03,0.15,0.37,0.15,-1.03,-1.04,-1.04,-1.27,0.12,-1.27,-1.03,-1.02,-1.03,-0.88,-0.89,-0.88,0.72,0.1,0.03,-0.87,-0.87,-0.85,-0.89,-0.9,-0.88,-0.86,-0.88,-0.93,-0.89,-0.9,-0.88,-0.97,-0.96,-0.93,0.58,-0.51,-1.17,-0.88,-0.88,-0.89,-0.82,-0.82,-0.88,-0.97,-0.95,-0.96,-0.94,0.11,0.24,-1.04,0.01,-1.08,0.5,-0.94,-0.87,-0.87,0.16,1.15,-0.94,-0.19,-0.91,-0.9,-0.89,-0.86,0.08,-0.88,-0.89,-0.86,-0.89,-0.92,-0.91,-0.86,-0.87,-0.84,-0.77,-0.9,-0.88,-1.27,-0.84,-1.27,-0.9,-0.01,-0.84,-0.84,-0.94,-0.88,-0.89,-0.87,-0.92,-0.91,-0.86,-0.74,-0.85,-1.02,-0.91,-0.91,-1.19,0.15,-0.9,-0.86,-0.92,-0.93,-0.93,-0.23,-0.93,0.13,-0.96,-0.94,0.03,0.87,-1.09,-0.22,-0.88,-0.91,-0.9,-0.9,-0.9,-0.94,0.7,-0.94,-0.94,-0.95,0.74,-0.28,-1.01,-1.03,-0.28,-1.04,-0.07,0.01,0.09,-1.07,-1.07,-1.07,-1.0,-0.99,-1.0,-1.05,-1.06,-1.05,-1.04,0.13,-1.01,-1.01,-1.02,-1.06,-1.05,-1.09,-1.02,-0.98,-1.0,-0.98,-1.03,-1.04,-1.05,-0.98,-0.48,-0.16,0.03,-0.01,-0.34,-1.08,-0.99,-1.0,-0.98,-0.98,-0.98,-0.95,-0.96,-0.96,-0.99,-1.0,-0.99,-1.0,-1.0,-1.05,-1.01,-0.99,-1.01,-0.99,-0.99,-1.0,-0.96,-0.84,-0.99,-1.03,-1.03,-1.03,-0.95,-0.98,-0.97,-0.95,-0.97,-0.96,-1.0,-1.0,-1.02,-0.98,-0.98,-0.98,-1.0,-1.05,-0.63,-0.99,-1.03,-0.99,-0.99,0.35,-1.01,-0.01,-1.01,-1.01,-0.99,-1.0,-1.0,-0.99,-1.02,-1.02,-1.0,-1.01,0.5,-1.07,-1.06,-1.11,-0.95,-0.91,-1.0,-0.97,-0.95,-0.99,-0.39,-0.96,-1.03,0.23,-0.1,-0.97,0.68,0.85,0.97,-0.96,-0.93,-0.67,-0.41,-0.91,-0.92,-0.34,-0.89,-0.66,-1.27,-0.86,0.06,-0.04,-0.94,-0.39,1.06,1.28,-0.9,-0.96,-0.95,-0.48,-0.96,-0.97,-0.94,-0.47,-0.61,-0.9,-0.72,-0.6,-0.04,-0.99,-0.91,-0.97,-0.92,-0.24,-0.99,-0.92,-0.94,-0.91,-0.96,0.66,-0.85,-0.24,-0.83,-0.17,-0.91,-0.88,0.03,-0.89,-0.87,-0.58,-0.9,-0.88,0.7,-1.0,-0.97,-0.98,-0.02,-0.88,-0.89,-0.23,-0.8,-0.55,-0.93,-0.94,-0.95,-0.98,0.09,0.28,-0.19,-0.88,-0.9,-0.86,-0.92,-0.97,-0.1,1.28,-0.65,-0.64,-0.73,-0.63,-0.77,-0.13,-0.31,-0.65,-0.92,-0.54,-0.76,-0.91,-0.91,-0.19,-0.54,-0.94,-0.9,-0.1,-0.66,-0.88,-0.9,0.91,-0.53,-0.91,-0.5,-0.99,-0.85,-0.86,-0.11,-0.81,-0.87,-0.91,-0.77,-0.91,-0.84,-0.11,-0.91,-0.89,-0.9,-0.38,-0.83,-0.89,-0.89,-0.44,-0.9,-0.9,-0.94,-0.93,-1.24,-0.88,-0.93,-0.94,-0.91,-0.92,-0.88,0.32,0.08,0.11,1.28,-0.92,-0.93,-1.27,-1.27,-1.27,-1.02,-0.56,-0.08,0.1,-1.27,-1.27,-1.27,-0.8,-0.81,-0.79,-0.75,-0.77,-0.76,-0.74,-0.77,-0.74,-0.76,-0.77,-0.75,-0.76,-0.74,-0.73,-0.76,-0.77,-0.76,-0.06,-1.27,-1.27,-0.75,-0.71,0.08,-0.71,-0.68,-0.76,-1.27,-1.27,-0.8,-0.77,-0.77,-0.77,-0.8,-0.81,-0.77,-0.78,-0.78,-1.27,1.28,1.11,1.11,1.1,1.13,0.99,0.97,1.14,0.37,1.28,1.19,1.19,1.23,1.28,1.28,1.28,1.28,1.28,0.55,0.34,1.14,1.28,1.13,1.28,1.21,1.17,1.24,1.23,1.25,1.28,1.28,0.99,1.15,1.17,1.28,1.16,1.19,1.2,1.23,1.23,1.24,1.28,1.11,1.13,1.24,1.28,1.14,1.01,1.28,1.28,1.17,1.17,1.19,1.25,1.25,1.25,0.36,0.99,1.28,1.19,1.19,1.19,1.19,1.19,1.19,1.2,1.2,1.2,1.2,1.21,1.2,1.19,1.2,1.19,1.21,1.2,1.2,1.19,1.19,1.19,1.2,1.2,1.2,1.2,1.2,1.2,1.19,1.19,1.19,1.05,1.2,1.21,1.19,1.19,1.18,1.18,1.19,1.18,1.18,1.18,1.19,1.18,1.18,1.18,1.17,0.92,0.91,1.18,1.18,1.18,0.89,1.28,1.28,1.17,1.19,1.18,1.19,1.18,1.18,1.19,1.18,1.19,0.89,0.88,0.9,1.18,1.17,1.18,1.2,1.2,1.19,1.19,1.18,1.18,1.27,1.19,1.22,1.13,0.91,0.9,1.18,1.19,1.16,1.19,1.18,1.18,1.2,1.22,1.22,1.16,1.16,1.18,1.05,1.16,1.16,1.18,1.19,1.17,1.04,1.28,1.28,1.2,1.19,1.19,1.16,1.17,1.16,0.93,1.17,1.15,0.55,0.13,1.0,0.56,0.6,0.11,0.84,0.53,1.13,0.11,0.55,-0.38,0.91,1.12,1.12,1.13,-0.35,0.76,0.73,0.73,0.71,0.36,1.13,0.57,0.15,0.1,0.1,0.09,0.43,0.48,0.17,0.38,0.37,-0.19,-0.07,0.1,0.06,0.07,0.09,0.09,-0.03,-0.01,-0.02,0.24,-0.58,-0.05,-0.16,-0.2,-0.26,0.19,0.69,-0.18,0.03,0.04,0.4,0.43,0.42,0.37,-0.12,-0.25,-0.01,0.39,-0.65,-0.58,-0.63,-0.33,-0.59,-0.55,0.63,0.66,-0.65,-0.61,-0.64,-0.65,-0.63,-0.65,-0.58,0.2,-0.57,-0.58,-0.14,-0.59,-0.75,-0.74,-0.72,-0.78,-0.74,-0.77,-0.82,-0.39,-0.45,-0.48,-0.43,-0.81,-0.35,-0.96,-0.75,-0.73,-0.7,-0.69,-0.69,-0.78,-0.78,-0.48,-0.77,-0.81,-0.03,-0.82,-0.3,-0.78,-0.81,-0.73,-0.74,-0.74,-0.74,0.06,-0.76,-0.82,-0.74,-0.73,-0.76,-0.76,-0.77,-0.68,-0.81,-0.83,-0.27,-0.26,-1.02,-0.81,-0.81,-0.83,-0.3,-0.82,-0.82,-0.71,-0.72,-0.49,-0.08,-0.44,-0.77,-0.77,-0.73,-0.73,-0.7,-0.7,-0.71,-0.7,-0.75,-0.33,-0.16,0.62,-0.27,-1.14,-0.37,-0.35,-0.58,-0.04,-1.13,-0.81,-0.67,-0.4,-0.23,-0.44,-0.06,-0.46,-0.56,-1.19,-0.65,-1.27,-1.27,-1.17,-0.61,-0.62,-1.27,-0.04,-1.27,-1.11,-0.72,-1.27,-0.35,-0.7,-1.05,-0.55,-0.54,-1.27,0.08,-0.58,-0.33,-1.07,-0.56,-1.27,-0.6,-0.14,-0.54,-0.52,-0.96,-0.97,-0.95,-1.25,-0.99,-0.97,-0.64,-0.27,-0.33,-0.81,-0.8,-0.79,-1.27,-1.27,-1.22,-0.69,-0.08,-0.58,-0.85,-1.27,-1.27,-0.95,-0.97,-0.96,-0.53,-0.95,-0.71,-1.27,-1.27,-1.27,-0.75,-1.27,-0.56,-0.96,-0.97,-0.96,-0.75,-0.74,-0.78,-1.27,-1.2,-1.23,-0.45,-1.27,-0.43,-1.18,-1.13,-0.14,-0.94,-1.11,-1.25,-1.27,-0.29,-1.27,-0.97,-1.19,-1.16,-1.13,-1.09,-1.12,-1.04,-1.18,-1.15,-1.27,-1.17,-1.15,-0.94,-0.97,-0.97,0.04,-0.9,-1.27,-1.27,-1.15,-1.16,-0.36,-1.27,-0.92,-1.24,-1.24,-1.23,0.32,0.32,0.32,0.32,0.31,0.04,0.21,-0.37,0.86,0.41,-0.7,0.34,0.32,0.34,0.33,0.32,0.32,0.31,0.22,0.6,-0.46,0.33,0.32,0.32,0.32,0.28,-0.52,0.41,0.39,0.38,0.42,0.42,0.44,0.4,0.42,0.41,0.29,-0.72,0.44,0.27,0.25,0.59,0.4,-0.65,0.37,0.39,0.38,0.42,-0.33,0.36,0.34,0.41,0.42,0.42,0.35,0.29,0.32,-0.59,0.34,0.34,0.36,0.27,0.27,0.64,1.0,0.94,0.52,0.37,0.37,0.62,0.62,0.64,0.8,-0.37,-1.27,0.23,0.22,0.36,0.36,0.36,0.36,0.43,0.44,-0.02,0.39,0.4,0.43,0.3,0.31,0.32,0.39,0.38,0.39,0.39,-0.72,0.45,-0.16,-0.16,0.27,0.63,0.64,0.65,0.37,0.36,1.27,0.25,0.25,-0.42,0.31,0.37,0.38,-0.26,-0.57,-0.02,0.57,-0.18,0.28,0.27,0.25,0.04,0.05,0.04,0.26,0.26,0.32,-0.17,-0.09,-0.11,0.03,0.08,0.03,0.02,0.02,0.26,0.52,0.18,0.71,0.92,0.14,0.41,0.91,0.3,0.29,-0.25,1.03,1.19,0.26,0.29,-0.06,0.25,0.26,0.25,0.58,0.08,0.05,0.8,0.56,0.67,1.28,0.43,0.41,1.13,1.1,0.95,0.89,1.03,0.01,0.81,0.55,0.58,0.62,0.82,0.54,0.8,1.28,1.19,0.96,0.94,0.79,0.98,1.28,0.6,0.84,0.47,0.84,0.74,0.8,0.79,0.8,-0.48,1.2,1.11,1.28,0.22,0.2,0.19,0.68,0.89,0.23,0.21,0.65,0.62,0.78,1.05,1.28,0.79,1.28,0.53,0.62,0.69,0.68,0.7,0.89,0.89,0.89,0.69,0.71,0.72,0.24,0.86,0.88,0.64,0.66,-0.17,0.8,0.89,0.89,0.19,0.2,0.2,0.21,0.2,0.2,0.77,0.79,0.78,1.08,0.78,0.77,0.76,0.78,0.76,0.8,0.79,0.72,0.73,0.72,-0.37,-0.8,-0.86,-1.1,-0.88,-0.62,-0.62,-0.71,-0.52,-0.17,-1.08,0.24,-1.11,-0.65,-1.23,-1.02,-1.27,-0.92,-0.78,-1.27,-0.82,-0.86,-0.54,-1.27,-1.27,-1.04,-1.13,-0.53,-0.84,-1.27,-1.27,-1.27,-0.82,-0.94,-0.19,-1.27,-1.27,-1.27,-1.27,-1.27,-1.27,-1.27,-1.27,-1.27,-1.27,-1.27,-1.27,-1.27,-1.27,-1.27,-0.83,-1.27,-1.27,-1.04,-0.41,-0.39,-1.27,-1.15,-0.39,-0.32,-0.67,-0.6,0.2,-0.78,-0.69,-1.27,-1.27,-1.27,-1.27,-1.27,-1.27,-1.27,-1.27,-1.27,-1.27,-1.27,-1.27,-1.27,-1.27,-1.27,-1.27,-1.27,-1.27,-1.27,-1.27,-1.27,-1.27,-1.27,-1.27,-1.27,-1.27,-1.27,-1.27,-1.27,-1.27,-1.27,-1.27,-1.27,-1.27,-1.27,-1.27,-1.27,-1.27,-1.27,-1.27,-1.27,-0.8,-1.27,-1.27,-1.27,-0.69,0.49,-1.07,-1.18,-0.34,-0.74,-1.27,-1.27,-1.27,-1.27,-0.8,-1.27,-1.17,-1.27,-1.27,-1.27,-1.27,-1.27,-0.9,-0.11,-1.17,-1.27,-1.27,-1.27,-0.5,-1.27,-1.27,-0.49,-1.27,-1.27,-1.27,-1.27,-1.27,-1.27,-1.27,-1.27,-0.86,-1.27,-0.41,-0.85,-0.69,-1.15,-1.27,-1.26,-1.27,-1.26,-1.27,-0.59,-1.27,-1.27,-1.27,-0.49,-1.27,-1.27,-0.42,-1.2,-0.35,-1.22,-1.22,-1.23,-1.27,-1.27,-0.99,-1.23,-1.23,-1.27,-0.93,0.66,-0.77,-1.27,-1.27,-1.27,-1.27,-1.26,-1.26,-1.27,-1.27,-1.27,-1.27,-1.24,-1.22,-1.27,-1.27,-1.27,-1.27,-1.27,-1.27,-1.06,-1.27,-1.27,-1.27,-1.27,-1.27,-1.27,-1.27,-0.79,-1.27,-1.27,-1.27,-1.27,-0.74,-1.27,-1.27,-1.27,-1.27,-1.27,-1.27,-1.27,-1.27,-1.18,-1.27]}],\"hovertemplate\":\"%{xaxis.title.text}=%{x}<br>%{yaxis.title.text}=%{y}<br>inference=%{marker.color}<extra></extra>\",\"legendgroup\":\"\",\"marker\":{\"color\":[1,1,1,1,1,1,1,1,1,1,1,1,0,0,1,1,1,0,1,1,1,1,1,0,1,1,1,1,1,0,0,1,1,1,0,0,0,1,1,1,0,1,1,1,0,0,1,1,1,1,1,1,1,1,1,0,1,1,1,0,0,1,0,1,1,1,1,1,1,1,1,1,1,1,1,1,1,1,1,1,1,1,1,1,0,0,0,0,0,0,1,1,1,1,0,1,1,1,1,0,0,0,0,1,1,1,1,0,0,0,0,0,0,0,0,1,1,1,1,1,0,1,1,1,1,0,0,0,1,0,1,1,1,1,1,1,1,1,1,1,1,1,1,1,1,1,1,1,1,0,0,1,1,1,0,0,0,0,1,1,1,0,0,0,1,0,0,0,0,0,0,0,0,0,0,1,1,0,0,1,1,1,1,1,1,1,1,1,1,1,1,1,1,1,1,1,1,1,1,1,1,1,1,1,1,1,1,1,1,1,1,1,1,1,1,1,1,1,1,1,1,0,1,1,1,1,1,1,1,1,1,1,1,1,1,1,1,1,1,0,1,1,1,1,1,1,1,1,1,1,1,1,1,1,0,1,1,1,1,1,1,1,1,1,1,1,1,1,1,0,1,1,1,1,0,1,1,1,0,1,1,1,1,1,0,1,1,1,1,1,1,1,1,0,1,1,0,1,1,1,1,0,1,1,1,1,1,1,1,1,1,1,1,1,1,1,1,1,1,1,1,1,1,1,1,1,1,1,1,1,1,1,1,1,1,1,1,1,1,1,0,1,1,1,1,1,1,1,1,1,1,1,1,1,1,1,1,1,1,1,1,0,0,0,1,1,1,1,1,1,1,0,0,1,1,1,1,0,1,1,1,1,1,0,1,1,1,0,1,1,1,0,0,0,0,1,1,0,0,0,1,1,1,1,1,1,0,0,0,0,0,1,1,1,1,1,1,1,0,0,0,1,0,0,0,0,1,0,1,0,1,0,1,1,1,1,1,1,1,1,1,1,1,1,1,1,1,1,1,1,1,1,1,1,1,1,1,1,1,1,1,1,1,1,1,1,1,1,1,1,1,1,1,1,1,1,1,1,1,1,1,1,1,1,1,1,1,1,1,0,1,1,1,1,1,1,1,1,1,0,1,0,1,1,1,1,1,1,1,1,1,0,1,1,1,0,1,0,1,1,0,1,1,1,0,1,0,0,1,0,1,1,0,1,1,0,1,1,1,1,0,1,1,1,0,1,0,1,0,0,1,0,0,1,0,1,0,0,0,0,1,0,1,0,1,1,0,0,0,0,0,1,0,0,0,0,0,0,0,0,0,0,0,1,0,0,0,0,0,0,0,0,0,1,0,0,0,0,0,0,1,1,1,1,1,1,1,1,1,1,1,1,1,1,1,1,1,1,0,0,0,1,1,1,0,0,0,1,1,1,0,0,0,1,1,1,1,1,1,0,0,0,1,1,1,1,1,1,1,1,1,0,1,0,1,1,1,0,0,0,0,0,1,1,1,1,0,0,0,1,1,1,1,1,0,1,1,1,0,0,0,0,0,0,0,1,1,0,0,1,0,0,0,1,1,1,1,1,0,1,1,1,1,1,0,0,0,0,0,0,0,1,1,1,1,1,1,1,1,1,1,1,1,1,1,1,1,1,1,1,1,1,1,1,1,1,1,1,1,1,1,1,1,1,1,1,1,1,1,1,1,1,1,1,1,1,1,1,1,1,1,1,1,1,1,1,1,1,1,1,1,1,1,1,0,1,1,1,1,1,1,0,1,1,1,1,1,1,1,1,1,1,1,1,1,1,1,1,1,1,1,1,1,1,1,1,1,1,1,1,1,1,1,1,1,1,1,1,1,1,1,1,1,1,1,1,1,1,1,1,1,1,1,1,1,1,1,1,1,0,0,1,1,1,1,1,1,1,1,1,1,1,1,1,1,1,1,1,1,1,1,1,1,1,1,1,1,1,1,1,1,1,1,1,1,1,1,1,1,1,1,1,1,1,1,1,1,1,1,1,1,1,1,1,1,1,1,1,1,1,1,1,1,1,1,1,1,1,1,1,1,1,0,1,1,1,1,1,1,1,1,1,1,1,1,1,1,0,0,0,1,1,1,1,1,1,1,1,1,1,0,1,1,1,1,1,1,1,1,1,1,1,1,1,1,1,1,0,0,1,1,1,1,1,1,0,0,0,1,1,1,1,1,1,0,0,0,0,0,0,1,1,0,1,1,0,1,1,1,1,0,1,1,0,0,1,1,1,1,1,1,1,1,1,1,1,1,1,1,1,1,1,0,0,0,1,1,1,1,1,1,0,0,0,0,1,1,1,1,1,0,1,0,1,1,0,0,1,0,0,1,1,1,0,0,0,1,1,0,0,0,1,0,0,0,0,1,0,1,1,0,1,1,1,0,0,0,0,0,0,0,0,0,0,0,0,0,0,1,0,0,1,1,0,0,0,0,0,0,0,1,0,0,0,0,0,0,0,0,0,0,0,0,0,0,0,0,0,0,0,0,0,0,0,0,1,0,0,0,0,0,0,0,0,1,0,0,0,0,0,0,0,0,0,0,0,1,0,0,0,0,1,1,1,0,0,0,0,0,0,0,1,1,1,1,0,0,0,0,0,0,1,1,0,1,1,1,1,1,0,0,1,1,0,0,0,0,0,0,0,1,0,0,0,1,0,0,0,0,0,0,1,0,0,0,0,0,0,0,0,0,0,0,0,0,0,0,1,0,0,0,0,0,0,0,0,0,0,0,0,0,0,0,0,0,0,0,0,0,1,1,0,0,0,0,0,0,0,0,1,0,0,0,0,0,0,0,0,1,0,0,1,1,0,0,0,0,0,0,0,0,0,0,0,0,0,0,0,0,0,0,1,1,0,0,0,0,0,0,0,0,0,0,0,1,1,1,1,1,1,0,0,1,1,1,1,1,1,0,1,1,1,1,1,1,1,1,1,0,0,1,1,1,1,1,0,1,1,1,1,0,0,0,1,1,1,1,0,0,1,1,1,1,1,0,1,1,1,1,1,1,1,1,1,0,0,0,1,1,1,1,1,1,1,1,0,1,1,0,1,1,1,1,1,0,1,0,1,1,1,1,1,1,1,1,1,1,1,1,0,1,1,1,1,1,1,0,1,0,1,1,1,1,1,1,1,1,1,0,1,1,1,1,1,1,1,1,1,1,1,1,1,1,1,1,1,1,1,1,1,1,1,1,1,1,1,1,1,1,1,1,1,1,1,1,1,1,1,1,1,1,1,1,1,1,1,1,1,1,1,1,1,1,1,1,0,0,0,0,0,0,0,0,0,0,0,1,1,1,0,0,0,0,0,0,1,1,1,0,0,0,0,0,0,1,1,1,0,0,0,1,1,1,0,0,0,0,0,0,1,1,1,1,0,0,0,0,1,0,0,0,0,0,1,1,1,1,0,1,1,1,0,0,0,0,0,1,1,1,1,1,1,0,0,0,1,1,1,0,0,0,0,0,0,1,0,0,1,1,0,1,0,1,0,0,0,1,1,1,0,0,1,0,0,1,0,1,0,1,1,0,1,1,1,1,0,1,1,1,1,1,1,1,1,1,1,1,1,1,1,1,1,1,1,1,1,1,1,1,1,1,0,1,1,1,1,1,1,1,1,0,0,0,1,1,1,1,0,1,1,1,1,1,1,1,1,1,1,1,1,1,0,1,0,1,1,1,1,1,0,0,0,1,1,1,1,1,1,1,1,1,1,1,0,1,1,1,1,1,1,1,1,1,1,1,1,1,1,1,1,1,1,0,1,1,1,1,1,1,1,0,1,1,1,0,1,1,1,1,1,1,1,1,1,1,1,1,0,1,1,0,0,0,0,1,1,1,1,1,1,1,1,1,0,0,0,0,1,0,1,0,0,1,1,1,0,0,0,0,0,0,0,0,0,1,0,0,0,0,0,0,1,1,0,0,0,1,1,0,0,0,0,1,0,0,1,0,0,0,0,0,0,1,1,0,1,1,1,1,0,0,0,0,0,0,0,0,0,0,0,0,0,1,0,0,0,0,0,0,0,0,1,0,0,1,0,1,1,1,1,1,0,1,1,0,0,1,1,0,0,1,1,1,1,1,0,1,1,1,1,0,1,1,0,1,1,1,0,0,0,0,1,1,0,0,0,0,0,0,1,1,1,0,0,0,0,0,0,1,1,1,0,0,1,1,1,1,0,0,0,0,0,0,0,0,0,0,0,0,0,0,0,0,0,0,0,0,0,1,1,0,0,0,0,0,0,0,0,0,0,0,0,0,0,0,0,0,0,0,0,0,0,1,0,0,0,0,0,0,0,0,0,1,0,0,0,0,0,0,0,0,0,0,0,0,0,0,0,0,0,1,1,0,0,0,0,0,1,1,0,0,1,0,0,0,0,0,0,0,0,0,0,0,0,0,0,0,0,0,0,0,0,0,0,0,0,0,0,0,1,1,0,0,0,1,1,1,0,0,0,0,0,0,0,0,0,0,0,1,0,1,1,1,0,0,0,0,0,0,1,0,1,1,1,1,1,1,0,0,1,1,1,1,1,1,1,0,0,1,1,1,0,1,1,1,1,1,1,1,1,1,1,1,1,1,1,1,1,1,1,1,1,1,1,1,1,1,1,1,1,1,1,1,1,1,1,1,1,1,1,1,1,0,1,1,1,1,1,1,1,1,1,1,0,1,1,1,1,0,0,0,1,1,1,1,1,0,0,0,1,1,0,1,1,1,0,1,1,1,0,0,0,1,1,1,1,0,0,0,0,0,1,1,1,1,1,1,1,1,1,1,0,0,0,1,1,1,1,1,1,1,1,1,0,1,1,0,0,0,1,1,1,1,1,1,1,0,0,1,1,1,1,1,1,0,0,0,1,1,1,1,1,1,1,1,1,0,0,0,0,0,0,0,0,0,1,1,1,0,0,0,1,1,1,0,1,0,1,0,0,1,1,1,0,0,0,0,0,0,0,0,1,0,0,0,0,0,0,1,1,1,0,0,0,0,0,0,1,1,0,1,1,1,0,1,1,1,1,1,0,0,1,1,0,1,1,0,0,1,1,1,0,0,0,1,1,1,1,0,1,0,0,1,1,1,1,0,0,0,0,0,0,0,0,0,1,0,0,1,0,0,1,1,1,0,0,0,1,1,1,1,1,0,1,1,1,1,0,0,0,0,0,1,1,0,0,1,1,1,1,0,1,1,1,1,1,1,0,1,0,0,0,0,0,0,0,1,1,0,0,1,0,0,0,0,0,1,1,0,1,0,1,0,1,1,1,1,1,1,0,0,0,0,0,0,0,0,1,1,0,0,0,0,0,1,0,1,1,1,0,0,0,0,0,0,0,0,0,1,1,0,0,0,0,1,1,1,0,0,0,0,0,1,1,1,1,1,1,1,0,1,0,1,0,0,1,1,1,1,0,0,1,0,0,1,1,1,1,1,1,1,1,0,0,0,1,1,1,1,0,0,0,0,0,1,1,1,1,0,1,1,1,0,0,1,0,0,1,0,0,1,0,1,1,1,1,0,1,1,1,0,0,1,0,1,0,0,0,0,0,1,1,1,0,0,0,0,0,1,1,1,1,1,1,1,1,0,1,0,0,0,1,0,1,1,1,0,1,1,0,1,0,0,1,0,1,0,0,1,1,1,1,0,0,0,0,0,1,0,0,0,0,1,0,1,1,0,0,1,0,0,0,0,1,0,0,0,1,0,0,1,1,1,1,1,0,1,1,1,0,1,1,0,0,0,1,1,1,1,1,1,0,0,0,1,0,1,1,1,1,0,1,0,0,0,0,0,0,0,0,0,0,0,0,0,0,0,0,0,1,1,1,0,0,1,1,0,1,1,0,1,0,0,0,1,0,0,0,0,0,1,1,1,0,0,1,1,0,0,1,1,1,0,0,0,0,0,1,1,1,1,0,1,0,0,1,0,0,0,1,0,0,1,0,0,0,0,0,0,0,0,1,1,1,0,0,1,1,0,1,0,0,0,0,0,0,1,1,1,0,0,0,0,0,0,0,0,0,0,0,0,0,0,0,0,0,0,0,0,0,0,0,0,0,0,0,0,0,0,1,1,0,0,0,0,0,0,0,0,0,0,0,0,0,0,1,1,0,0,0,0,0,1,0,0,0,0,0,0,0,0,0,0,0,0,0,0,0,0,0,0,0,0,0,0,0,1,0,1,1,0,0,0,0,0,0,0,0,0,0,0,0,0,1,1,0,0,0,0,1,0,0,0,0,0,0,0,0,1,1,1,1,1,1,1,1,0,1,1,1,1,1,1,0,0,0,1,1,1,1,1,1,1,1,1,1,1,1,0,1,1,0,1,1,1,1,1,1,0,0,0,1,0,1,1,1,1,0,1,1,1,1,1,1,0,1,1,1,1,1,1,1,1,1,0,0,1,1,1,0,0,0,0,0,0,1,0,0,1,1,1,0,1,1,0,1,0,1,1,1,1,0,1,1,1,1,0,0,0,0,1,1,0,1,1,1,1,1,0,1,1,0,0,1,1,0,0,1,0,0,0,1,0,0,1,1,0,1,1,1,1,0,1,1,1,0,0,0,0,1,1,1,1,1,0,1,0,0,0,0,0,1,1,1,1,1,1,1,1,1,1,1,1,1,1,1,1,1,1,1,1,1,1,1,1,1,1,1,1,1,1,1,1,1,1,1,1,1,1,1,1,1,1,1,1,1,0,0,0,0,1,1,1,1,1,1,1,0,0,1,0,1,1,1,1,1,1,0,0,0,1,1,1,1,1,1,1,1,1,0,0,0,1,1,0,0,1,0,1,1,1,1,1,1,0,0,1,1,1,1,0,0,1,0,0,1,0,1,0,1,1,0,0,0,0,1,1,1,0,1,0,1,1,1,0,0,0,0,0,0,0,1,1,1,1,1,0,0,0,0,0,0,0,1,0,1,1,1,0,0,0,0,1,0,0,0,1,0,0,0,0,0,0,1,0,0,0,1,1,0,1,0,0,0,0,1,1,0,0,1,0,1,1,1,0,0,1,1,0,0,1,1,1,0,0,0,0,0,0,1,1,1,0,0,0,0,0,0,0,0,1,0,0,1,0,0,0,0,0,0,1,0,0,0,1,1,0,0,0,0,1,1,0,1,1,0,0,0,1,1,1,1,1,0,0,0,0,0,0,0,1,1,1,1,1,0,0,0,0,1,1,1,1,1,1,1,1,1,0,0,1,1,1,0,1,1,0,0,0,1,0,0,1,0,0,1,1,1,0,1,0,1,1,1,0,1,1,0,1,0,1,1,1,0,1,0,1,1,1,1,1,0,0,0,0,1,1,1,1,1,1,0,1,0,1,0,0,0,0,0,1,1,1,1,0,0,0,0,0,0,0,1,0,0,1,0,0,0,0,1,1,0,0,0,0,0,0,0,0,0,0,0,0,1,0,0,0,0,0,0,0,0,0,1,1,1,1,1,1,1,1,1,1,1,1,1,1,1,1,1,0,1,1,1,1,1,1,0,0,1,1,1,1,0,0,0,1,1,1,0,0,0,0,0,0,0,0,0,0,0,1,0,0,0,1,0,1,1,0,0,1,1,1,1,1,1,1,1,1,0,0,0,0,0,0,0,0,0,0,0,0,0,0,0,0,0,0,0,1,0,0,0,0,0,0,0,1,0,0,0,0,0,0,0,0,0,0,0,1,1,1,0,0,0,1,1,1,1,0,0,1,0,1,1,1,1,1,0,0,0,0,1,0,1,1,0,0,0,1,1,1,0,0,0,0,0,0,0,0,0,1,1,1,1,1,1,0,0,0,0,1,1,0,0,0,1,1,0,1,1,1,1,0,0,0,1,1,0,0,0,1,1,1,0,0,0,0,0,0,0,0,0,1,0,1,0,0,0,0,0,0,0,0,1,0,0,0,0,1,1,0,0,0,1,1,0,0,0,0,0,0,1,1,1,0],\"coloraxis\":\"coloraxis\",\"symbol\":\"circle\"},\"name\":\"\",\"showlegend\":false,\"type\":\"splom\"}],                        {\"template\":{\"data\":{\"bar\":[{\"error_x\":{\"color\":\"#2a3f5f\"},\"error_y\":{\"color\":\"#2a3f5f\"},\"marker\":{\"line\":{\"color\":\"#E5ECF6\",\"width\":0.5},\"pattern\":{\"fillmode\":\"overlay\",\"size\":10,\"solidity\":0.2}},\"type\":\"bar\"}],\"barpolar\":[{\"marker\":{\"line\":{\"color\":\"#E5ECF6\",\"width\":0.5},\"pattern\":{\"fillmode\":\"overlay\",\"size\":10,\"solidity\":0.2}},\"type\":\"barpolar\"}],\"carpet\":[{\"aaxis\":{\"endlinecolor\":\"#2a3f5f\",\"gridcolor\":\"white\",\"linecolor\":\"white\",\"minorgridcolor\":\"white\",\"startlinecolor\":\"#2a3f5f\"},\"baxis\":{\"endlinecolor\":\"#2a3f5f\",\"gridcolor\":\"white\",\"linecolor\":\"white\",\"minorgridcolor\":\"white\",\"startlinecolor\":\"#2a3f5f\"},\"type\":\"carpet\"}],\"choropleth\":[{\"colorbar\":{\"outlinewidth\":0,\"ticks\":\"\"},\"type\":\"choropleth\"}],\"contour\":[{\"colorbar\":{\"outlinewidth\":0,\"ticks\":\"\"},\"colorscale\":[[0.0,\"#0d0887\"],[0.1111111111111111,\"#46039f\"],[0.2222222222222222,\"#7201a8\"],[0.3333333333333333,\"#9c179e\"],[0.4444444444444444,\"#bd3786\"],[0.5555555555555556,\"#d8576b\"],[0.6666666666666666,\"#ed7953\"],[0.7777777777777778,\"#fb9f3a\"],[0.8888888888888888,\"#fdca26\"],[1.0,\"#f0f921\"]],\"type\":\"contour\"}],\"contourcarpet\":[{\"colorbar\":{\"outlinewidth\":0,\"ticks\":\"\"},\"type\":\"contourcarpet\"}],\"heatmap\":[{\"colorbar\":{\"outlinewidth\":0,\"ticks\":\"\"},\"colorscale\":[[0.0,\"#0d0887\"],[0.1111111111111111,\"#46039f\"],[0.2222222222222222,\"#7201a8\"],[0.3333333333333333,\"#9c179e\"],[0.4444444444444444,\"#bd3786\"],[0.5555555555555556,\"#d8576b\"],[0.6666666666666666,\"#ed7953\"],[0.7777777777777778,\"#fb9f3a\"],[0.8888888888888888,\"#fdca26\"],[1.0,\"#f0f921\"]],\"type\":\"heatmap\"}],\"heatmapgl\":[{\"colorbar\":{\"outlinewidth\":0,\"ticks\":\"\"},\"colorscale\":[[0.0,\"#0d0887\"],[0.1111111111111111,\"#46039f\"],[0.2222222222222222,\"#7201a8\"],[0.3333333333333333,\"#9c179e\"],[0.4444444444444444,\"#bd3786\"],[0.5555555555555556,\"#d8576b\"],[0.6666666666666666,\"#ed7953\"],[0.7777777777777778,\"#fb9f3a\"],[0.8888888888888888,\"#fdca26\"],[1.0,\"#f0f921\"]],\"type\":\"heatmapgl\"}],\"histogram\":[{\"marker\":{\"pattern\":{\"fillmode\":\"overlay\",\"size\":10,\"solidity\":0.2}},\"type\":\"histogram\"}],\"histogram2d\":[{\"colorbar\":{\"outlinewidth\":0,\"ticks\":\"\"},\"colorscale\":[[0.0,\"#0d0887\"],[0.1111111111111111,\"#46039f\"],[0.2222222222222222,\"#7201a8\"],[0.3333333333333333,\"#9c179e\"],[0.4444444444444444,\"#bd3786\"],[0.5555555555555556,\"#d8576b\"],[0.6666666666666666,\"#ed7953\"],[0.7777777777777778,\"#fb9f3a\"],[0.8888888888888888,\"#fdca26\"],[1.0,\"#f0f921\"]],\"type\":\"histogram2d\"}],\"histogram2dcontour\":[{\"colorbar\":{\"outlinewidth\":0,\"ticks\":\"\"},\"colorscale\":[[0.0,\"#0d0887\"],[0.1111111111111111,\"#46039f\"],[0.2222222222222222,\"#7201a8\"],[0.3333333333333333,\"#9c179e\"],[0.4444444444444444,\"#bd3786\"],[0.5555555555555556,\"#d8576b\"],[0.6666666666666666,\"#ed7953\"],[0.7777777777777778,\"#fb9f3a\"],[0.8888888888888888,\"#fdca26\"],[1.0,\"#f0f921\"]],\"type\":\"histogram2dcontour\"}],\"mesh3d\":[{\"colorbar\":{\"outlinewidth\":0,\"ticks\":\"\"},\"type\":\"mesh3d\"}],\"parcoords\":[{\"line\":{\"colorbar\":{\"outlinewidth\":0,\"ticks\":\"\"}},\"type\":\"parcoords\"}],\"pie\":[{\"automargin\":true,\"type\":\"pie\"}],\"scatter\":[{\"marker\":{\"colorbar\":{\"outlinewidth\":0,\"ticks\":\"\"}},\"type\":\"scatter\"}],\"scatter3d\":[{\"line\":{\"colorbar\":{\"outlinewidth\":0,\"ticks\":\"\"}},\"marker\":{\"colorbar\":{\"outlinewidth\":0,\"ticks\":\"\"}},\"type\":\"scatter3d\"}],\"scattercarpet\":[{\"marker\":{\"colorbar\":{\"outlinewidth\":0,\"ticks\":\"\"}},\"type\":\"scattercarpet\"}],\"scattergeo\":[{\"marker\":{\"colorbar\":{\"outlinewidth\":0,\"ticks\":\"\"}},\"type\":\"scattergeo\"}],\"scattergl\":[{\"marker\":{\"colorbar\":{\"outlinewidth\":0,\"ticks\":\"\"}},\"type\":\"scattergl\"}],\"scattermapbox\":[{\"marker\":{\"colorbar\":{\"outlinewidth\":0,\"ticks\":\"\"}},\"type\":\"scattermapbox\"}],\"scatterpolar\":[{\"marker\":{\"colorbar\":{\"outlinewidth\":0,\"ticks\":\"\"}},\"type\":\"scatterpolar\"}],\"scatterpolargl\":[{\"marker\":{\"colorbar\":{\"outlinewidth\":0,\"ticks\":\"\"}},\"type\":\"scatterpolargl\"}],\"scatterternary\":[{\"marker\":{\"colorbar\":{\"outlinewidth\":0,\"ticks\":\"\"}},\"type\":\"scatterternary\"}],\"surface\":[{\"colorbar\":{\"outlinewidth\":0,\"ticks\":\"\"},\"colorscale\":[[0.0,\"#0d0887\"],[0.1111111111111111,\"#46039f\"],[0.2222222222222222,\"#7201a8\"],[0.3333333333333333,\"#9c179e\"],[0.4444444444444444,\"#bd3786\"],[0.5555555555555556,\"#d8576b\"],[0.6666666666666666,\"#ed7953\"],[0.7777777777777778,\"#fb9f3a\"],[0.8888888888888888,\"#fdca26\"],[1.0,\"#f0f921\"]],\"type\":\"surface\"}],\"table\":[{\"cells\":{\"fill\":{\"color\":\"#EBF0F8\"},\"line\":{\"color\":\"white\"}},\"header\":{\"fill\":{\"color\":\"#C8D4E3\"},\"line\":{\"color\":\"white\"}},\"type\":\"table\"}]},\"layout\":{\"annotationdefaults\":{\"arrowcolor\":\"#2a3f5f\",\"arrowhead\":0,\"arrowwidth\":1},\"autotypenumbers\":\"strict\",\"coloraxis\":{\"colorbar\":{\"outlinewidth\":0,\"ticks\":\"\"}},\"colorscale\":{\"diverging\":[[0,\"#8e0152\"],[0.1,\"#c51b7d\"],[0.2,\"#de77ae\"],[0.3,\"#f1b6da\"],[0.4,\"#fde0ef\"],[0.5,\"#f7f7f7\"],[0.6,\"#e6f5d0\"],[0.7,\"#b8e186\"],[0.8,\"#7fbc41\"],[0.9,\"#4d9221\"],[1,\"#276419\"]],\"sequential\":[[0.0,\"#0d0887\"],[0.1111111111111111,\"#46039f\"],[0.2222222222222222,\"#7201a8\"],[0.3333333333333333,\"#9c179e\"],[0.4444444444444444,\"#bd3786\"],[0.5555555555555556,\"#d8576b\"],[0.6666666666666666,\"#ed7953\"],[0.7777777777777778,\"#fb9f3a\"],[0.8888888888888888,\"#fdca26\"],[1.0,\"#f0f921\"]],\"sequentialminus\":[[0.0,\"#0d0887\"],[0.1111111111111111,\"#46039f\"],[0.2222222222222222,\"#7201a8\"],[0.3333333333333333,\"#9c179e\"],[0.4444444444444444,\"#bd3786\"],[0.5555555555555556,\"#d8576b\"],[0.6666666666666666,\"#ed7953\"],[0.7777777777777778,\"#fb9f3a\"],[0.8888888888888888,\"#fdca26\"],[1.0,\"#f0f921\"]]},\"colorway\":[\"#636efa\",\"#EF553B\",\"#00cc96\",\"#ab63fa\",\"#FFA15A\",\"#19d3f3\",\"#FF6692\",\"#B6E880\",\"#FF97FF\",\"#FECB52\"],\"font\":{\"color\":\"#2a3f5f\"},\"geo\":{\"bgcolor\":\"white\",\"lakecolor\":\"white\",\"landcolor\":\"#E5ECF6\",\"showlakes\":true,\"showland\":true,\"subunitcolor\":\"white\"},\"hoverlabel\":{\"align\":\"left\"},\"hovermode\":\"closest\",\"mapbox\":{\"style\":\"light\"},\"paper_bgcolor\":\"white\",\"plot_bgcolor\":\"#E5ECF6\",\"polar\":{\"angularaxis\":{\"gridcolor\":\"white\",\"linecolor\":\"white\",\"ticks\":\"\"},\"bgcolor\":\"#E5ECF6\",\"radialaxis\":{\"gridcolor\":\"white\",\"linecolor\":\"white\",\"ticks\":\"\"}},\"scene\":{\"xaxis\":{\"backgroundcolor\":\"#E5ECF6\",\"gridcolor\":\"white\",\"gridwidth\":2,\"linecolor\":\"white\",\"showbackground\":true,\"ticks\":\"\",\"zerolinecolor\":\"white\"},\"yaxis\":{\"backgroundcolor\":\"#E5ECF6\",\"gridcolor\":\"white\",\"gridwidth\":2,\"linecolor\":\"white\",\"showbackground\":true,\"ticks\":\"\",\"zerolinecolor\":\"white\"},\"zaxis\":{\"backgroundcolor\":\"#E5ECF6\",\"gridcolor\":\"white\",\"gridwidth\":2,\"linecolor\":\"white\",\"showbackground\":true,\"ticks\":\"\",\"zerolinecolor\":\"white\"}},\"shapedefaults\":{\"line\":{\"color\":\"#2a3f5f\"}},\"ternary\":{\"aaxis\":{\"gridcolor\":\"white\",\"linecolor\":\"white\",\"ticks\":\"\"},\"baxis\":{\"gridcolor\":\"white\",\"linecolor\":\"white\",\"ticks\":\"\"},\"bgcolor\":\"#E5ECF6\",\"caxis\":{\"gridcolor\":\"white\",\"linecolor\":\"white\",\"ticks\":\"\"}},\"title\":{\"x\":0.05},\"xaxis\":{\"automargin\":true,\"gridcolor\":\"white\",\"linecolor\":\"white\",\"ticks\":\"\",\"title\":{\"standoff\":15},\"zerolinecolor\":\"white\",\"zerolinewidth\":2},\"yaxis\":{\"automargin\":true,\"gridcolor\":\"white\",\"linecolor\":\"white\",\"ticks\":\"\",\"title\":{\"standoff\":15},\"zerolinecolor\":\"white\",\"zerolinewidth\":2}}},\"coloraxis\":{\"colorbar\":{\"title\":{\"text\":\"inference\"}},\"colorscale\":[[0.0,\"#0d0887\"],[0.1111111111111111,\"#46039f\"],[0.2222222222222222,\"#7201a8\"],[0.3333333333333333,\"#9c179e\"],[0.4444444444444444,\"#bd3786\"],[0.5555555555555556,\"#d8576b\"],[0.6666666666666666,\"#ed7953\"],[0.7777777777777778,\"#fb9f3a\"],[0.8888888888888888,\"#fdca26\"],[1.0,\"#f0f921\"]]},\"legend\":{\"tracegroupgap\":0},\"margin\":{\"t\":60},\"dragmode\":\"select\"},                        {\"responsive\": true}                    ).then(function(){\n",
              "                            \n",
              "var gd = document.getElementById('0abfa559-8d58-454c-a020-1646795d0a1b');\n",
              "var x = new MutationObserver(function (mutations, observer) {{\n",
              "        var display = window.getComputedStyle(gd).display;\n",
              "        if (!display || display === 'none') {{\n",
              "            console.log([gd, 'removed!']);\n",
              "            Plotly.purge(gd);\n",
              "            observer.disconnect();\n",
              "        }}\n",
              "}});\n",
              "\n",
              "// Listen for the removal of the full notebook cells\n",
              "var notebookContainer = gd.closest('#notebook-container');\n",
              "if (notebookContainer) {{\n",
              "    x.observe(notebookContainer, {childList: true});\n",
              "}}\n",
              "\n",
              "// Listen for the clearing of the current output cell\n",
              "var outputEl = gd.closest('.output');\n",
              "if (outputEl) {{\n",
              "    x.observe(outputEl, {childList: true});\n",
              "}}\n",
              "\n",
              "                        })                };                            </script>        </div>\n",
              "</body>\n",
              "</html>"
            ]
          },
          "metadata": {}
        }
      ]
    },
    {
      "cell_type": "markdown",
      "source": [
        "# Processo de divisão dos dados entre previsores e labels"
      ],
      "metadata": {
        "id": "soD7TAwm1XNk"
      }
    },
    {
      "cell_type": "markdown",
      "source": [
        "Importante\n",
        "\n",
        "> x_sensor -> previsores\n",
        "\n",
        "> y_sensor -> labels\n",
        "\n"
      ],
      "metadata": {
        "id": "1Q9zR0hD26Vv"
      }
    },
    {
      "cell_type": "code",
      "source": [
        "x_sensor = data_df.iloc[:, 0:22].values\n",
        "x_sensor"
      ],
      "metadata": {
        "colab": {
          "base_uri": "https://localhost:8080/"
        },
        "id": "mV_D0Kd-1cNf",
        "outputId": "becb95d3-cbd2-4fbd-ee90-5963b62ff753"
      },
      "execution_count": 255,
      "outputs": [
        {
          "output_type": "execute_result",
          "data": {
            "text/plain": [
              "array([[-2.90000000e-01, -7.00000000e-02,  2.40000000e-01, ...,\n",
              "         1.00000000e-02,  1.66565696e+09,  1.66565697e+09],\n",
              "       [-2.50000000e-01, -4.00000000e-02,  4.00000000e-02, ...,\n",
              "        -3.10000000e-01,  1.66565697e+09,  1.66565698e+09],\n",
              "       [-5.90000000e-01, -2.70000000e-01, -4.20000000e-01, ...,\n",
              "         4.60000000e-01,  1.66565698e+09,  1.66565699e+09],\n",
              "       ...,\n",
              "       [-4.00000000e-02, -1.27000000e+00,  3.00000000e-02, ...,\n",
              "        -1.07000000e+00,  1.67481165e+09,  1.67481167e+09],\n",
              "       [-9.00000000e-02, -1.18000000e+00,  1.40000000e-01, ...,\n",
              "        -1.27000000e+00,  1.67481167e+09,  1.67481168e+09],\n",
              "       [ 1.50000000e-01, -1.27000000e+00,  1.50000000e-01, ...,\n",
              "        -1.27000000e+00,  1.67481168e+09,  1.67481170e+09]])"
            ]
          },
          "metadata": {},
          "execution_count": 255
        }
      ]
    },
    {
      "cell_type": "code",
      "source": [
        "type(x_sensor)"
      ],
      "metadata": {
        "colab": {
          "base_uri": "https://localhost:8080/"
        },
        "id": "EOpTGvyL1ypp",
        "outputId": "9f0a3ded-ba26-4639-8fde-54de96f5df42"
      },
      "execution_count": 256,
      "outputs": [
        {
          "output_type": "execute_result",
          "data": {
            "text/plain": [
              "numpy.ndarray"
            ]
          },
          "metadata": {},
          "execution_count": 256
        }
      ]
    },
    {
      "cell_type": "code",
      "source": [
        "y_sensor = data_df.iloc[:, 22].values\n",
        "print(type(y_sensor))\n",
        "y_sensor"
      ],
      "metadata": {
        "colab": {
          "base_uri": "https://localhost:8080/"
        },
        "id": "xaDfjMhT2HE0",
        "outputId": "85f0eb43-49be-4b25-fbe3-d3fad608a1ea"
      },
      "execution_count": 257,
      "outputs": [
        {
          "output_type": "stream",
          "name": "stdout",
          "text": [
            "<class 'numpy.ndarray'>\n"
          ]
        },
        {
          "output_type": "execute_result",
          "data": {
            "text/plain": [
              "array([1, 1, 1, ..., 1, 1, 0])"
            ]
          },
          "metadata": {},
          "execution_count": 257
        }
      ]
    },
    {
      "cell_type": "markdown",
      "source": [
        "## Escalonamento dos valores"
      ],
      "metadata": {
        "id": "RpNnGDBDSUg3"
      }
    },
    {
      "cell_type": "code",
      "source": [
        "x_sensor[:,0].min() , x_sensor[:,1].min(), x_sensor[:,2].min()"
      ],
      "metadata": {
        "colab": {
          "base_uri": "https://localhost:8080/"
        },
        "id": "R_7Tbs19R8D9",
        "outputId": "a383e43d-9d40-4b11-f20d-5fc063647f6f"
      },
      "execution_count": 258,
      "outputs": [
        {
          "output_type": "execute_result",
          "data": {
            "text/plain": [
              "(-1.27, -1.27, -1.27)"
            ]
          },
          "metadata": {},
          "execution_count": 258
        }
      ]
    },
    {
      "cell_type": "code",
      "source": [
        "x_sensor[:,0].max() , x_sensor[:,1].max(), x_sensor[:,2].max()"
      ],
      "metadata": {
        "colab": {
          "base_uri": "https://localhost:8080/"
        },
        "id": "jsWojICZUPoN",
        "outputId": "56ab3c82-8cc6-452c-9196-b20d8b395e11"
      },
      "execution_count": 259,
      "outputs": [
        {
          "output_type": "execute_result",
          "data": {
            "text/plain": [
              "(1.28, 1.28, 1.28)"
            ]
          },
          "metadata": {},
          "execution_count": 259
        }
      ]
    },
    {
      "cell_type": "markdown",
      "source": [
        "Escalonamento dos dados, para que eles possuam a escala semelhante, a fim de melhorar os resultados quando for realizar o processo de treinamento dos algoritmos, para a geração do modelo de IA, mais informações neste [link](https://scikit-learn.org/stable/modules/preprocessing.html)\n",
        "\n",
        "Neste projeto está sendo utilizada a técnica de padronização, mais informações [aqui](https://scikit-learn.org/stable/modules/generated/sklearn.preprocessing.StandardScaler.html)"
      ],
      "metadata": {
        "id": "7XqqSo1kVAXc"
      }
    },
    {
      "cell_type": "code",
      "source": [
        "from sklearn.preprocessing import StandardScaler\n",
        "scaler_sensor = StandardScaler()\n",
        "\n",
        "x_sensor = scaler_sensor.fit_transform(x_sensor)\n",
        "print(x_sensor)"
      ],
      "metadata": {
        "colab": {
          "base_uri": "https://localhost:8080/"
        },
        "id": "I38DeTbyU_yk",
        "outputId": "c500d7ca-69a5-49b7-bfd7-62849cf50c3d"
      },
      "execution_count": 260,
      "outputs": [
        {
          "output_type": "stream",
          "name": "stdout",
          "text": [
            "[[-0.49859101  0.30511327  0.23597395 ...  0.40834963 -3.21105037\n",
            "  -3.21105069]\n",
            " [-0.44296121  0.34429944 -0.04234577 ... -0.00871732 -3.21104485\n",
            "  -3.21104517]\n",
            " [-0.91581453  0.04387216 -0.68248113 ...  0.99485003 -3.2110389\n",
            "  -3.21103922]\n",
            " ...\n",
            " [-0.15090474 -1.26233341 -0.05626176 ... -0.99925133  0.67488308\n",
            "   0.67488274]\n",
            " [-0.220442   -1.14477491  0.09681409 ... -1.25991818  0.67488945\n",
            "   0.67488868]\n",
            " [ 0.11333682 -1.26233341  0.11073007 ... -1.25991818  0.67489539\n",
            "   0.67489463]]\n"
          ]
        }
      ]
    },
    {
      "cell_type": "markdown",
      "source": [
        "# Divisão entre Base de treinamento e teste"
      ],
      "metadata": {
        "id": "plQ_AeS5eMh4"
      }
    },
    {
      "cell_type": "markdown",
      "source": [
        "20% da base para teste e 80% para treinamento dos algoritmos"
      ],
      "metadata": {
        "id": "J-2_75gbf0oi"
      }
    },
    {
      "cell_type": "code",
      "source": [
        "from sklearn.model_selection import train_test_split\n",
        "\n",
        "x_sensor_treinamento, x_sensor_teste, y_sensor_treinamento, y_sensor_teste = \\\n",
        "                train_test_split(x_sensor, y_sensor, test_size=0.2, random_state=0)"
      ],
      "metadata": {
        "id": "sMhdVvb5YK95"
      },
      "execution_count": 261,
      "outputs": []
    },
    {
      "cell_type": "code",
      "source": [
        "x_sensor_treinamento.shape, y_sensor_treinamento.shape"
      ],
      "metadata": {
        "colab": {
          "base_uri": "https://localhost:8080/"
        },
        "id": "o1hSwXsjfm3N",
        "outputId": "ae7a1fc3-8b04-4140-a985-bd907906611f"
      },
      "execution_count": 262,
      "outputs": [
        {
          "output_type": "execute_result",
          "data": {
            "text/plain": [
              "((2812, 22), (2812,))"
            ]
          },
          "metadata": {},
          "execution_count": 262
        }
      ]
    },
    {
      "cell_type": "code",
      "source": [
        "x_sensor_teste.shape, y_sensor_teste.shape"
      ],
      "metadata": {
        "colab": {
          "base_uri": "https://localhost:8080/"
        },
        "id": "RdKdA7Viftjy",
        "outputId": "55e26583-820f-48b0-9385-3958d7e012ae"
      },
      "execution_count": 263,
      "outputs": [
        {
          "output_type": "execute_result",
          "data": {
            "text/plain": [
              "((703, 22), (703,))"
            ]
          },
          "metadata": {},
          "execution_count": 263
        }
      ]
    },
    {
      "cell_type": "markdown",
      "source": [
        "## Neste momento é interessante salvar os dados através de um arquivo pickle, para que posteriormente eles sejam carregados e utilizados no treinamento dos algoritmos de machine learning, desta forma, não corre o risco das variáveis que contém os dados serem atribuídas a outros valores."
      ],
      "metadata": {
        "id": "-KdPbqHSYKiV"
      }
    },
    {
      "cell_type": "code",
      "source": [
        "import pickle\n",
        "\n",
        "with open('sensor.pkl', mode='wb') as f:\n",
        "  pickle.dump([x_sensor_treinamento,y_sensor_treinamento,\n",
        "               x_sensor_teste, y_sensor_teste], f)"
      ],
      "metadata": {
        "id": "CX4Y1hgsgb1r"
      },
      "execution_count": 264,
      "outputs": []
    },
    {
      "cell_type": "markdown",
      "source": [
        "# Treinamento dos modelos de machine Learning"
      ],
      "metadata": {
        "id": "sw-R1Bug5XfM"
      }
    },
    {
      "cell_type": "markdown",
      "source": [
        "# Agora será utilizado o algoritmo de *Naive Bayes*, para o treinamento dos dados"
      ],
      "metadata": {
        "id": "iyZmko0cwbNK"
      }
    },
    {
      "cell_type": "markdown",
      "source": [
        "### Carregamento dos dados a partir do arquivo pickle"
      ],
      "metadata": {
        "id": "JZCgVuNZRfs2"
      }
    },
    {
      "cell_type": "code",
      "source": [
        "with open('/content/sensor.pkl', 'rb') as f:\n",
        "  x_sensor_treinamento, y_sensor_treinamento, \\\n",
        "  x_sensor_teste, y_sensor_teste = pickle.load(f)\n",
        "\n",
        "\n",
        "print(f\"Dados de treinamento: {x_sensor_treinamento.shape}, {y_sensor_treinamento.shape}\")\n",
        "print(f\"Dados de teste: {x_sensor_teste.shape}, {y_sensor_teste.shape}\")"
      ],
      "metadata": {
        "colab": {
          "base_uri": "https://localhost:8080/"
        },
        "outputId": "1c483dbd-3453-4ea4-ce88-c1df6ef89498",
        "id": "5d7rjmp_Rfs4"
      },
      "execution_count": 265,
      "outputs": [
        {
          "output_type": "stream",
          "name": "stdout",
          "text": [
            "Dados de treinamento: (2812, 22), (2812,)\n",
            "Dados de teste: (703, 22), (703,)\n"
          ]
        }
      ]
    },
    {
      "cell_type": "markdown",
      "source": [
        "### Importação das bibliotecas"
      ],
      "metadata": {
        "id": "SlqoU-3ARl0Q"
      }
    },
    {
      "cell_type": "code",
      "source": [
        "from sklearn.naive_bayes import GaussianNB"
      ],
      "metadata": {
        "id": "uzyDK4F8waaS"
      },
      "execution_count": 266,
      "outputs": []
    },
    {
      "cell_type": "code",
      "source": [
        "naive_sensor_data = GaussianNB()\n",
        "naive_sensor_data.fit(x_sensor_treinamento, y_sensor_treinamento)"
      ],
      "metadata": {
        "colab": {
          "base_uri": "https://localhost:8080/"
        },
        "id": "OHUQc3Pjy--g",
        "outputId": "df145177-2d91-417b-ee34-43febf65c3a7"
      },
      "execution_count": 267,
      "outputs": [
        {
          "output_type": "execute_result",
          "data": {
            "text/plain": [
              "GaussianNB()"
            ]
          },
          "metadata": {},
          "execution_count": 267
        }
      ]
    },
    {
      "cell_type": "markdown",
      "source": [
        "## Realizando a previsão"
      ],
      "metadata": {
        "id": "tnkTPH_E5y2D"
      }
    },
    {
      "cell_type": "code",
      "source": [
        "prevision = naive_sensor_data.predict(x_sensor_teste)\n",
        "prevision"
      ],
      "metadata": {
        "colab": {
          "base_uri": "https://localhost:8080/"
        },
        "id": "QXgKbjEczZpQ",
        "outputId": "df3f1cc1-e1d6-4b2b-c983-adf1b90d878e"
      },
      "execution_count": 268,
      "outputs": [
        {
          "output_type": "execute_result",
          "data": {
            "text/plain": [
              "array([0, 1, 1, 0, 0, 0, 0, 0, 0, 0, 0, 1, 0, 1, 0, 1, 0, 1, 0, 0, 0, 1,\n",
              "       0, 0, 0, 1, 0, 0, 0, 1, 0, 1, 0, 0, 0, 1, 0, 0, 0, 0, 1, 1, 1, 1,\n",
              "       1, 0, 0, 0, 0, 0, 1, 0, 1, 1, 0, 0, 0, 0, 1, 0, 0, 1, 1, 0, 1, 1,\n",
              "       0, 1, 0, 1, 1, 1, 0, 0, 0, 0, 0, 0, 1, 0, 1, 0, 0, 1, 0, 1, 1, 0,\n",
              "       1, 1, 0, 1, 1, 0, 0, 0, 1, 0, 0, 0, 1, 0, 1, 1, 0, 0, 0, 1, 0, 0,\n",
              "       1, 0, 0, 0, 0, 1, 1, 0, 1, 1, 1, 1, 0, 0, 1, 0, 0, 0, 0, 1, 1, 0,\n",
              "       0, 0, 0, 1, 1, 1, 0, 0, 0, 1, 0, 1, 0, 0, 0, 0, 1, 0, 0, 1, 0, 1,\n",
              "       0, 1, 0, 0, 1, 1, 0, 0, 0, 1, 1, 1, 1, 0, 0, 0, 0, 0, 1, 1, 0, 0,\n",
              "       0, 1, 0, 0, 0, 0, 1, 1, 1, 1, 1, 1, 1, 0, 1, 1, 0, 1, 1, 0, 0, 0,\n",
              "       0, 1, 1, 1, 0, 0, 0, 0, 0, 0, 1, 1, 1, 0, 0, 0, 0, 0, 0, 0, 0, 0,\n",
              "       0, 1, 1, 0, 0, 0, 0, 1, 1, 1, 0, 0, 0, 0, 1, 0, 1, 0, 1, 0, 0, 0,\n",
              "       1, 1, 1, 0, 0, 0, 1, 1, 0, 0, 0, 0, 0, 0, 0, 1, 0, 0, 0, 0, 0, 1,\n",
              "       0, 0, 0, 0, 1, 1, 0, 1, 1, 0, 1, 0, 1, 0, 1, 1, 0, 1, 1, 0, 0, 0,\n",
              "       0, 0, 0, 0, 0, 0, 1, 0, 1, 0, 1, 0, 1, 0, 1, 0, 1, 1, 0, 0, 0, 1,\n",
              "       1, 1, 1, 0, 1, 1, 1, 1, 0, 0, 1, 1, 0, 0, 1, 0, 1, 0, 0, 1, 0, 1,\n",
              "       0, 0, 1, 0, 1, 1, 0, 0, 1, 0, 1, 0, 0, 0, 1, 0, 1, 0, 1, 0, 1, 1,\n",
              "       0, 1, 0, 0, 1, 0, 0, 0, 0, 1, 1, 0, 0, 0, 1, 0, 0, 0, 0, 0, 0, 0,\n",
              "       1, 1, 0, 1, 0, 1, 0, 1, 1, 1, 1, 0, 1, 0, 1, 0, 0, 0, 1, 0, 0, 0,\n",
              "       0, 0, 0, 1, 0, 1, 1, 0, 0, 0, 1, 1, 0, 0, 0, 0, 0, 0, 1, 0, 0, 1,\n",
              "       1, 0, 1, 1, 1, 0, 0, 0, 0, 1, 1, 1, 1, 0, 0, 1, 0, 1, 0, 1, 0, 0,\n",
              "       0, 0, 0, 0, 1, 0, 1, 1, 0, 0, 1, 1, 0, 0, 0, 0, 0, 0, 1, 0, 1, 1,\n",
              "       1, 1, 0, 0, 0, 0, 0, 1, 0, 0, 1, 0, 0, 0, 1, 0, 1, 1, 1, 1, 0, 0,\n",
              "       0, 0, 0, 0, 0, 0, 0, 0, 1, 0, 0, 0, 0, 0, 0, 1, 0, 0, 0, 1, 1, 0,\n",
              "       1, 1, 1, 0, 1, 1, 0, 1, 0, 0, 1, 0, 0, 0, 1, 0, 1, 1, 0, 0, 1, 1,\n",
              "       0, 1, 1, 1, 1, 0, 1, 0, 0, 0, 0, 1, 0, 1, 1, 0, 0, 0, 0, 1, 1, 0,\n",
              "       0, 0, 1, 0, 1, 0, 1, 0, 1, 1, 0, 0, 0, 0, 1, 0, 0, 0, 0, 1, 0, 0,\n",
              "       1, 1, 0, 0, 0, 0, 0, 1, 1, 0, 1, 1, 1, 0, 0, 1, 1, 0, 1, 0, 0, 1,\n",
              "       1, 0, 0, 0, 0, 0, 0, 1, 1, 0, 0, 1, 0, 0, 0, 0, 0, 0, 1, 0, 0, 1,\n",
              "       0, 0, 0, 0, 0, 1, 0, 1, 1, 1, 1, 0, 0, 0, 0, 1, 0, 0, 0, 1, 0, 0,\n",
              "       0, 0, 0, 0, 0, 0, 1, 0, 0, 0, 1, 1, 1, 0, 1, 1, 1, 0, 0, 0, 0, 1,\n",
              "       0, 0, 0, 0, 0, 0, 1, 0, 1, 0, 0, 0, 0, 0, 1, 0, 1, 0, 0, 0, 1, 0,\n",
              "       0, 1, 0, 0, 1, 0, 0, 0, 1, 1, 1, 1, 1, 0, 0, 0, 0, 0, 1, 1, 0])"
            ]
          },
          "metadata": {},
          "execution_count": 268
        }
      ]
    },
    {
      "cell_type": "markdown",
      "source": [
        "## Gabarito das previsões realizadas"
      ],
      "metadata": {
        "id": "A3O6svlJF4Hi"
      }
    },
    {
      "cell_type": "code",
      "source": [
        "y_sensor_teste"
      ],
      "metadata": {
        "colab": {
          "base_uri": "https://localhost:8080/"
        },
        "id": "RiZK5_qdzlvj",
        "outputId": "164bcb42-06e4-4659-d363-cd5b320df031"
      },
      "execution_count": 269,
      "outputs": [
        {
          "output_type": "execute_result",
          "data": {
            "text/plain": [
              "array([1, 1, 0, 0, 0, 1, 1, 0, 1, 0, 0, 1, 1, 0, 1, 1, 1, 1, 0, 0, 1, 1,\n",
              "       0, 0, 0, 1, 0, 0, 1, 1, 1, 1, 0, 0, 0, 1, 0, 1, 1, 0, 0, 0, 1, 1,\n",
              "       1, 1, 0, 0, 1, 1, 0, 1, 1, 1, 0, 0, 1, 1, 1, 0, 1, 1, 0, 1, 1, 1,\n",
              "       1, 0, 0, 1, 1, 0, 1, 1, 1, 1, 1, 1, 0, 0, 0, 1, 1, 0, 0, 1, 1, 0,\n",
              "       1, 1, 1, 1, 1, 0, 1, 1, 1, 0, 1, 0, 1, 0, 1, 1, 0, 0, 1, 0, 0, 0,\n",
              "       1, 1, 0, 1, 0, 0, 1, 1, 1, 1, 1, 1, 1, 0, 0, 1, 0, 1, 1, 1, 1, 1,\n",
              "       1, 0, 1, 1, 1, 1, 1, 0, 1, 1, 0, 1, 1, 0, 1, 1, 1, 0, 0, 1, 0, 0,\n",
              "       1, 0, 0, 0, 0, 1, 0, 1, 0, 1, 0, 1, 1, 1, 0, 1, 0, 1, 1, 1, 0, 0,\n",
              "       0, 0, 0, 1, 0, 1, 1, 1, 1, 1, 1, 1, 1, 0, 0, 1, 1, 1, 1, 0, 0, 1,\n",
              "       0, 1, 0, 0, 1, 1, 0, 1, 0, 1, 1, 1, 1, 0, 0, 0, 1, 0, 0, 1, 1, 1,\n",
              "       1, 1, 0, 1, 0, 1, 1, 1, 1, 1, 0, 1, 1, 1, 1, 0, 1, 1, 1, 0, 0, 0,\n",
              "       1, 1, 1, 1, 1, 0, 1, 1, 0, 1, 0, 0, 1, 1, 0, 1, 1, 0, 1, 0, 1, 1,\n",
              "       1, 1, 1, 1, 0, 0, 0, 1, 1, 1, 1, 0, 1, 1, 1, 0, 1, 1, 0, 1, 0, 1,\n",
              "       1, 1, 0, 1, 0, 0, 0, 0, 1, 0, 1, 0, 0, 0, 1, 0, 1, 1, 0, 0, 0, 1,\n",
              "       0, 1, 0, 0, 0, 1, 1, 0, 1, 1, 1, 0, 0, 0, 0, 0, 1, 0, 0, 1, 1, 0,\n",
              "       1, 1, 1, 0, 1, 1, 0, 0, 1, 0, 1, 1, 0, 0, 0, 0, 1, 0, 1, 1, 0, 0,\n",
              "       1, 1, 0, 0, 1, 0, 0, 1, 1, 0, 1, 1, 0, 1, 0, 0, 0, 0, 0, 1, 1, 1,\n",
              "       1, 1, 0, 1, 0, 1, 1, 1, 1, 1, 1, 0, 1, 0, 1, 0, 0, 0, 1, 1, 0, 0,\n",
              "       0, 0, 1, 1, 0, 1, 0, 0, 0, 0, 1, 1, 1, 1, 1, 1, 0, 1, 1, 1, 0, 0,\n",
              "       1, 0, 1, 0, 1, 0, 1, 0, 1, 1, 0, 0, 1, 1, 1, 1, 1, 1, 0, 0, 0, 1,\n",
              "       1, 1, 1, 1, 0, 0, 0, 1, 0, 0, 1, 0, 1, 1, 1, 0, 1, 0, 1, 1, 0, 1,\n",
              "       1, 1, 0, 1, 1, 1, 0, 1, 1, 0, 1, 1, 0, 0, 1, 0, 1, 1, 1, 1, 0, 0,\n",
              "       1, 0, 0, 1, 0, 0, 1, 0, 1, 0, 1, 1, 0, 1, 1, 0, 0, 1, 1, 1, 1, 0,\n",
              "       0, 1, 0, 0, 0, 1, 1, 0, 0, 1, 0, 0, 0, 0, 1, 0, 0, 1, 0, 1, 1, 1,\n",
              "       1, 1, 1, 0, 1, 1, 1, 0, 0, 0, 1, 1, 1, 1, 1, 0, 0, 0, 1, 1, 1, 1,\n",
              "       1, 1, 1, 1, 0, 1, 1, 0, 1, 1, 0, 1, 1, 1, 1, 1, 1, 1, 1, 0, 0, 1,\n",
              "       1, 1, 0, 0, 1, 1, 0, 1, 0, 0, 1, 0, 0, 0, 1, 0, 1, 0, 1, 0, 1, 0,\n",
              "       1, 1, 0, 0, 1, 1, 0, 1, 1, 0, 0, 1, 1, 0, 0, 0, 1, 1, 1, 0, 1, 1,\n",
              "       0, 0, 1, 0, 1, 0, 0, 1, 1, 1, 0, 1, 0, 0, 1, 1, 0, 1, 1, 0, 0, 1,\n",
              "       1, 1, 0, 0, 0, 1, 1, 0, 0, 0, 0, 0, 0, 0, 1, 1, 1, 0, 1, 0, 1, 1,\n",
              "       1, 1, 1, 0, 1, 0, 0, 1, 0, 0, 0, 1, 0, 1, 1, 0, 1, 1, 0, 1, 1, 1,\n",
              "       1, 1, 1, 0, 0, 0, 0, 0, 1, 1, 0, 1, 1, 0, 0, 0, 1, 0, 0, 1, 0])"
            ]
          },
          "metadata": {},
          "execution_count": 269
        }
      ]
    },
    {
      "cell_type": "markdown",
      "source": [
        "## O algoritmo de *Naive Bayes*, atingiu uma acurácia de 60.02%"
      ],
      "metadata": {
        "id": "k1FEw9wgz6HO"
      }
    },
    {
      "cell_type": "code",
      "source": [
        "from sklearn.metrics import accuracy_score, confusion_matrix, classification_report\n",
        "\n",
        "accuracy_score(y_sensor_teste, prevision) * 100"
      ],
      "metadata": {
        "colab": {
          "base_uri": "https://localhost:8080/"
        },
        "id": "YK9qKiOZzvSg",
        "outputId": "bd83bf6c-7ba2-4324-9ba5-86a6ff773b21"
      },
      "execution_count": 270,
      "outputs": [
        {
          "output_type": "execute_result",
          "data": {
            "text/plain": [
              "60.02844950213371"
            ]
          },
          "metadata": {},
          "execution_count": 270
        }
      ]
    },
    {
      "cell_type": "code",
      "source": [
        "confusion_matrix(y_sensor_teste, prevision)"
      ],
      "metadata": {
        "colab": {
          "base_uri": "https://localhost:8080/"
        },
        "id": "-FxSXufH0EQD",
        "outputId": "dd56ec5a-35bd-43e0-a00c-1d0923d3057f"
      },
      "execution_count": 271,
      "outputs": [
        {
          "output_type": "execute_result",
          "data": {
            "text/plain": [
              "array([[226,  77],\n",
              "       [204, 196]])"
            ]
          },
          "metadata": {},
          "execution_count": 271
        }
      ]
    },
    {
      "cell_type": "markdown",
      "source": [
        "## Apresentando uma matriz de confusão que apresenta uma relação mais detalhada entre os resultados atingidos"
      ],
      "metadata": {
        "id": "furssYH96C4C"
      }
    },
    {
      "cell_type": "code",
      "source": [
        "from yellowbrick.classifier import ConfusionMatrix\n",
        "\n",
        "cm = ConfusionMatrix(naive_sensor_data)\n",
        "cm.fit(x_sensor_treinamento, y_sensor_treinamento)\n",
        "cm.score(x_sensor_teste, y_sensor_teste) * 100\n",
        "\n",
        "# Eixo X é a classificação a partir do Modelo\n",
        "# Eixo Y é o resultado correto"
      ],
      "metadata": {
        "colab": {
          "base_uri": "https://localhost:8080/",
          "height": 362
        },
        "id": "IrzU8b7x0b3V",
        "outputId": "5d16de2c-9bd2-4955-a174-a36f50664cb3"
      },
      "execution_count": 272,
      "outputs": [
        {
          "output_type": "execute_result",
          "data": {
            "text/plain": [
              "60.02844950213371"
            ]
          },
          "metadata": {},
          "execution_count": 272
        },
        {
          "output_type": "display_data",
          "data": {
            "text/plain": [
              "<Figure size 576x396 with 1 Axes>"
            ],
            "image/png": "[encoded data removed]"
          },
          "metadata": {}
        }
      ]
    },
    {
      "cell_type": "markdown",
      "source": [
        "## Mais detalhes a partir dos resultados atingidos"
      ],
      "metadata": {
        "id": "sXHm6bVo6RLm"
      }
    },
    {
      "cell_type": "code",
      "source": [
        "print(classification_report(y_sensor_teste, prevision))"
      ],
      "metadata": {
        "colab": {
          "base_uri": "https://localhost:8080/"
        },
        "id": "qEzJjjQV2CAy",
        "outputId": "2d2de453-8827-41d7-d7d6-63ee9dcefc1a"
      },
      "execution_count": 273,
      "outputs": [
        {
          "output_type": "stream",
          "name": "stdout",
          "text": [
            "              precision    recall  f1-score   support\n",
            "\n",
            "           0       0.53      0.75      0.62       303\n",
            "           1       0.72      0.49      0.58       400\n",
            "\n",
            "    accuracy                           0.60       703\n",
            "   macro avg       0.62      0.62      0.60       703\n",
            "weighted avg       0.64      0.60      0.60       703\n",
            "\n"
          ]
        }
      ]
    },
    {
      "cell_type": "markdown",
      "source": [
        "# Agora será utilizado o algoritmo SVM"
      ],
      "metadata": {
        "id": "EZqj-RxZ959y"
      }
    },
    {
      "cell_type": "markdown",
      "source": [
        "### Carregamento dos dados a partir do arquivo pickle"
      ],
      "metadata": {
        "id": "CZz3h5EqSZZ5"
      }
    },
    {
      "cell_type": "code",
      "source": [
        "with open('/content/sensor.pkl', 'rb') as f:\n",
        "  x_sensor_treinamento, y_sensor_treinamento, \\\n",
        "  x_sensor_teste, y_sensor_teste = pickle.load(f)\n",
        "\n",
        "\n",
        "print(f\"Dados de treinamento: {x_sensor_treinamento.shape}, {y_sensor_treinamento.shape}\")\n",
        "print(f\"Dados de teste: {x_sensor_teste.shape}, {y_sensor_teste.shape}\")"
      ],
      "metadata": {
        "colab": {
          "base_uri": "https://localhost:8080/"
        },
        "outputId": "ac109213-7286-4fcf-d6de-20cde4b98be2",
        "id": "fXBlZPIsSZZ6"
      },
      "execution_count": 274,
      "outputs": [
        {
          "output_type": "stream",
          "name": "stdout",
          "text": [
            "Dados de treinamento: (2812, 22), (2812,)\n",
            "Dados de teste: (703, 22), (703,)\n"
          ]
        }
      ]
    },
    {
      "cell_type": "markdown",
      "source": [
        "## Importação das bibliotecas"
      ],
      "metadata": {
        "id": "04Ak8M-2SbK0"
      }
    },
    {
      "cell_type": "code",
      "source": [
        "from sklearn.svm import SVC"
      ],
      "metadata": {
        "id": "yE37gTyj98q2"
      },
      "execution_count": 275,
      "outputs": []
    },
    {
      "cell_type": "code",
      "source": [
        "svm_sensor = SVC(kernel='rbf', random_state=1, C = 2.0) # 2 -> 4\n",
        "svm_sensor.fit(x_sensor_treinamento, y_sensor_treinamento)"
      ],
      "metadata": {
        "colab": {
          "base_uri": "https://localhost:8080/"
        },
        "id": "4w7vB__79-J0",
        "outputId": "f4a8a67a-d915-464a-e441-659caef7a7c0"
      },
      "execution_count": 276,
      "outputs": [
        {
          "output_type": "execute_result",
          "data": {
            "text/plain": [
              "SVC(C=2.0, random_state=1)"
            ]
          },
          "metadata": {},
          "execution_count": 276
        }
      ]
    },
    {
      "cell_type": "code",
      "source": [
        "previsoes = svm_sensor.predict(x_sensor_teste)\n",
        "previsoes"
      ],
      "metadata": {
        "colab": {
          "base_uri": "https://localhost:8080/"
        },
        "id": "INFpZZzG-LeK",
        "outputId": "f8e0d540-b2b2-4eec-c3ea-b037b04906f8"
      },
      "execution_count": 277,
      "outputs": [
        {
          "output_type": "execute_result",
          "data": {
            "text/plain": [
              "array([1, 1, 0, 0, 1, 1, 0, 0, 0, 0, 0, 1, 0, 1, 1, 1, 0, 1, 0, 0, 0, 1,\n",
              "       0, 0, 0, 1, 0, 0, 1, 1, 1, 1, 0, 0, 0, 1, 0, 1, 0, 0, 1, 0, 1, 1,\n",
              "       1, 1, 0, 0, 1, 1, 1, 1, 1, 1, 0, 0, 0, 1, 1, 0, 0, 1, 0, 1, 1, 1,\n",
              "       0, 0, 0, 1, 1, 1, 1, 0, 0, 1, 0, 0, 0, 0, 1, 0, 0, 1, 0, 1, 1, 0,\n",
              "       1, 1, 1, 1, 0, 1, 0, 1, 1, 0, 1, 0, 1, 0, 0, 1, 0, 0, 0, 0, 1, 0,\n",
              "       1, 0, 0, 0, 0, 0, 1, 1, 1, 1, 1, 1, 0, 0, 0, 1, 0, 0, 1, 0, 1, 0,\n",
              "       0, 0, 0, 1, 1, 1, 0, 0, 1, 0, 0, 1, 1, 0, 0, 0, 1, 0, 0, 1, 0, 0,\n",
              "       1, 1, 0, 0, 0, 1, 0, 1, 0, 1, 0, 1, 1, 1, 0, 1, 0, 1, 1, 1, 0, 0,\n",
              "       0, 0, 0, 1, 0, 1, 1, 1, 1, 1, 1, 1, 1, 0, 0, 1, 0, 1, 1, 0, 1, 1,\n",
              "       0, 1, 1, 1, 1, 1, 0, 1, 0, 0, 1, 0, 1, 0, 0, 0, 1, 0, 0, 1, 1, 0,\n",
              "       0, 1, 0, 1, 0, 1, 1, 1, 1, 1, 0, 0, 0, 1, 1, 0, 1, 1, 1, 0, 0, 0,\n",
              "       1, 0, 0, 1, 0, 0, 1, 1, 0, 1, 0, 0, 1, 1, 0, 0, 1, 0, 1, 0, 0, 1,\n",
              "       1, 0, 1, 0, 0, 1, 0, 1, 1, 1, 1, 0, 0, 0, 1, 1, 0, 1, 0, 1, 0, 0,\n",
              "       0, 0, 0, 1, 0, 0, 0, 1, 1, 0, 1, 0, 0, 1, 1, 0, 1, 0, 0, 1, 1, 1,\n",
              "       1, 1, 0, 0, 0, 1, 1, 0, 1, 0, 1, 0, 1, 0, 1, 0, 1, 0, 0, 1, 0, 1,\n",
              "       1, 0, 1, 1, 1, 1, 0, 1, 1, 0, 0, 0, 0, 0, 1, 0, 1, 0, 1, 0, 0, 1,\n",
              "       1, 0, 0, 0, 1, 0, 0, 0, 0, 1, 1, 1, 0, 1, 1, 0, 0, 0, 0, 1, 0, 0,\n",
              "       1, 0, 0, 1, 0, 0, 0, 1, 0, 1, 1, 1, 0, 0, 1, 0, 1, 0, 1, 1, 0, 0,\n",
              "       0, 0, 0, 1, 0, 1, 0, 0, 0, 0, 1, 1, 1, 0, 1, 0, 1, 0, 1, 1, 0, 1,\n",
              "       1, 0, 1, 0, 1, 0, 1, 0, 1, 1, 0, 0, 1, 1, 0, 1, 0, 1, 0, 1, 1, 0,\n",
              "       1, 0, 1, 0, 0, 0, 0, 1, 0, 0, 1, 1, 1, 0, 1, 0, 1, 0, 1, 1, 1, 1,\n",
              "       1, 1, 0, 1, 0, 1, 1, 0, 1, 0, 1, 1, 0, 0, 1, 0, 1, 1, 1, 1, 0, 0,\n",
              "       0, 0, 0, 1, 1, 1, 0, 0, 1, 0, 0, 1, 0, 1, 1, 0, 0, 0, 0, 1, 1, 0,\n",
              "       0, 1, 0, 0, 0, 1, 1, 1, 0, 1, 0, 0, 0, 0, 1, 0, 1, 1, 0, 1, 1, 1,\n",
              "       1, 0, 1, 0, 1, 1, 1, 0, 0, 0, 1, 1, 1, 1, 1, 0, 0, 0, 1, 1, 1, 1,\n",
              "       1, 0, 1, 1, 1, 1, 1, 0, 1, 1, 0, 1, 1, 1, 1, 1, 0, 1, 1, 0, 1, 1,\n",
              "       0, 0, 0, 0, 1, 1, 1, 1, 0, 0, 1, 1, 0, 0, 0, 0, 1, 0, 1, 0, 1, 0,\n",
              "       1, 1, 0, 0, 0, 0, 0, 1, 1, 0, 0, 0, 0, 0, 0, 0, 1, 0, 1, 0, 1, 0,\n",
              "       0, 0, 1, 0, 1, 1, 1, 1, 1, 0, 1, 1, 0, 0, 1, 1, 0, 1, 1, 1, 0, 1,\n",
              "       1, 1, 0, 0, 0, 1, 1, 0, 0, 0, 0, 0, 1, 0, 1, 1, 1, 0, 0, 0, 0, 1,\n",
              "       1, 1, 0, 1, 0, 0, 0, 0, 1, 0, 1, 1, 0, 1, 1, 0, 0, 1, 0, 0, 1, 1,\n",
              "       1, 1, 0, 0, 1, 1, 0, 0, 0, 1, 1, 1, 1, 0, 0, 0, 1, 1, 0, 1, 0])"
            ]
          },
          "metadata": {},
          "execution_count": 277
        }
      ]
    },
    {
      "cell_type": "code",
      "source": [
        "y_sensor_teste"
      ],
      "metadata": {
        "colab": {
          "base_uri": "https://localhost:8080/"
        },
        "id": "700D-u8s-Sd1",
        "outputId": "cf83b8f0-32f1-4f8d-f494-833e81a6a64c"
      },
      "execution_count": 278,
      "outputs": [
        {
          "output_type": "execute_result",
          "data": {
            "text/plain": [
              "array([1, 1, 0, 0, 0, 1, 1, 0, 1, 0, 0, 1, 1, 0, 1, 1, 1, 1, 0, 0, 1, 1,\n",
              "       0, 0, 0, 1, 0, 0, 1, 1, 1, 1, 0, 0, 0, 1, 0, 1, 1, 0, 0, 0, 1, 1,\n",
              "       1, 1, 0, 0, 1, 1, 0, 1, 1, 1, 0, 0, 1, 1, 1, 0, 1, 1, 0, 1, 1, 1,\n",
              "       1, 0, 0, 1, 1, 0, 1, 1, 1, 1, 1, 1, 0, 0, 0, 1, 1, 0, 0, 1, 1, 0,\n",
              "       1, 1, 1, 1, 1, 0, 1, 1, 1, 0, 1, 0, 1, 0, 1, 1, 0, 0, 1, 0, 0, 0,\n",
              "       1, 1, 0, 1, 0, 0, 1, 1, 1, 1, 1, 1, 1, 0, 0, 1, 0, 1, 1, 1, 1, 1,\n",
              "       1, 0, 1, 1, 1, 1, 1, 0, 1, 1, 0, 1, 1, 0, 1, 1, 1, 0, 0, 1, 0, 0,\n",
              "       1, 0, 0, 0, 0, 1, 0, 1, 0, 1, 0, 1, 1, 1, 0, 1, 0, 1, 1, 1, 0, 0,\n",
              "       0, 0, 0, 1, 0, 1, 1, 1, 1, 1, 1, 1, 1, 0, 0, 1, 1, 1, 1, 0, 0, 1,\n",
              "       0, 1, 0, 0, 1, 1, 0, 1, 0, 1, 1, 1, 1, 0, 0, 0, 1, 0, 0, 1, 1, 1,\n",
              "       1, 1, 0, 1, 0, 1, 1, 1, 1, 1, 0, 1, 1, 1, 1, 0, 1, 1, 1, 0, 0, 0,\n",
              "       1, 1, 1, 1, 1, 0, 1, 1, 0, 1, 0, 0, 1, 1, 0, 1, 1, 0, 1, 0, 1, 1,\n",
              "       1, 1, 1, 1, 0, 0, 0, 1, 1, 1, 1, 0, 1, 1, 1, 0, 1, 1, 0, 1, 0, 1,\n",
              "       1, 1, 0, 1, 0, 0, 0, 0, 1, 0, 1, 0, 0, 0, 1, 0, 1, 1, 0, 0, 0, 1,\n",
              "       0, 1, 0, 0, 0, 1, 1, 0, 1, 1, 1, 0, 0, 0, 0, 0, 1, 0, 0, 1, 1, 0,\n",
              "       1, 1, 1, 0, 1, 1, 0, 0, 1, 0, 1, 1, 0, 0, 0, 0, 1, 0, 1, 1, 0, 0,\n",
              "       1, 1, 0, 0, 1, 0, 0, 1, 1, 0, 1, 1, 0, 1, 0, 0, 0, 0, 0, 1, 1, 1,\n",
              "       1, 1, 0, 1, 0, 1, 1, 1, 1, 1, 1, 0, 1, 0, 1, 0, 0, 0, 1, 1, 0, 0,\n",
              "       0, 0, 1, 1, 0, 1, 0, 0, 0, 0, 1, 1, 1, 1, 1, 1, 0, 1, 1, 1, 0, 0,\n",
              "       1, 0, 1, 0, 1, 0, 1, 0, 1, 1, 0, 0, 1, 1, 1, 1, 1, 1, 0, 0, 0, 1,\n",
              "       1, 1, 1, 1, 0, 0, 0, 1, 0, 0, 1, 0, 1, 1, 1, 0, 1, 0, 1, 1, 0, 1,\n",
              "       1, 1, 0, 1, 1, 1, 0, 1, 1, 0, 1, 1, 0, 0, 1, 0, 1, 1, 1, 1, 0, 0,\n",
              "       1, 0, 0, 1, 0, 0, 1, 0, 1, 0, 1, 1, 0, 1, 1, 0, 0, 1, 1, 1, 1, 0,\n",
              "       0, 1, 0, 0, 0, 1, 1, 0, 0, 1, 0, 0, 0, 0, 1, 0, 0, 1, 0, 1, 1, 1,\n",
              "       1, 1, 1, 0, 1, 1, 1, 0, 0, 0, 1, 1, 1, 1, 1, 0, 0, 0, 1, 1, 1, 1,\n",
              "       1, 1, 1, 1, 0, 1, 1, 0, 1, 1, 0, 1, 1, 1, 1, 1, 1, 1, 1, 0, 0, 1,\n",
              "       1, 1, 0, 0, 1, 1, 0, 1, 0, 0, 1, 0, 0, 0, 1, 0, 1, 0, 1, 0, 1, 0,\n",
              "       1, 1, 0, 0, 1, 1, 0, 1, 1, 0, 0, 1, 1, 0, 0, 0, 1, 1, 1, 0, 1, 1,\n",
              "       0, 0, 1, 0, 1, 0, 0, 1, 1, 1, 0, 1, 0, 0, 1, 1, 0, 1, 1, 0, 0, 1,\n",
              "       1, 1, 0, 0, 0, 1, 1, 0, 0, 0, 0, 0, 0, 0, 1, 1, 1, 0, 1, 0, 1, 1,\n",
              "       1, 1, 1, 0, 1, 0, 0, 1, 0, 0, 0, 1, 0, 1, 1, 0, 1, 1, 0, 1, 1, 1,\n",
              "       1, 1, 1, 0, 0, 0, 0, 0, 1, 1, 0, 1, 1, 0, 0, 0, 1, 0, 0, 1, 0])"
            ]
          },
          "metadata": {},
          "execution_count": 278
        }
      ]
    },
    {
      "cell_type": "markdown",
      "source": [
        "## O algoritmo SVM teve uma acurárica de 76.52%"
      ],
      "metadata": {
        "id": "Tw1-r9GgBIRF"
      }
    },
    {
      "cell_type": "code",
      "source": [
        "accuracy_score(y_sensor_teste, previsoes) * 100"
      ],
      "metadata": {
        "colab": {
          "base_uri": "https://localhost:8080/"
        },
        "id": "OXv3VeIi-Yfk",
        "outputId": "88bc883b-edb9-4776-caf6-d074da374808"
      },
      "execution_count": 279,
      "outputs": [
        {
          "output_type": "execute_result",
          "data": {
            "text/plain": [
              "76.52916073968706"
            ]
          },
          "metadata": {},
          "execution_count": 279
        }
      ]
    },
    {
      "cell_type": "code",
      "source": [
        "cm = ConfusionMatrix(svm_sensor)\n",
        "cm.fit(x_sensor_treinamento, y_sensor_treinamento)\n",
        "cm.score(x_sensor_teste, y_sensor_teste) * 100"
      ],
      "metadata": {
        "colab": {
          "base_uri": "https://localhost:8080/",
          "height": 362
        },
        "id": "fZUxzum6AzW2",
        "outputId": "72af7913-d25c-406e-fefe-fbde6476c3eb"
      },
      "execution_count": 280,
      "outputs": [
        {
          "output_type": "execute_result",
          "data": {
            "text/plain": [
              "76.52916073968706"
            ]
          },
          "metadata": {},
          "execution_count": 280
        },
        {
          "output_type": "display_data",
          "data": {
            "text/plain": [
              "<Figure size 576x396 with 1 Axes>"
            ],
            "image/png": "[encoded data removed]"
          },
          "metadata": {}
        }
      ]
    },
    {
      "cell_type": "code",
      "source": [
        "print(classification_report(y_sensor_teste, previsoes))"
      ],
      "metadata": {
        "colab": {
          "base_uri": "https://localhost:8080/"
        },
        "id": "bSSGesHHBD_S",
        "outputId": "bdcde52c-8d9e-45fe-bc56-529d680bd386"
      },
      "execution_count": 281,
      "outputs": [
        {
          "output_type": "stream",
          "name": "stdout",
          "text": [
            "              precision    recall  f1-score   support\n",
            "\n",
            "           0       0.70      0.81      0.75       303\n",
            "           1       0.83      0.73      0.78       400\n",
            "\n",
            "    accuracy                           0.77       703\n",
            "   macro avg       0.77      0.77      0.76       703\n",
            "weighted avg       0.77      0.77      0.77       703\n",
            "\n"
          ]
        }
      ]
    },
    {
      "cell_type": "markdown",
      "source": [
        "# Redes Neurais Artificiais"
      ],
      "metadata": {
        "id": "mb4zDjRhg5k_"
      }
    },
    {
      "cell_type": "markdown",
      "source": [
        "### Carregamento dos dados a partir do arquivo pickle"
      ],
      "metadata": {
        "id": "L00TIk9TSgou"
      }
    },
    {
      "cell_type": "code",
      "source": [
        "with open('/content/sensor.pkl', 'rb') as f:\n",
        "  x_sensor_treinamento, y_sensor_treinamento, \\\n",
        "  x_sensor_teste, y_sensor_teste = pickle.load(f)\n",
        "\n",
        "\n",
        "print(f\"Dados de treinamento: {x_sensor_treinamento.shape}, {y_sensor_treinamento.shape}\")\n",
        "print(f\"Dados de teste: {x_sensor_teste.shape}, {y_sensor_teste.shape}\")"
      ],
      "metadata": {
        "colab": {
          "base_uri": "https://localhost:8080/"
        },
        "outputId": "6d658877-b73c-4ef2-9f50-6a92e827bc95",
        "id": "U-TBK39aSgow"
      },
      "execution_count": 282,
      "outputs": [
        {
          "output_type": "stream",
          "name": "stdout",
          "text": [
            "Dados de treinamento: (2812, 22), (2812,)\n",
            "Dados de teste: (703, 22), (703,)\n"
          ]
        }
      ]
    },
    {
      "cell_type": "markdown",
      "source": [
        "## Importação das bibliotecas"
      ],
      "metadata": {
        "id": "_LUaZ4nvSiME"
      }
    },
    {
      "cell_type": "markdown",
      "source": [
        "Para a criação das camadas ocultas da rede neural, foi utilizada a seguinte metodologia.\n",
        "\n",
        "Primeiro foi realizada a soma da quantidade de features para serem analizados pela rede, neste caso são 22 features, somando mais 1, e divido por dois(podendo arredondar para o maior valor o resultado).\n",
        "\n",
        "\n",
        "O resultado é a quantidade de neuronios que há em cada camada oculta da rede, neste caso haverá duas camadas ocultas, pois foi a que melhor convergio.\n",
        "\n",
        "Calculo = (22+1)/2 = 12"
      ],
      "metadata": {
        "id": "2_zYuuQ_476l"
      }
    },
    {
      "cell_type": "code",
      "source": [
        "from sklearn.neural_network import MLPClassifier\n",
        "\n",
        "rede_neural_sensor = MLPClassifier(max_iter=1500, verbose=True, tol=0.000100,\n",
        "                                   solver = 'adam', activation = 'relu',\n",
        "                                   hidden_layer_sizes = (12,12))\n",
        "rede_neural_sensor.fit(x_sensor_treinamento, y_sensor_treinamento)"
      ],
      "metadata": {
        "colab": {
          "base_uri": "https://localhost:8080/"
        },
        "id": "nh42sPjOe-id",
        "outputId": "2e539892-9796-440b-c6e8-22acf3c2270c"
      },
      "execution_count": 283,
      "outputs": [
        {
          "output_type": "stream",
          "name": "stdout",
          "text": [
            "Iteration 1, loss = 0.71308681\n",
            "Iteration 2, loss = 0.68220354\n",
            "Iteration 3, loss = 0.66611969\n",
            "Iteration 4, loss = 0.65723562\n",
            "Iteration 5, loss = 0.65120935\n",
            "Iteration 6, loss = 0.64551384\n",
            "Iteration 7, loss = 0.64070265\n",
            "Iteration 8, loss = 0.63570597\n",
            "Iteration 9, loss = 0.63048199\n",
            "Iteration 10, loss = 0.62466263\n",
            "Iteration 11, loss = 0.62004639\n",
            "Iteration 12, loss = 0.61532838\n",
            "Iteration 13, loss = 0.61105839\n",
            "Iteration 14, loss = 0.60651012\n",
            "Iteration 15, loss = 0.60265817\n",
            "Iteration 16, loss = 0.59801168\n",
            "Iteration 17, loss = 0.59417010\n",
            "Iteration 18, loss = 0.59021962\n",
            "Iteration 19, loss = 0.58703148\n",
            "Iteration 20, loss = 0.58445438\n",
            "Iteration 21, loss = 0.58108889\n",
            "Iteration 22, loss = 0.57829291\n",
            "Iteration 23, loss = 0.57581452\n",
            "Iteration 24, loss = 0.57285593\n",
            "Iteration 25, loss = 0.57018596\n",
            "Iteration 26, loss = 0.56803821\n",
            "Iteration 27, loss = 0.56508901\n",
            "Iteration 28, loss = 0.56291684\n",
            "Iteration 29, loss = 0.56041361\n",
            "Iteration 30, loss = 0.55785699\n",
            "Iteration 31, loss = 0.55514423\n",
            "Iteration 32, loss = 0.55330808\n",
            "Iteration 33, loss = 0.55088958\n",
            "Iteration 34, loss = 0.54844387\n",
            "Iteration 35, loss = 0.54775134\n",
            "Iteration 36, loss = 0.54551790\n",
            "Iteration 37, loss = 0.54297969\n",
            "Iteration 38, loss = 0.54051767\n",
            "Iteration 39, loss = 0.53986471\n",
            "Iteration 40, loss = 0.53694389\n",
            "Iteration 41, loss = 0.53478084\n",
            "Iteration 42, loss = 0.53238727\n",
            "Iteration 43, loss = 0.53030172\n",
            "Iteration 44, loss = 0.52782799\n",
            "Iteration 45, loss = 0.52557324\n",
            "Iteration 46, loss = 0.52478375\n",
            "Iteration 47, loss = 0.52261116\n",
            "Iteration 48, loss = 0.52025829\n",
            "Iteration 49, loss = 0.51884396\n",
            "Iteration 50, loss = 0.51798379\n",
            "Iteration 51, loss = 0.51567027\n",
            "Iteration 52, loss = 0.51637496\n",
            "Iteration 53, loss = 0.51385353\n",
            "Iteration 54, loss = 0.51217065\n",
            "Iteration 55, loss = 0.51156120\n",
            "Iteration 56, loss = 0.51044832\n",
            "Iteration 57, loss = 0.50902944\n",
            "Iteration 58, loss = 0.50784887\n",
            "Iteration 59, loss = 0.50715562\n",
            "Iteration 60, loss = 0.50716522\n",
            "Iteration 61, loss = 0.50582857\n",
            "Iteration 62, loss = 0.50458592\n",
            "Iteration 63, loss = 0.50625129\n",
            "Iteration 64, loss = 0.50332540\n",
            "Iteration 65, loss = 0.50264766\n",
            "Iteration 66, loss = 0.50229501\n",
            "Iteration 67, loss = 0.50210920\n",
            "Iteration 68, loss = 0.50168373\n",
            "Iteration 69, loss = 0.50087024\n",
            "Iteration 70, loss = 0.49968495\n",
            "Iteration 71, loss = 0.49885235\n",
            "Iteration 72, loss = 0.49781536\n",
            "Iteration 73, loss = 0.49834881\n",
            "Iteration 74, loss = 0.49776302\n",
            "Iteration 75, loss = 0.49740835\n",
            "Iteration 76, loss = 0.49635239\n",
            "Iteration 77, loss = 0.49640088\n",
            "Iteration 78, loss = 0.49589338\n",
            "Iteration 79, loss = 0.49563899\n",
            "Iteration 80, loss = 0.49475646\n",
            "Iteration 81, loss = 0.49439982\n",
            "Iteration 82, loss = 0.49390076\n",
            "Iteration 83, loss = 0.49396843\n",
            "Iteration 84, loss = 0.49338114\n",
            "Iteration 85, loss = 0.49331947\n",
            "Iteration 86, loss = 0.49239402\n",
            "Iteration 87, loss = 0.49281668\n",
            "Iteration 88, loss = 0.49200084\n",
            "Iteration 89, loss = 0.49196633\n",
            "Iteration 90, loss = 0.49176733\n",
            "Iteration 91, loss = 0.49071062\n",
            "Iteration 92, loss = 0.49049304\n",
            "Iteration 93, loss = 0.48946512\n",
            "Iteration 94, loss = 0.48947546\n",
            "Iteration 95, loss = 0.48938480\n",
            "Iteration 96, loss = 0.48887356\n",
            "Iteration 97, loss = 0.48923292\n",
            "Iteration 98, loss = 0.48890619\n",
            "Iteration 99, loss = 0.48785566\n",
            "Iteration 100, loss = 0.48776719\n",
            "Iteration 101, loss = 0.48705734\n",
            "Iteration 102, loss = 0.48745491\n",
            "Iteration 103, loss = 0.48789157\n",
            "Iteration 104, loss = 0.48712961\n",
            "Iteration 105, loss = 0.48653872\n",
            "Iteration 106, loss = 0.48519317\n",
            "Iteration 107, loss = 0.48774584\n",
            "Iteration 108, loss = 0.48649511\n",
            "Iteration 109, loss = 0.48490907\n",
            "Iteration 110, loss = 0.48512242\n",
            "Iteration 111, loss = 0.48566336\n",
            "Iteration 112, loss = 0.48441111\n",
            "Iteration 113, loss = 0.48503289\n",
            "Iteration 114, loss = 0.48443483\n",
            "Iteration 115, loss = 0.48361253\n",
            "Iteration 116, loss = 0.48404787\n",
            "Iteration 117, loss = 0.48347489\n",
            "Iteration 118, loss = 0.48318353\n",
            "Iteration 119, loss = 0.48301768\n",
            "Iteration 120, loss = 0.48260089\n",
            "Iteration 121, loss = 0.48284796\n",
            "Iteration 122, loss = 0.48262691\n",
            "Iteration 123, loss = 0.48320911\n",
            "Iteration 124, loss = 0.48127450\n",
            "Iteration 125, loss = 0.48053598\n",
            "Iteration 126, loss = 0.48060654\n",
            "Iteration 127, loss = 0.48055802\n",
            "Iteration 128, loss = 0.48071733\n",
            "Iteration 129, loss = 0.48029590\n",
            "Iteration 130, loss = 0.47989117\n",
            "Iteration 131, loss = 0.47961240\n",
            "Iteration 132, loss = 0.48189624\n",
            "Iteration 133, loss = 0.48061703\n",
            "Iteration 134, loss = 0.48026720\n",
            "Iteration 135, loss = 0.47868894\n",
            "Iteration 136, loss = 0.47890836\n",
            "Iteration 137, loss = 0.47970727\n",
            "Iteration 138, loss = 0.47953274\n",
            "Iteration 139, loss = 0.47924368\n",
            "Iteration 140, loss = 0.47847352\n",
            "Iteration 141, loss = 0.47828167\n",
            "Iteration 142, loss = 0.47841931\n",
            "Iteration 143, loss = 0.47744217\n",
            "Iteration 144, loss = 0.47737364\n",
            "Iteration 145, loss = 0.47689372\n",
            "Iteration 146, loss = 0.47650947\n",
            "Iteration 147, loss = 0.47736249\n",
            "Iteration 148, loss = 0.47785864\n",
            "Iteration 149, loss = 0.47788038\n",
            "Iteration 150, loss = 0.47759236\n",
            "Iteration 151, loss = 0.47612765\n",
            "Iteration 152, loss = 0.47853060\n",
            "Iteration 153, loss = 0.47758868\n",
            "Iteration 154, loss = 0.47596884\n",
            "Iteration 155, loss = 0.47624563\n",
            "Iteration 156, loss = 0.47655051\n",
            "Iteration 157, loss = 0.47589332\n",
            "Iteration 158, loss = 0.47534835\n",
            "Iteration 159, loss = 0.47452091\n",
            "Iteration 160, loss = 0.47431785\n",
            "Iteration 161, loss = 0.47566518\n",
            "Iteration 162, loss = 0.47481027\n",
            "Iteration 163, loss = 0.47451502\n",
            "Iteration 164, loss = 0.47401440\n",
            "Iteration 165, loss = 0.47779785\n",
            "Iteration 166, loss = 0.47565147\n",
            "Iteration 167, loss = 0.47461303\n",
            "Iteration 168, loss = 0.47404284\n",
            "Iteration 169, loss = 0.47350709\n",
            "Iteration 170, loss = 0.47277611\n",
            "Iteration 171, loss = 0.47363812\n",
            "Iteration 172, loss = 0.47253827\n",
            "Iteration 173, loss = 0.47318947\n",
            "Iteration 174, loss = 0.47210163\n",
            "Iteration 175, loss = 0.47235022\n",
            "Iteration 176, loss = 0.47217077\n",
            "Iteration 177, loss = 0.47149817\n",
            "Iteration 178, loss = 0.47307768\n",
            "Iteration 179, loss = 0.47120434\n",
            "Iteration 180, loss = 0.47087457\n",
            "Iteration 181, loss = 0.47064405\n",
            "Iteration 182, loss = 0.46999350\n",
            "Iteration 183, loss = 0.47070796\n",
            "Iteration 184, loss = 0.47052881\n",
            "Iteration 185, loss = 0.47051670\n",
            "Iteration 186, loss = 0.47092279\n",
            "Iteration 187, loss = 0.46951377\n",
            "Iteration 188, loss = 0.46941098\n",
            "Iteration 189, loss = 0.46959940\n",
            "Iteration 190, loss = 0.46961972\n",
            "Iteration 191, loss = 0.47015026\n",
            "Iteration 192, loss = 0.47008906\n",
            "Iteration 193, loss = 0.46878837\n",
            "Iteration 194, loss = 0.46925602\n",
            "Iteration 195, loss = 0.46888946\n",
            "Iteration 196, loss = 0.46917629\n",
            "Iteration 197, loss = 0.46814046\n",
            "Iteration 198, loss = 0.46802826\n",
            "Iteration 199, loss = 0.46785227\n",
            "Iteration 200, loss = 0.46771396\n",
            "Iteration 201, loss = 0.46719566\n",
            "Iteration 202, loss = 0.46929138\n",
            "Iteration 203, loss = 0.46829165\n",
            "Iteration 204, loss = 0.46717901\n",
            "Iteration 205, loss = 0.46765182\n",
            "Iteration 206, loss = 0.46802117\n",
            "Iteration 207, loss = 0.46740087\n",
            "Iteration 208, loss = 0.46732870\n",
            "Iteration 209, loss = 0.46606606\n",
            "Iteration 210, loss = 0.46642680\n",
            "Iteration 211, loss = 0.46680168\n",
            "Iteration 212, loss = 0.46614226\n",
            "Iteration 213, loss = 0.46601058\n",
            "Iteration 214, loss = 0.46566212\n",
            "Iteration 215, loss = 0.47035546\n",
            "Iteration 216, loss = 0.46718909\n",
            "Iteration 217, loss = 0.46600392\n",
            "Iteration 218, loss = 0.46578124\n",
            "Iteration 219, loss = 0.46539318\n",
            "Iteration 220, loss = 0.46570211\n",
            "Iteration 221, loss = 0.46529001\n",
            "Iteration 222, loss = 0.46479752\n",
            "Iteration 223, loss = 0.46472308\n",
            "Iteration 224, loss = 0.46483241\n",
            "Iteration 225, loss = 0.46383214\n",
            "Iteration 226, loss = 0.46413288\n",
            "Iteration 227, loss = 0.46434448\n",
            "Iteration 228, loss = 0.46495169\n",
            "Iteration 229, loss = 0.46340125\n",
            "Iteration 230, loss = 0.46473368\n",
            "Iteration 231, loss = 0.46398694\n",
            "Iteration 232, loss = 0.46419686\n",
            "Iteration 233, loss = 0.46350643\n",
            "Iteration 234, loss = 0.46276989\n",
            "Iteration 235, loss = 0.46353400\n",
            "Iteration 236, loss = 0.46346660\n",
            "Iteration 237, loss = 0.46580117\n",
            "Iteration 238, loss = 0.46386514\n",
            "Iteration 239, loss = 0.46225534\n",
            "Iteration 240, loss = 0.46350960\n",
            "Iteration 241, loss = 0.46198064\n",
            "Iteration 242, loss = 0.46216116\n",
            "Iteration 243, loss = 0.46215281\n",
            "Iteration 244, loss = 0.46353013\n",
            "Iteration 245, loss = 0.46201846\n",
            "Iteration 246, loss = 0.46161166\n",
            "Iteration 247, loss = 0.46290286\n",
            "Iteration 248, loss = 0.46242417\n",
            "Iteration 249, loss = 0.46137737\n",
            "Iteration 250, loss = 0.46084345\n",
            "Iteration 251, loss = 0.46228247\n",
            "Iteration 252, loss = 0.46101860\n",
            "Iteration 253, loss = 0.46092459\n",
            "Iteration 254, loss = 0.46230374\n",
            "Iteration 255, loss = 0.46073898\n",
            "Iteration 256, loss = 0.45974694\n",
            "Iteration 257, loss = 0.45980367\n",
            "Iteration 258, loss = 0.46037313\n",
            "Iteration 259, loss = 0.46032568\n",
            "Iteration 260, loss = 0.46184279\n",
            "Iteration 261, loss = 0.46144774\n",
            "Iteration 262, loss = 0.46160330\n",
            "Iteration 263, loss = 0.46224583\n",
            "Iteration 264, loss = 0.45965195\n",
            "Iteration 265, loss = 0.45921651\n",
            "Iteration 266, loss = 0.45886833\n",
            "Iteration 267, loss = 0.45996022\n",
            "Iteration 268, loss = 0.45922028\n",
            "Iteration 269, loss = 0.45917341\n",
            "Iteration 270, loss = 0.45842508\n",
            "Iteration 271, loss = 0.46113602\n",
            "Iteration 272, loss = 0.45941099\n",
            "Iteration 273, loss = 0.45920257\n",
            "Iteration 274, loss = 0.45916365\n",
            "Iteration 275, loss = 0.46015144\n",
            "Iteration 276, loss = 0.45832023\n",
            "Iteration 277, loss = 0.46046764\n",
            "Iteration 278, loss = 0.46066331\n",
            "Iteration 279, loss = 0.45940224\n",
            "Iteration 280, loss = 0.45798444\n",
            "Iteration 281, loss = 0.45721250\n",
            "Iteration 282, loss = 0.45644232\n",
            "Iteration 283, loss = 0.45851892\n",
            "Iteration 284, loss = 0.45682899\n",
            "Iteration 285, loss = 0.45651669\n",
            "Iteration 286, loss = 0.45659084\n",
            "Iteration 287, loss = 0.45656663\n",
            "Iteration 288, loss = 0.45801264\n",
            "Iteration 289, loss = 0.45673542\n",
            "Iteration 290, loss = 0.45605582\n",
            "Iteration 291, loss = 0.45651074\n",
            "Iteration 292, loss = 0.45916352\n",
            "Iteration 293, loss = 0.45632711\n",
            "Iteration 294, loss = 0.45573895\n",
            "Iteration 295, loss = 0.45545386\n",
            "Iteration 296, loss = 0.45651754\n",
            "Iteration 297, loss = 0.45539457\n",
            "Iteration 298, loss = 0.45498411\n",
            "Iteration 299, loss = 0.45556709\n",
            "Iteration 300, loss = 0.45638389\n",
            "Iteration 301, loss = 0.45662683\n",
            "Iteration 302, loss = 0.45630080\n",
            "Iteration 303, loss = 0.45797433\n",
            "Iteration 304, loss = 0.45654505\n",
            "Iteration 305, loss = 0.45558112\n",
            "Iteration 306, loss = 0.45598658\n",
            "Iteration 307, loss = 0.45506679\n",
            "Iteration 308, loss = 0.45383786\n",
            "Iteration 309, loss = 0.45453183\n",
            "Iteration 310, loss = 0.45385198\n",
            "Iteration 311, loss = 0.45547025\n",
            "Iteration 312, loss = 0.45448877\n",
            "Iteration 313, loss = 0.45321236\n",
            "Iteration 314, loss = 0.45331697\n",
            "Iteration 315, loss = 0.45348295\n",
            "Iteration 316, loss = 0.45312426\n",
            "Iteration 317, loss = 0.45352932\n",
            "Iteration 318, loss = 0.45306793\n",
            "Iteration 319, loss = 0.45331835\n",
            "Iteration 320, loss = 0.45464118\n",
            "Iteration 321, loss = 0.45662143\n",
            "Iteration 322, loss = 0.45278777\n",
            "Iteration 323, loss = 0.45361939\n",
            "Iteration 324, loss = 0.45247915\n",
            "Iteration 325, loss = 0.45240798\n",
            "Iteration 326, loss = 0.45190302\n",
            "Iteration 327, loss = 0.45268849\n",
            "Iteration 328, loss = 0.45195066\n",
            "Iteration 329, loss = 0.45277753\n",
            "Iteration 330, loss = 0.45250081\n",
            "Iteration 331, loss = 0.45290769\n",
            "Iteration 332, loss = 0.45303811\n",
            "Iteration 333, loss = 0.45397419\n",
            "Iteration 334, loss = 0.45291324\n",
            "Iteration 335, loss = 0.45202717\n",
            "Iteration 336, loss = 0.45348470\n",
            "Iteration 337, loss = 0.45192055\n",
            "Training loss did not improve more than tol=0.000100 for 10 consecutive epochs. Stopping.\n"
          ]
        },
        {
          "output_type": "execute_result",
          "data": {
            "text/plain": [
              "MLPClassifier(hidden_layer_sizes=(12, 12), max_iter=1500, verbose=True)"
            ]
          },
          "metadata": {},
          "execution_count": 283
        }
      ]
    },
    {
      "cell_type": "markdown",
      "source": [
        "## Realizando as previsões utilizando Redes Neurais"
      ],
      "metadata": {
        "id": "sFIVf_I5jQzE"
      }
    },
    {
      "cell_type": "code",
      "source": [
        "previsoes = rede_neural_sensor.predict(x_sensor_teste)\n",
        "previsoes"
      ],
      "metadata": {
        "colab": {
          "base_uri": "https://localhost:8080/"
        },
        "id": "r3u4g5sJfdPo",
        "outputId": "86d794be-be81-4128-c9c7-3216b8e402cb"
      },
      "execution_count": 284,
      "outputs": [
        {
          "output_type": "execute_result",
          "data": {
            "text/plain": [
              "array([1, 1, 0, 0, 1, 1, 1, 0, 0, 0, 0, 1, 0, 1, 1, 1, 0, 1, 0, 1, 0, 1,\n",
              "       0, 0, 1, 1, 0, 0, 1, 1, 1, 1, 0, 0, 0, 1, 0, 1, 0, 0, 1, 0, 1, 1,\n",
              "       0, 0, 0, 0, 1, 1, 0, 1, 1, 1, 0, 0, 1, 1, 1, 0, 0, 1, 0, 1, 1, 1,\n",
              "       1, 0, 0, 0, 1, 1, 1, 0, 0, 1, 1, 1, 0, 0, 1, 0, 0, 1, 0, 1, 1, 0,\n",
              "       1, 0, 1, 1, 0, 1, 1, 1, 1, 0, 1, 0, 1, 0, 0, 1, 0, 0, 0, 0, 1, 0,\n",
              "       1, 0, 0, 0, 0, 0, 1, 1, 0, 1, 1, 1, 0, 1, 0, 0, 0, 0, 1, 0, 1, 1,\n",
              "       0, 0, 1, 1, 1, 1, 0, 0, 1, 1, 0, 1, 1, 0, 0, 0, 1, 0, 0, 1, 0, 0,\n",
              "       1, 1, 0, 1, 0, 1, 1, 1, 0, 1, 0, 1, 1, 1, 0, 1, 0, 1, 1, 0, 0, 0,\n",
              "       0, 0, 0, 1, 1, 1, 1, 1, 1, 1, 1, 1, 1, 0, 0, 1, 0, 0, 1, 0, 1, 1,\n",
              "       0, 1, 0, 1, 1, 1, 0, 1, 0, 0, 0, 1, 1, 0, 0, 0, 1, 0, 0, 0, 1, 0,\n",
              "       0, 1, 0, 1, 0, 1, 1, 1, 1, 1, 0, 1, 0, 1, 1, 0, 1, 1, 1, 0, 0, 0,\n",
              "       1, 0, 0, 1, 0, 0, 1, 1, 0, 1, 0, 0, 1, 1, 0, 0, 1, 0, 1, 0, 1, 1,\n",
              "       1, 0, 1, 1, 1, 1, 0, 1, 1, 1, 1, 0, 1, 0, 1, 1, 0, 1, 0, 1, 0, 1,\n",
              "       0, 0, 0, 1, 0, 0, 0, 1, 1, 0, 1, 0, 0, 1, 1, 0, 1, 1, 0, 1, 1, 1,\n",
              "       1, 1, 0, 1, 0, 1, 1, 0, 1, 1, 1, 0, 1, 0, 1, 0, 1, 0, 0, 1, 0, 0,\n",
              "       1, 0, 0, 1, 1, 1, 0, 1, 0, 0, 1, 0, 0, 0, 0, 0, 1, 0, 1, 0, 0, 1,\n",
              "       1, 1, 0, 0, 1, 0, 0, 0, 0, 0, 1, 1, 0, 1, 1, 0, 0, 0, 0, 1, 1, 0,\n",
              "       1, 0, 0, 1, 0, 0, 0, 1, 0, 1, 1, 1, 1, 0, 1, 0, 1, 0, 1, 1, 0, 0,\n",
              "       0, 0, 0, 1, 0, 1, 0, 0, 0, 0, 1, 1, 1, 0, 1, 0, 1, 0, 1, 1, 0, 0,\n",
              "       1, 0, 0, 0, 1, 0, 1, 0, 1, 1, 0, 1, 0, 1, 1, 0, 0, 1, 0, 1, 1, 1,\n",
              "       1, 0, 1, 0, 0, 0, 0, 1, 0, 0, 1, 1, 1, 1, 1, 0, 1, 0, 1, 1, 1, 1,\n",
              "       1, 1, 0, 1, 0, 0, 1, 0, 1, 0, 1, 1, 0, 0, 1, 0, 1, 1, 1, 1, 0, 0,\n",
              "       0, 0, 0, 1, 1, 1, 1, 0, 1, 0, 0, 1, 0, 1, 1, 0, 0, 1, 1, 1, 1, 0,\n",
              "       0, 1, 0, 0, 1, 1, 1, 0, 0, 1, 0, 1, 0, 1, 1, 1, 1, 1, 0, 1, 1, 1,\n",
              "       1, 0, 1, 0, 1, 1, 1, 0, 0, 0, 1, 1, 1, 1, 0, 1, 0, 1, 1, 1, 1, 1,\n",
              "       1, 0, 1, 1, 1, 1, 1, 0, 1, 1, 0, 1, 1, 1, 0, 1, 0, 1, 1, 0, 1, 1,\n",
              "       1, 0, 0, 0, 1, 1, 1, 1, 0, 0, 1, 0, 0, 0, 1, 0, 1, 0, 1, 0, 0, 0,\n",
              "       1, 1, 0, 0, 1, 1, 0, 1, 1, 0, 0, 0, 0, 0, 0, 0, 1, 1, 1, 0, 1, 0,\n",
              "       0, 0, 1, 0, 1, 1, 1, 1, 1, 0, 1, 1, 0, 0, 1, 1, 0, 1, 1, 1, 0, 1,\n",
              "       1, 1, 0, 0, 0, 1, 1, 0, 1, 0, 0, 0, 1, 0, 1, 0, 1, 0, 0, 0, 0, 1,\n",
              "       1, 1, 0, 1, 0, 0, 1, 0, 0, 0, 1, 1, 0, 1, 1, 0, 1, 1, 0, 0, 1, 1,\n",
              "       1, 1, 0, 0, 0, 1, 0, 0, 0, 1, 0, 1, 1, 1, 0, 0, 1, 0, 0, 1, 0])"
            ]
          },
          "metadata": {},
          "execution_count": 284
        }
      ]
    },
    {
      "cell_type": "code",
      "source": [
        "y_sensor_teste"
      ],
      "metadata": {
        "colab": {
          "base_uri": "https://localhost:8080/"
        },
        "id": "5EWoW7eHflvB",
        "outputId": "d8d4310b-8346-41a5-b3a6-ce8afd8cf6f3"
      },
      "execution_count": 285,
      "outputs": [
        {
          "output_type": "execute_result",
          "data": {
            "text/plain": [
              "array([1, 1, 0, 0, 0, 1, 1, 0, 1, 0, 0, 1, 1, 0, 1, 1, 1, 1, 0, 0, 1, 1,\n",
              "       0, 0, 0, 1, 0, 0, 1, 1, 1, 1, 0, 0, 0, 1, 0, 1, 1, 0, 0, 0, 1, 1,\n",
              "       1, 1, 0, 0, 1, 1, 0, 1, 1, 1, 0, 0, 1, 1, 1, 0, 1, 1, 0, 1, 1, 1,\n",
              "       1, 0, 0, 1, 1, 0, 1, 1, 1, 1, 1, 1, 0, 0, 0, 1, 1, 0, 0, 1, 1, 0,\n",
              "       1, 1, 1, 1, 1, 0, 1, 1, 1, 0, 1, 0, 1, 0, 1, 1, 0, 0, 1, 0, 0, 0,\n",
              "       1, 1, 0, 1, 0, 0, 1, 1, 1, 1, 1, 1, 1, 0, 0, 1, 0, 1, 1, 1, 1, 1,\n",
              "       1, 0, 1, 1, 1, 1, 1, 0, 1, 1, 0, 1, 1, 0, 1, 1, 1, 0, 0, 1, 0, 0,\n",
              "       1, 0, 0, 0, 0, 1, 0, 1, 0, 1, 0, 1, 1, 1, 0, 1, 0, 1, 1, 1, 0, 0,\n",
              "       0, 0, 0, 1, 0, 1, 1, 1, 1, 1, 1, 1, 1, 0, 0, 1, 1, 1, 1, 0, 0, 1,\n",
              "       0, 1, 0, 0, 1, 1, 0, 1, 0, 1, 1, 1, 1, 0, 0, 0, 1, 0, 0, 1, 1, 1,\n",
              "       1, 1, 0, 1, 0, 1, 1, 1, 1, 1, 0, 1, 1, 1, 1, 0, 1, 1, 1, 0, 0, 0,\n",
              "       1, 1, 1, 1, 1, 0, 1, 1, 0, 1, 0, 0, 1, 1, 0, 1, 1, 0, 1, 0, 1, 1,\n",
              "       1, 1, 1, 1, 0, 0, 0, 1, 1, 1, 1, 0, 1, 1, 1, 0, 1, 1, 0, 1, 0, 1,\n",
              "       1, 1, 0, 1, 0, 0, 0, 0, 1, 0, 1, 0, 0, 0, 1, 0, 1, 1, 0, 0, 0, 1,\n",
              "       0, 1, 0, 0, 0, 1, 1, 0, 1, 1, 1, 0, 0, 0, 0, 0, 1, 0, 0, 1, 1, 0,\n",
              "       1, 1, 1, 0, 1, 1, 0, 0, 1, 0, 1, 1, 0, 0, 0, 0, 1, 0, 1, 1, 0, 0,\n",
              "       1, 1, 0, 0, 1, 0, 0, 1, 1, 0, 1, 1, 0, 1, 0, 0, 0, 0, 0, 1, 1, 1,\n",
              "       1, 1, 0, 1, 0, 1, 1, 1, 1, 1, 1, 0, 1, 0, 1, 0, 0, 0, 1, 1, 0, 0,\n",
              "       0, 0, 1, 1, 0, 1, 0, 0, 0, 0, 1, 1, 1, 1, 1, 1, 0, 1, 1, 1, 0, 0,\n",
              "       1, 0, 1, 0, 1, 0, 1, 0, 1, 1, 0, 0, 1, 1, 1, 1, 1, 1, 0, 0, 0, 1,\n",
              "       1, 1, 1, 1, 0, 0, 0, 1, 0, 0, 1, 0, 1, 1, 1, 0, 1, 0, 1, 1, 0, 1,\n",
              "       1, 1, 0, 1, 1, 1, 0, 1, 1, 0, 1, 1, 0, 0, 1, 0, 1, 1, 1, 1, 0, 0,\n",
              "       1, 0, 0, 1, 0, 0, 1, 0, 1, 0, 1, 1, 0, 1, 1, 0, 0, 1, 1, 1, 1, 0,\n",
              "       0, 1, 0, 0, 0, 1, 1, 0, 0, 1, 0, 0, 0, 0, 1, 0, 0, 1, 0, 1, 1, 1,\n",
              "       1, 1, 1, 0, 1, 1, 1, 0, 0, 0, 1, 1, 1, 1, 1, 0, 0, 0, 1, 1, 1, 1,\n",
              "       1, 1, 1, 1, 0, 1, 1, 0, 1, 1, 0, 1, 1, 1, 1, 1, 1, 1, 1, 0, 0, 1,\n",
              "       1, 1, 0, 0, 1, 1, 0, 1, 0, 0, 1, 0, 0, 0, 1, 0, 1, 0, 1, 0, 1, 0,\n",
              "       1, 1, 0, 0, 1, 1, 0, 1, 1, 0, 0, 1, 1, 0, 0, 0, 1, 1, 1, 0, 1, 1,\n",
              "       0, 0, 1, 0, 1, 0, 0, 1, 1, 1, 0, 1, 0, 0, 1, 1, 0, 1, 1, 0, 0, 1,\n",
              "       1, 1, 0, 0, 0, 1, 1, 0, 0, 0, 0, 0, 0, 0, 1, 1, 1, 0, 1, 0, 1, 1,\n",
              "       1, 1, 1, 0, 1, 0, 0, 1, 0, 0, 0, 1, 0, 1, 1, 0, 1, 1, 0, 1, 1, 1,\n",
              "       1, 1, 1, 0, 0, 0, 0, 0, 1, 1, 0, 1, 1, 0, 0, 0, 1, 0, 0, 1, 0])"
            ]
          },
          "metadata": {},
          "execution_count": 285
        }
      ]
    },
    {
      "cell_type": "markdown",
      "source": [
        "## Redes Neurais Artificiais teve uma acurácia de 77.52%"
      ],
      "metadata": {
        "id": "3qWIv0q_hPzM"
      }
    },
    {
      "cell_type": "code",
      "source": [
        "accuracy_score(y_sensor_teste, previsoes) * 100"
      ],
      "metadata": {
        "colab": {
          "base_uri": "https://localhost:8080/"
        },
        "id": "tDi9-2V8fqKm",
        "outputId": "5b0395a4-7c27-4873-bf10-116c54407650"
      },
      "execution_count": 286,
      "outputs": [
        {
          "output_type": "execute_result",
          "data": {
            "text/plain": [
              "77.52489331436699"
            ]
          },
          "metadata": {},
          "execution_count": 286
        }
      ]
    },
    {
      "cell_type": "code",
      "source": [
        "cm = ConfusionMatrix(rede_neural_sensor)\n",
        "cm.fit(x_sensor_treinamento, y_sensor_treinamento)\n",
        "cm.score(x_sensor_teste, y_sensor_teste) * 100"
      ],
      "metadata": {
        "colab": {
          "base_uri": "https://localhost:8080/",
          "height": 362
        },
        "id": "h_29YrIBgazf",
        "outputId": "992b18d5-23d3-413d-cf97-bc8d9c1a5476"
      },
      "execution_count": 287,
      "outputs": [
        {
          "output_type": "execute_result",
          "data": {
            "text/plain": [
              "77.52489331436699"
            ]
          },
          "metadata": {},
          "execution_count": 287
        },
        {
          "output_type": "display_data",
          "data": {
            "text/plain": [
              "<Figure size 576x396 with 1 Axes>"
            ],
            "image/png": "[encoded data removed]"
          },
          "metadata": {}
        }
      ]
    },
    {
      "cell_type": "code",
      "source": [
        "print(classification_report(y_sensor_teste, previsoes))"
      ],
      "metadata": {
        "colab": {
          "base_uri": "https://localhost:8080/"
        },
        "id": "ATvQcC_XhAx6",
        "outputId": "06c5f7c5-6e13-459c-958c-e486b3ac8e2f"
      },
      "execution_count": 288,
      "outputs": [
        {
          "output_type": "stream",
          "name": "stdout",
          "text": [
            "              precision    recall  f1-score   support\n",
            "\n",
            "           0       0.72      0.79      0.75       303\n",
            "           1       0.83      0.77      0.79       400\n",
            "\n",
            "    accuracy                           0.78       703\n",
            "   macro avg       0.77      0.78      0.77       703\n",
            "weighted avg       0.78      0.78      0.78       703\n",
            "\n"
          ]
        }
      ]
    },
    {
      "cell_type": "markdown",
      "source": [
        "# Algoritmo de árvore de decisão"
      ],
      "metadata": {
        "id": "dBpgKCTCen0o"
      }
    },
    {
      "cell_type": "markdown",
      "source": [
        "### Carregamento dos dados a partir de um arquivo pickle"
      ],
      "metadata": {
        "id": "JRpIZ7cLRv6F"
      }
    },
    {
      "cell_type": "code",
      "source": [
        "with open('/content/sensor.pkl', 'rb') as f:\n",
        "  x_sensor_treinamento, y_sensor_treinamento, \\\n",
        "  x_sensor_teste, y_sensor_teste = pickle.load(f)\n",
        "\n",
        "\n",
        "print(f\"Dados de treinamento: {x_sensor_treinamento.shape}, {y_sensor_treinamento.shape}\")\n",
        "print(f\"Dados de teste: {x_sensor_teste.shape}, {y_sensor_teste.shape}\")"
      ],
      "metadata": {
        "colab": {
          "base_uri": "https://localhost:8080/"
        },
        "outputId": "bcc83f81-58df-4d06-cfe3-fefe7a7964ec",
        "id": "RTW_Z7e8Rv6G"
      },
      "execution_count": 289,
      "outputs": [
        {
          "output_type": "stream",
          "name": "stdout",
          "text": [
            "Dados de treinamento: (2812, 22), (2812,)\n",
            "Dados de teste: (703, 22), (703,)\n"
          ]
        }
      ]
    },
    {
      "cell_type": "markdown",
      "source": [
        "## Importação das bibliotecas"
      ],
      "metadata": {
        "id": "N9mrcxPNRxlq"
      }
    },
    {
      "cell_type": "code",
      "source": [
        "from sklearn.tree import DecisionTreeClassifier"
      ],
      "metadata": {
        "id": "n7fvOjEfet60"
      },
      "execution_count": 290,
      "outputs": []
    },
    {
      "cell_type": "code",
      "source": [
        "arvore_sensor = DecisionTreeClassifier(criterion='entropy', random_state = 0)\n",
        "arvore_sensor.fit(x_sensor_treinamento, y_sensor_treinamento)"
      ],
      "metadata": {
        "colab": {
          "base_uri": "https://localhost:8080/"
        },
        "id": "MnkQP5e4mvOB",
        "outputId": "87b6f24c-79fd-4700-cc9a-3671356ad3c7"
      },
      "execution_count": 291,
      "outputs": [
        {
          "output_type": "execute_result",
          "data": {
            "text/plain": [
              "DecisionTreeClassifier(criterion='entropy', random_state=0)"
            ]
          },
          "metadata": {},
          "execution_count": 291
        }
      ]
    },
    {
      "cell_type": "code",
      "source": [
        "previsoes = arvore_sensor.predict(x_sensor_teste)\n",
        "previsoes"
      ],
      "metadata": {
        "colab": {
          "base_uri": "https://localhost:8080/"
        },
        "id": "XUzp6k6npUWq",
        "outputId": "b5a2d3d6-3c8b-43a3-899e-c440fcf75980"
      },
      "execution_count": 292,
      "outputs": [
        {
          "output_type": "execute_result",
          "data": {
            "text/plain": [
              "array([0, 1, 0, 1, 1, 1, 1, 0, 0, 0, 0, 1, 0, 0, 1, 1, 0, 1, 0, 0, 1, 1,\n",
              "       0, 0, 0, 1, 0, 0, 1, 1, 0, 1, 0, 0, 0, 1, 0, 1, 1, 0, 1, 0, 1, 1,\n",
              "       1, 1, 0, 0, 1, 1, 1, 1, 1, 1, 0, 0, 1, 1, 1, 1, 0, 1, 0, 1, 1, 0,\n",
              "       1, 0, 0, 0, 1, 1, 1, 1, 1, 1, 1, 1, 0, 1, 1, 1, 1, 0, 0, 1, 1, 0,\n",
              "       1, 1, 1, 1, 1, 1, 1, 1, 1, 0, 1, 0, 1, 0, 1, 1, 0, 0, 1, 0, 1, 1,\n",
              "       1, 1, 0, 0, 0, 0, 0, 1, 0, 1, 1, 1, 1, 1, 1, 1, 0, 0, 1, 0, 1, 1,\n",
              "       1, 0, 1, 0, 1, 1, 0, 0, 1, 1, 0, 1, 1, 0, 0, 0, 1, 0, 1, 0, 0, 1,\n",
              "       1, 0, 0, 0, 0, 0, 1, 1, 0, 0, 0, 1, 1, 0, 1, 1, 0, 0, 1, 1, 0, 1,\n",
              "       0, 1, 0, 1, 1, 1, 1, 1, 1, 1, 1, 1, 1, 0, 0, 0, 0, 1, 1, 0, 0, 1,\n",
              "       0, 1, 1, 1, 1, 1, 0, 1, 0, 1, 1, 1, 0, 0, 0, 0, 1, 0, 0, 0, 1, 1,\n",
              "       1, 1, 0, 1, 0, 1, 1, 0, 1, 1, 0, 1, 0, 1, 1, 0, 1, 1, 1, 0, 0, 0,\n",
              "       1, 0, 0, 1, 1, 0, 1, 1, 0, 1, 0, 0, 1, 0, 0, 0, 1, 0, 1, 0, 1, 1,\n",
              "       1, 1, 0, 1, 0, 1, 0, 0, 1, 1, 1, 0, 1, 0, 1, 0, 1, 0, 0, 1, 1, 1,\n",
              "       1, 1, 0, 1, 0, 1, 1, 1, 1, 0, 0, 0, 0, 1, 0, 0, 1, 1, 0, 1, 1, 1,\n",
              "       1, 1, 1, 0, 1, 0, 1, 0, 1, 1, 1, 0, 0, 0, 0, 0, 1, 1, 0, 1, 1, 1,\n",
              "       1, 0, 1, 1, 1, 1, 0, 1, 1, 0, 1, 1, 0, 1, 1, 1, 1, 0, 1, 0, 0, 1,\n",
              "       1, 0, 1, 1, 0, 0, 0, 0, 0, 0, 1, 1, 1, 1, 1, 0, 0, 0, 0, 1, 1, 1,\n",
              "       0, 0, 1, 1, 0, 1, 0, 1, 1, 1, 0, 1, 1, 0, 1, 0, 1, 1, 1, 1, 0, 1,\n",
              "       0, 0, 1, 1, 0, 1, 0, 0, 1, 1, 1, 0, 1, 0, 1, 0, 0, 0, 1, 1, 0, 0,\n",
              "       1, 0, 0, 1, 1, 0, 1, 0, 1, 1, 0, 0, 1, 1, 1, 1, 0, 0, 0, 1, 0, 1,\n",
              "       1, 0, 1, 0, 1, 0, 0, 1, 0, 0, 1, 1, 0, 0, 1, 0, 1, 0, 1, 1, 0, 1,\n",
              "       1, 0, 0, 1, 0, 0, 0, 0, 1, 0, 0, 1, 1, 0, 1, 0, 0, 1, 0, 0, 0, 0,\n",
              "       0, 0, 0, 1, 0, 0, 1, 0, 1, 0, 1, 1, 0, 0, 1, 0, 0, 0, 0, 1, 1, 0,\n",
              "       0, 1, 0, 0, 1, 1, 0, 1, 0, 1, 0, 0, 0, 1, 1, 1, 1, 1, 0, 0, 0, 1,\n",
              "       1, 1, 1, 0, 1, 1, 1, 0, 0, 0, 1, 1, 1, 1, 1, 1, 0, 1, 1, 1, 1, 1,\n",
              "       1, 0, 1, 1, 1, 0, 0, 0, 1, 0, 0, 1, 1, 0, 1, 1, 1, 0, 1, 0, 1, 1,\n",
              "       1, 0, 0, 0, 1, 1, 0, 1, 0, 0, 1, 1, 0, 1, 0, 0, 1, 0, 1, 1, 1, 0,\n",
              "       0, 1, 0, 0, 0, 1, 0, 1, 1, 0, 0, 0, 0, 0, 0, 0, 1, 1, 1, 0, 1, 1,\n",
              "       0, 0, 1, 0, 1, 1, 1, 1, 1, 0, 0, 0, 0, 0, 1, 1, 1, 1, 0, 0, 0, 1,\n",
              "       1, 1, 0, 0, 0, 1, 1, 0, 1, 0, 0, 0, 1, 0, 1, 1, 1, 0, 1, 0, 0, 1,\n",
              "       1, 0, 0, 0, 0, 0, 0, 1, 0, 1, 1, 0, 1, 1, 1, 0, 1, 0, 0, 1, 1, 1,\n",
              "       0, 1, 0, 0, 0, 1, 0, 0, 0, 1, 0, 1, 1, 1, 1, 0, 1, 0, 0, 1, 0])"
            ]
          },
          "metadata": {},
          "execution_count": 292
        }
      ]
    },
    {
      "cell_type": "code",
      "source": [
        "y_sensor_teste"
      ],
      "metadata": {
        "colab": {
          "base_uri": "https://localhost:8080/"
        },
        "id": "1yNPxi1HplVY",
        "outputId": "2799ead4-fdc5-4a06-a907-1c2a40754805"
      },
      "execution_count": 293,
      "outputs": [
        {
          "output_type": "execute_result",
          "data": {
            "text/plain": [
              "array([1, 1, 0, 0, 0, 1, 1, 0, 1, 0, 0, 1, 1, 0, 1, 1, 1, 1, 0, 0, 1, 1,\n",
              "       0, 0, 0, 1, 0, 0, 1, 1, 1, 1, 0, 0, 0, 1, 0, 1, 1, 0, 0, 0, 1, 1,\n",
              "       1, 1, 0, 0, 1, 1, 0, 1, 1, 1, 0, 0, 1, 1, 1, 0, 1, 1, 0, 1, 1, 1,\n",
              "       1, 0, 0, 1, 1, 0, 1, 1, 1, 1, 1, 1, 0, 0, 0, 1, 1, 0, 0, 1, 1, 0,\n",
              "       1, 1, 1, 1, 1, 0, 1, 1, 1, 0, 1, 0, 1, 0, 1, 1, 0, 0, 1, 0, 0, 0,\n",
              "       1, 1, 0, 1, 0, 0, 1, 1, 1, 1, 1, 1, 1, 0, 0, 1, 0, 1, 1, 1, 1, 1,\n",
              "       1, 0, 1, 1, 1, 1, 1, 0, 1, 1, 0, 1, 1, 0, 1, 1, 1, 0, 0, 1, 0, 0,\n",
              "       1, 0, 0, 0, 0, 1, 0, 1, 0, 1, 0, 1, 1, 1, 0, 1, 0, 1, 1, 1, 0, 0,\n",
              "       0, 0, 0, 1, 0, 1, 1, 1, 1, 1, 1, 1, 1, 0, 0, 1, 1, 1, 1, 0, 0, 1,\n",
              "       0, 1, 0, 0, 1, 1, 0, 1, 0, 1, 1, 1, 1, 0, 0, 0, 1, 0, 0, 1, 1, 1,\n",
              "       1, 1, 0, 1, 0, 1, 1, 1, 1, 1, 0, 1, 1, 1, 1, 0, 1, 1, 1, 0, 0, 0,\n",
              "       1, 1, 1, 1, 1, 0, 1, 1, 0, 1, 0, 0, 1, 1, 0, 1, 1, 0, 1, 0, 1, 1,\n",
              "       1, 1, 1, 1, 0, 0, 0, 1, 1, 1, 1, 0, 1, 1, 1, 0, 1, 1, 0, 1, 0, 1,\n",
              "       1, 1, 0, 1, 0, 0, 0, 0, 1, 0, 1, 0, 0, 0, 1, 0, 1, 1, 0, 0, 0, 1,\n",
              "       0, 1, 0, 0, 0, 1, 1, 0, 1, 1, 1, 0, 0, 0, 0, 0, 1, 0, 0, 1, 1, 0,\n",
              "       1, 1, 1, 0, 1, 1, 0, 0, 1, 0, 1, 1, 0, 0, 0, 0, 1, 0, 1, 1, 0, 0,\n",
              "       1, 1, 0, 0, 1, 0, 0, 1, 1, 0, 1, 1, 0, 1, 0, 0, 0, 0, 0, 1, 1, 1,\n",
              "       1, 1, 0, 1, 0, 1, 1, 1, 1, 1, 1, 0, 1, 0, 1, 0, 0, 0, 1, 1, 0, 0,\n",
              "       0, 0, 1, 1, 0, 1, 0, 0, 0, 0, 1, 1, 1, 1, 1, 1, 0, 1, 1, 1, 0, 0,\n",
              "       1, 0, 1, 0, 1, 0, 1, 0, 1, 1, 0, 0, 1, 1, 1, 1, 1, 1, 0, 0, 0, 1,\n",
              "       1, 1, 1, 1, 0, 0, 0, 1, 0, 0, 1, 0, 1, 1, 1, 0, 1, 0, 1, 1, 0, 1,\n",
              "       1, 1, 0, 1, 1, 1, 0, 1, 1, 0, 1, 1, 0, 0, 1, 0, 1, 1, 1, 1, 0, 0,\n",
              "       1, 0, 0, 1, 0, 0, 1, 0, 1, 0, 1, 1, 0, 1, 1, 0, 0, 1, 1, 1, 1, 0,\n",
              "       0, 1, 0, 0, 0, 1, 1, 0, 0, 1, 0, 0, 0, 0, 1, 0, 0, 1, 0, 1, 1, 1,\n",
              "       1, 1, 1, 0, 1, 1, 1, 0, 0, 0, 1, 1, 1, 1, 1, 0, 0, 0, 1, 1, 1, 1,\n",
              "       1, 1, 1, 1, 0, 1, 1, 0, 1, 1, 0, 1, 1, 1, 1, 1, 1, 1, 1, 0, 0, 1,\n",
              "       1, 1, 0, 0, 1, 1, 0, 1, 0, 0, 1, 0, 0, 0, 1, 0, 1, 0, 1, 0, 1, 0,\n",
              "       1, 1, 0, 0, 1, 1, 0, 1, 1, 0, 0, 1, 1, 0, 0, 0, 1, 1, 1, 0, 1, 1,\n",
              "       0, 0, 1, 0, 1, 0, 0, 1, 1, 1, 0, 1, 0, 0, 1, 1, 0, 1, 1, 0, 0, 1,\n",
              "       1, 1, 0, 0, 0, 1, 1, 0, 0, 0, 0, 0, 0, 0, 1, 1, 1, 0, 1, 0, 1, 1,\n",
              "       1, 1, 1, 0, 1, 0, 0, 1, 0, 0, 0, 1, 0, 1, 1, 0, 1, 1, 0, 1, 1, 1,\n",
              "       1, 1, 1, 0, 0, 0, 0, 0, 1, 1, 0, 1, 1, 0, 0, 0, 1, 0, 0, 1, 0])"
            ]
          },
          "metadata": {},
          "execution_count": 293
        }
      ]
    },
    {
      "cell_type": "markdown",
      "source": [
        "## O algoritmo de arvore de decisão conseguiu atingir uma acurácia de 74.53%"
      ],
      "metadata": {
        "id": "Xla5HrFMp4OF"
      }
    },
    {
      "cell_type": "code",
      "source": [
        "from sklearn.metrics import accuracy_score, classification_report\n",
        "\n",
        "accuracy_score(y_sensor_teste, previsoes) * 100"
      ],
      "metadata": {
        "id": "08cSVm6LppFr",
        "colab": {
          "base_uri": "https://localhost:8080/"
        },
        "outputId": "e866a9de-663a-4469-aede-a220bf38b61c"
      },
      "execution_count": 294,
      "outputs": [
        {
          "output_type": "execute_result",
          "data": {
            "text/plain": [
              "74.53769559032717"
            ]
          },
          "metadata": {},
          "execution_count": 294
        }
      ]
    },
    {
      "cell_type": "code",
      "source": [
        "cm = ConfusionMatrix(arvore_sensor)\n",
        "cm.fit(x_sensor_treinamento, y_sensor_treinamento)\n",
        "cm.score(x_sensor_teste, y_sensor_teste) * 100"
      ],
      "metadata": {
        "colab": {
          "base_uri": "https://localhost:8080/",
          "height": 362
        },
        "id": "QWrbfulYqH0R",
        "outputId": "72e9ce4b-c2ee-468c-f2e2-cc2dca672285"
      },
      "execution_count": 295,
      "outputs": [
        {
          "output_type": "execute_result",
          "data": {
            "text/plain": [
              "74.53769559032717"
            ]
          },
          "metadata": {},
          "execution_count": 295
        },
        {
          "output_type": "display_data",
          "data": {
            "text/plain": [
              "<Figure size 576x396 with 1 Axes>"
            ],
            "image/png": "[encoded data removed]"
          },
          "metadata": {}
        }
      ]
    },
    {
      "cell_type": "code",
      "source": [
        "print(classification_report(y_sensor_teste, previsoes))"
      ],
      "metadata": {
        "colab": {
          "base_uri": "https://localhost:8080/"
        },
        "id": "viViouwEqe79",
        "outputId": "d1878bc1-a97a-483d-e939-95e4bb2700cd"
      },
      "execution_count": 296,
      "outputs": [
        {
          "output_type": "stream",
          "name": "stdout",
          "text": [
            "              precision    recall  f1-score   support\n",
            "\n",
            "           0       0.69      0.74      0.71       303\n",
            "           1       0.79      0.75      0.77       400\n",
            "\n",
            "    accuracy                           0.75       703\n",
            "   macro avg       0.74      0.74      0.74       703\n",
            "weighted avg       0.75      0.75      0.75       703\n",
            "\n"
          ]
        }
      ]
    },
    {
      "cell_type": "code",
      "source": [
        "from sklearn import tree\n",
        "\n",
        "fig, axes = plt.subplots(nrows = 1,ncols = 1,figsize = (20,20))\n",
        "tree.plot_tree(arvore_sensor, class_names=['0','1'], filled=True);"
      ],
      "metadata": {
        "colab": {
          "base_uri": "https://localhost:8080/",
          "height": 936
        },
        "id": "FM-gpRetqr2e",
        "outputId": "e5ce2135-21df-4cb2-883f-eca8d096b1c0"
      },
      "execution_count": 297,
      "outputs": [
        {
          "output_type": "display_data",
          "data": {
            "text/plain": [
              "<Figure size 1440x1440 with 1 Axes>"
            ],
            "image/png": "[encoded data removed]"
          },
          "metadata": {}
        }
      ]
    },
    {
      "cell_type": "markdown",
      "source": [
        "# Algoritmo Random Forest"
      ],
      "metadata": {
        "id": "rWxrC2R1u55Z"
      }
    },
    {
      "cell_type": "markdown",
      "source": [
        "### Carregamento dos dados a partir de um arquivo pickle"
      ],
      "metadata": {
        "id": "KwuJCUUvSAIg"
      }
    },
    {
      "cell_type": "code",
      "source": [
        "with open('/content/sensor.pkl', 'rb') as f:\n",
        "  x_sensor_treinamento, y_sensor_treinamento, \\\n",
        "  x_sensor_teste, y_sensor_teste = pickle.load(f)\n",
        "\n",
        "\n",
        "print(f\"Dados de treinamento: {x_sensor_treinamento.shape}, {y_sensor_treinamento.shape}\")\n",
        "print(f\"Dados de teste: {x_sensor_teste.shape}, {y_sensor_teste.shape}\")"
      ],
      "metadata": {
        "colab": {
          "base_uri": "https://localhost:8080/"
        },
        "outputId": "a57f6467-f1a9-4d5f-d1a9-9a5e33606e7e",
        "id": "wVWdpPhtSAIh"
      },
      "execution_count": 298,
      "outputs": [
        {
          "output_type": "stream",
          "name": "stdout",
          "text": [
            "Dados de treinamento: (2812, 22), (2812,)\n",
            "Dados de teste: (703, 22), (703,)\n"
          ]
        }
      ]
    },
    {
      "cell_type": "markdown",
      "source": [
        "## Importação das bibliotecas"
      ],
      "metadata": {
        "id": "8zVBvFWfSB-2"
      }
    },
    {
      "cell_type": "code",
      "source": [
        "from sklearn.ensemble import RandomForestClassifier"
      ],
      "metadata": {
        "id": "kgLtpCkWsq9z"
      },
      "execution_count": 299,
      "outputs": []
    },
    {
      "cell_type": "markdown",
      "source": [
        "## Instaciação do algoritmo de arvore de decisão"
      ],
      "metadata": {
        "id": "tNkKTA2fEvJ-"
      }
    },
    {
      "cell_type": "code",
      "source": [
        "random_forest_sensor = RandomForestClassifier(n_estimators=80, criterion='entropy', random_state = 0)\n",
        "random_forest_sensor.fit(x_sensor_treinamento, y_sensor_treinamento)"
      ],
      "metadata": {
        "colab": {
          "base_uri": "https://localhost:8080/"
        },
        "id": "ldbjBhJBvJFf",
        "outputId": "a89cfd43-e6f3-4ae8-a5d6-aca772533e14"
      },
      "execution_count": 300,
      "outputs": [
        {
          "output_type": "execute_result",
          "data": {
            "text/plain": [
              "RandomForestClassifier(criterion='entropy', n_estimators=80, random_state=0)"
            ]
          },
          "metadata": {},
          "execution_count": 300
        }
      ]
    },
    {
      "cell_type": "markdown",
      "source": [
        "## Realizando a previsão"
      ],
      "metadata": {
        "id": "7NooOTqoE3ln"
      }
    },
    {
      "cell_type": "code",
      "source": [
        "previsoes = random_forest_sensor.predict(x_sensor_teste)\n",
        "previsoes"
      ],
      "metadata": {
        "colab": {
          "base_uri": "https://localhost:8080/"
        },
        "id": "W3P9IyKtvksI",
        "outputId": "0537a33e-11dc-4da3-d7e1-0543f5062a09"
      },
      "execution_count": 301,
      "outputs": [
        {
          "output_type": "execute_result",
          "data": {
            "text/plain": [
              "array([1, 1, 0, 1, 1, 1, 1, 0, 0, 0, 0, 1, 0, 1, 1, 1, 1, 1, 0, 1, 1, 1,\n",
              "       0, 0, 1, 1, 0, 0, 1, 1, 1, 1, 0, 0, 0, 1, 0, 1, 1, 0, 1, 0, 1, 1,\n",
              "       1, 1, 1, 0, 1, 1, 1, 1, 1, 1, 0, 0, 1, 1, 1, 1, 0, 1, 0, 1, 1, 1,\n",
              "       1, 0, 0, 1, 1, 1, 1, 1, 1, 1, 1, 1, 0, 0, 1, 1, 1, 1, 0, 1, 1, 0,\n",
              "       1, 1, 1, 1, 1, 1, 1, 1, 1, 0, 1, 0, 1, 0, 1, 1, 0, 0, 0, 0, 1, 0,\n",
              "       1, 1, 0, 0, 0, 0, 1, 1, 1, 1, 1, 1, 0, 0, 1, 1, 0, 1, 1, 0, 1, 0,\n",
              "       0, 0, 1, 1, 1, 1, 1, 0, 1, 1, 0, 1, 1, 0, 0, 0, 1, 0, 1, 1, 0, 0,\n",
              "       1, 0, 1, 1, 0, 1, 1, 1, 0, 1, 0, 1, 1, 1, 1, 1, 0, 1, 1, 1, 0, 1,\n",
              "       0, 0, 0, 1, 1, 1, 1, 1, 1, 1, 1, 1, 1, 0, 1, 1, 0, 1, 1, 0, 0, 1,\n",
              "       0, 1, 0, 1, 1, 1, 0, 1, 0, 1, 1, 1, 1, 0, 0, 0, 1, 0, 0, 0, 1, 1,\n",
              "       1, 1, 0, 1, 0, 1, 1, 1, 1, 1, 0, 1, 0, 1, 1, 1, 0, 1, 1, 0, 0, 0,\n",
              "       1, 1, 0, 1, 1, 0, 1, 1, 0, 1, 0, 0, 1, 1, 0, 0, 1, 0, 1, 0, 1, 1,\n",
              "       1, 1, 1, 1, 1, 1, 0, 1, 1, 1, 1, 0, 1, 0, 1, 0, 0, 1, 1, 1, 1, 1,\n",
              "       0, 1, 0, 1, 0, 1, 0, 1, 1, 0, 1, 0, 0, 1, 1, 0, 1, 1, 0, 1, 1, 1,\n",
              "       1, 1, 1, 0, 0, 1, 1, 0, 1, 1, 1, 0, 0, 0, 1, 0, 1, 0, 0, 1, 1, 1,\n",
              "       1, 0, 1, 1, 0, 1, 0, 1, 1, 0, 1, 1, 0, 0, 0, 0, 1, 0, 1, 0, 0, 0,\n",
              "       1, 0, 0, 0, 1, 0, 0, 0, 0, 0, 0, 1, 1, 1, 1, 0, 0, 0, 0, 1, 1, 0,\n",
              "       1, 0, 0, 1, 1, 0, 0, 1, 1, 1, 1, 1, 1, 0, 1, 0, 1, 1, 1, 1, 0, 1,\n",
              "       0, 0, 1, 1, 0, 1, 0, 0, 0, 0, 1, 1, 1, 1, 1, 0, 0, 0, 1, 0, 0, 0,\n",
              "       1, 0, 0, 0, 1, 0, 1, 0, 1, 1, 0, 0, 1, 1, 1, 1, 0, 1, 1, 1, 1, 1,\n",
              "       1, 1, 1, 0, 0, 0, 0, 1, 0, 0, 1, 1, 1, 1, 0, 0, 1, 0, 1, 1, 0, 1,\n",
              "       1, 1, 0, 1, 0, 0, 1, 0, 1, 0, 1, 1, 0, 0, 0, 0, 1, 1, 1, 1, 0, 0,\n",
              "       1, 0, 0, 1, 0, 1, 1, 0, 1, 0, 1, 1, 0, 1, 1, 0, 0, 1, 1, 1, 1, 0,\n",
              "       0, 1, 0, 0, 1, 1, 1, 1, 0, 1, 0, 1, 0, 1, 1, 0, 1, 1, 0, 1, 1, 1,\n",
              "       1, 1, 1, 0, 1, 1, 1, 0, 0, 0, 1, 1, 1, 1, 1, 1, 0, 1, 1, 1, 1, 1,\n",
              "       1, 0, 1, 1, 1, 1, 1, 0, 1, 1, 0, 1, 1, 1, 0, 1, 0, 1, 1, 0, 1, 1,\n",
              "       1, 0, 0, 0, 1, 1, 1, 1, 0, 1, 1, 1, 0, 1, 0, 0, 1, 0, 1, 0, 1, 0,\n",
              "       1, 1, 0, 0, 1, 1, 0, 1, 1, 0, 0, 0, 0, 0, 0, 0, 1, 1, 1, 0, 1, 1,\n",
              "       0, 0, 1, 0, 1, 1, 1, 1, 1, 0, 1, 1, 0, 0, 1, 1, 0, 1, 1, 0, 0, 1,\n",
              "       1, 1, 0, 0, 0, 1, 1, 0, 0, 0, 0, 0, 1, 1, 1, 1, 1, 0, 1, 0, 1, 1,\n",
              "       1, 1, 0, 1, 0, 0, 1, 1, 1, 0, 1, 1, 0, 1, 1, 0, 1, 1, 1, 1, 1, 1,\n",
              "       1, 1, 1, 0, 0, 1, 0, 0, 0, 1, 0, 1, 1, 1, 0, 0, 1, 0, 0, 1, 0])"
            ]
          },
          "metadata": {},
          "execution_count": 301
        }
      ]
    },
    {
      "cell_type": "code",
      "source": [
        "y_sensor_teste"
      ],
      "metadata": {
        "colab": {
          "base_uri": "https://localhost:8080/"
        },
        "id": "r-PT7GnHvu8u",
        "outputId": "9380623b-0e1a-4573-a787-b4fe374a44aa"
      },
      "execution_count": 302,
      "outputs": [
        {
          "output_type": "execute_result",
          "data": {
            "text/plain": [
              "array([1, 1, 0, 0, 0, 1, 1, 0, 1, 0, 0, 1, 1, 0, 1, 1, 1, 1, 0, 0, 1, 1,\n",
              "       0, 0, 0, 1, 0, 0, 1, 1, 1, 1, 0, 0, 0, 1, 0, 1, 1, 0, 0, 0, 1, 1,\n",
              "       1, 1, 0, 0, 1, 1, 0, 1, 1, 1, 0, 0, 1, 1, 1, 0, 1, 1, 0, 1, 1, 1,\n",
              "       1, 0, 0, 1, 1, 0, 1, 1, 1, 1, 1, 1, 0, 0, 0, 1, 1, 0, 0, 1, 1, 0,\n",
              "       1, 1, 1, 1, 1, 0, 1, 1, 1, 0, 1, 0, 1, 0, 1, 1, 0, 0, 1, 0, 0, 0,\n",
              "       1, 1, 0, 1, 0, 0, 1, 1, 1, 1, 1, 1, 1, 0, 0, 1, 0, 1, 1, 1, 1, 1,\n",
              "       1, 0, 1, 1, 1, 1, 1, 0, 1, 1, 0, 1, 1, 0, 1, 1, 1, 0, 0, 1, 0, 0,\n",
              "       1, 0, 0, 0, 0, 1, 0, 1, 0, 1, 0, 1, 1, 1, 0, 1, 0, 1, 1, 1, 0, 0,\n",
              "       0, 0, 0, 1, 0, 1, 1, 1, 1, 1, 1, 1, 1, 0, 0, 1, 1, 1, 1, 0, 0, 1,\n",
              "       0, 1, 0, 0, 1, 1, 0, 1, 0, 1, 1, 1, 1, 0, 0, 0, 1, 0, 0, 1, 1, 1,\n",
              "       1, 1, 0, 1, 0, 1, 1, 1, 1, 1, 0, 1, 1, 1, 1, 0, 1, 1, 1, 0, 0, 0,\n",
              "       1, 1, 1, 1, 1, 0, 1, 1, 0, 1, 0, 0, 1, 1, 0, 1, 1, 0, 1, 0, 1, 1,\n",
              "       1, 1, 1, 1, 0, 0, 0, 1, 1, 1, 1, 0, 1, 1, 1, 0, 1, 1, 0, 1, 0, 1,\n",
              "       1, 1, 0, 1, 0, 0, 0, 0, 1, 0, 1, 0, 0, 0, 1, 0, 1, 1, 0, 0, 0, 1,\n",
              "       0, 1, 0, 0, 0, 1, 1, 0, 1, 1, 1, 0, 0, 0, 0, 0, 1, 0, 0, 1, 1, 0,\n",
              "       1, 1, 1, 0, 1, 1, 0, 0, 1, 0, 1, 1, 0, 0, 0, 0, 1, 0, 1, 1, 0, 0,\n",
              "       1, 1, 0, 0, 1, 0, 0, 1, 1, 0, 1, 1, 0, 1, 0, 0, 0, 0, 0, 1, 1, 1,\n",
              "       1, 1, 0, 1, 0, 1, 1, 1, 1, 1, 1, 0, 1, 0, 1, 0, 0, 0, 1, 1, 0, 0,\n",
              "       0, 0, 1, 1, 0, 1, 0, 0, 0, 0, 1, 1, 1, 1, 1, 1, 0, 1, 1, 1, 0, 0,\n",
              "       1, 0, 1, 0, 1, 0, 1, 0, 1, 1, 0, 0, 1, 1, 1, 1, 1, 1, 0, 0, 0, 1,\n",
              "       1, 1, 1, 1, 0, 0, 0, 1, 0, 0, 1, 0, 1, 1, 1, 0, 1, 0, 1, 1, 0, 1,\n",
              "       1, 1, 0, 1, 1, 1, 0, 1, 1, 0, 1, 1, 0, 0, 1, 0, 1, 1, 1, 1, 0, 0,\n",
              "       1, 0, 0, 1, 0, 0, 1, 0, 1, 0, 1, 1, 0, 1, 1, 0, 0, 1, 1, 1, 1, 0,\n",
              "       0, 1, 0, 0, 0, 1, 1, 0, 0, 1, 0, 0, 0, 0, 1, 0, 0, 1, 0, 1, 1, 1,\n",
              "       1, 1, 1, 0, 1, 1, 1, 0, 0, 0, 1, 1, 1, 1, 1, 0, 0, 0, 1, 1, 1, 1,\n",
              "       1, 1, 1, 1, 0, 1, 1, 0, 1, 1, 0, 1, 1, 1, 1, 1, 1, 1, 1, 0, 0, 1,\n",
              "       1, 1, 0, 0, 1, 1, 0, 1, 0, 0, 1, 0, 0, 0, 1, 0, 1, 0, 1, 0, 1, 0,\n",
              "       1, 1, 0, 0, 1, 1, 0, 1, 1, 0, 0, 1, 1, 0, 0, 0, 1, 1, 1, 0, 1, 1,\n",
              "       0, 0, 1, 0, 1, 0, 0, 1, 1, 1, 0, 1, 0, 0, 1, 1, 0, 1, 1, 0, 0, 1,\n",
              "       1, 1, 0, 0, 0, 1, 1, 0, 0, 0, 0, 0, 0, 0, 1, 1, 1, 0, 1, 0, 1, 1,\n",
              "       1, 1, 1, 0, 1, 0, 0, 1, 0, 0, 0, 1, 0, 1, 1, 0, 1, 1, 0, 1, 1, 1,\n",
              "       1, 1, 1, 0, 0, 0, 0, 0, 1, 1, 0, 1, 1, 0, 0, 0, 1, 0, 0, 1, 0])"
            ]
          },
          "metadata": {},
          "execution_count": 302
        }
      ]
    },
    {
      "cell_type": "markdown",
      "source": [
        "## O algoritmo de Random Forest atingiu 81.36% de acurácia"
      ],
      "metadata": {
        "id": "B1DgoyYfv1MS"
      }
    },
    {
      "cell_type": "code",
      "source": [
        "accuracy_score(y_sensor_teste, previsoes) * 100"
      ],
      "metadata": {
        "colab": {
          "base_uri": "https://localhost:8080/"
        },
        "id": "_xYXChYLvf1U",
        "outputId": "d0b78dda-9360-45c7-c719-a5866e056f29"
      },
      "execution_count": 303,
      "outputs": [
        {
          "output_type": "execute_result",
          "data": {
            "text/plain": [
              "81.3655761024182"
            ]
          },
          "metadata": {},
          "execution_count": 303
        }
      ]
    },
    {
      "cell_type": "code",
      "source": [
        "cm = ConfusionMatrix(random_forest_sensor)\n",
        "cm.fit(x_sensor_treinamento, y_sensor_treinamento)\n",
        "cm.score(x_sensor_teste, y_sensor_teste) * 100"
      ],
      "metadata": {
        "colab": {
          "base_uri": "https://localhost:8080/",
          "height": 362
        },
        "id": "f7AVZYMqy7tH",
        "outputId": "9b2cb7be-2704-46be-92d8-8809dacf081b"
      },
      "execution_count": 304,
      "outputs": [
        {
          "output_type": "execute_result",
          "data": {
            "text/plain": [
              "81.3655761024182"
            ]
          },
          "metadata": {},
          "execution_count": 304
        },
        {
          "output_type": "display_data",
          "data": {
            "text/plain": [
              "<Figure size 576x396 with 1 Axes>"
            ],
            "image/png": "[encoded data removed]"
          },
          "metadata": {}
        }
      ]
    },
    {
      "cell_type": "code",
      "source": [
        "print(classification_report(y_sensor_teste, previsoes))"
      ],
      "metadata": {
        "colab": {
          "base_uri": "https://localhost:8080/"
        },
        "id": "um7ISGDkzKDH",
        "outputId": "1972e12e-eaaf-4f92-d087-90062bb2045b"
      },
      "execution_count": 305,
      "outputs": [
        {
          "output_type": "stream",
          "name": "stdout",
          "text": [
            "              precision    recall  f1-score   support\n",
            "\n",
            "           0       0.81      0.74      0.77       303\n",
            "           1       0.82      0.87      0.84       400\n",
            "\n",
            "    accuracy                           0.81       703\n",
            "   macro avg       0.81      0.81      0.81       703\n",
            "weighted avg       0.81      0.81      0.81       703\n",
            "\n"
          ]
        }
      ]
    },
    {
      "cell_type": "markdown",
      "source": [
        "## De todos os algoritmos de machine learning que foram avaliados, o Random Forest foi o que teve um melhor resultado, desta forma será gerado um arquivo .joblib com o modelo, para ser utilizado em um ambiente de produção "
      ],
      "metadata": {
        "id": "f3TlkcFRZXLs"
      }
    },
    {
      "cell_type": "markdown",
      "source": [
        "### Gerando o arquivo para deploy do modelo"
      ],
      "metadata": {
        "id": "AFeQECvZ-1V8"
      }
    },
    {
      "cell_type": "code",
      "source": [
        "from joblib import dump, load\n",
        "dump(random_forest_sensor, 'deploy.joblib')"
      ],
      "metadata": {
        "colab": {
          "base_uri": "https://localhost:8080/"
        },
        "id": "gIqRihsVR0v-",
        "outputId": "7d5c35b0-7c38-40a2-e8d9-80092bea2f3d"
      },
      "execution_count": 306,
      "outputs": [
        {
          "output_type": "execute_result",
          "data": {
            "text/plain": [
              "['deploy.joblib']"
            ]
          },
          "metadata": {},
          "execution_count": 306
        }
      ]
    },
    {
      "cell_type": "markdown",
      "source": [
        "### Para carregar os dados a partir do arquivo joblib, pode ser utilizado o script abaixo"
      ],
      "metadata": {
        "id": "ZHNT_qWdHp8Y"
      }
    },
    {
      "cell_type": "code",
      "source": [
        "model_rf = load('deploy.joblib')"
      ],
      "metadata": {
        "id": "Qq-zjt76ZjQG"
      },
      "execution_count": 307,
      "outputs": []
    },
    {
      "cell_type": "code",
      "source": [
        "model_rf"
      ],
      "metadata": {
        "colab": {
          "base_uri": "https://localhost:8080/"
        },
        "id": "eiKUtWquAkW1",
        "outputId": "db63e4b4-7372-4dbc-b6ee-7d9cf675a653"
      },
      "execution_count": 308,
      "outputs": [
        {
          "output_type": "execute_result",
          "data": {
            "text/plain": [
              "RandomForestClassifier(criterion='entropy', n_estimators=80, random_state=0)"
            ]
          },
          "metadata": {},
          "execution_count": 308
        }
      ]
    },
    {
      "cell_type": "code",
      "source": [
        "model_rf.classes_"
      ],
      "metadata": {
        "colab": {
          "base_uri": "https://localhost:8080/"
        },
        "id": "OIPhhOw_aULI",
        "outputId": "19bf9bbb-332d-4ec2-dd42-bab5f41e6b91"
      },
      "execution_count": 309,
      "outputs": [
        {
          "output_type": "execute_result",
          "data": {
            "text/plain": [
              "array([0, 1])"
            ]
          },
          "metadata": {},
          "execution_count": 309
        }
      ]
    },
    {
      "cell_type": "code",
      "source": [
        "model_rf.feature_importances_"
      ],
      "metadata": {
        "colab": {
          "base_uri": "https://localhost:8080/"
        },
        "id": "xSqVWHLAIT2x",
        "outputId": "828d3620-0456-4be4-f666-2bfa8af9fa4b"
      },
      "execution_count": 310,
      "outputs": [
        {
          "output_type": "execute_result",
          "data": {
            "text/plain": [
              "array([0.04792026, 0.04077054, 0.04221239, 0.04073067, 0.04237709,\n",
              "       0.0381883 , 0.04236168, 0.03196631, 0.04202869, 0.03553642,\n",
              "       0.03688722, 0.03496372, 0.04223888, 0.03542533, 0.03905315,\n",
              "       0.03596252, 0.04327343, 0.03572433, 0.04638242, 0.04008533,\n",
              "       0.10267987, 0.10323144])"
            ]
          },
          "metadata": {},
          "execution_count": 310
        }
      ]
    },
    {
      "cell_type": "markdown",
      "source": [
        "## Testando o modelo importado a partir do arquivo joblib, com os dados de teste"
      ],
      "metadata": {
        "id": "539cwewMWiyf"
      }
    },
    {
      "cell_type": "code",
      "source": [
        "model_rf.predict(x_sensor_teste)"
      ],
      "metadata": {
        "colab": {
          "base_uri": "https://localhost:8080/"
        },
        "id": "AcZT-SWuWXo8",
        "outputId": "d09242bf-d067-405f-bdac-59ed9d3986a9"
      },
      "execution_count": 311,
      "outputs": [
        {
          "output_type": "execute_result",
          "data": {
            "text/plain": [
              "array([1, 1, 0, 1, 1, 1, 1, 0, 0, 0, 0, 1, 0, 1, 1, 1, 1, 1, 0, 1, 1, 1,\n",
              "       0, 0, 1, 1, 0, 0, 1, 1, 1, 1, 0, 0, 0, 1, 0, 1, 1, 0, 1, 0, 1, 1,\n",
              "       1, 1, 1, 0, 1, 1, 1, 1, 1, 1, 0, 0, 1, 1, 1, 1, 0, 1, 0, 1, 1, 1,\n",
              "       1, 0, 0, 1, 1, 1, 1, 1, 1, 1, 1, 1, 0, 0, 1, 1, 1, 1, 0, 1, 1, 0,\n",
              "       1, 1, 1, 1, 1, 1, 1, 1, 1, 0, 1, 0, 1, 0, 1, 1, 0, 0, 0, 0, 1, 0,\n",
              "       1, 1, 0, 0, 0, 0, 1, 1, 1, 1, 1, 1, 0, 0, 1, 1, 0, 1, 1, 0, 1, 0,\n",
              "       0, 0, 1, 1, 1, 1, 1, 0, 1, 1, 0, 1, 1, 0, 0, 0, 1, 0, 1, 1, 0, 0,\n",
              "       1, 0, 1, 1, 0, 1, 1, 1, 0, 1, 0, 1, 1, 1, 1, 1, 0, 1, 1, 1, 0, 1,\n",
              "       0, 0, 0, 1, 1, 1, 1, 1, 1, 1, 1, 1, 1, 0, 1, 1, 0, 1, 1, 0, 0, 1,\n",
              "       0, 1, 0, 1, 1, 1, 0, 1, 0, 1, 1, 1, 1, 0, 0, 0, 1, 0, 0, 0, 1, 1,\n",
              "       1, 1, 0, 1, 0, 1, 1, 1, 1, 1, 0, 1, 0, 1, 1, 1, 0, 1, 1, 0, 0, 0,\n",
              "       1, 1, 0, 1, 1, 0, 1, 1, 0, 1, 0, 0, 1, 1, 0, 0, 1, 0, 1, 0, 1, 1,\n",
              "       1, 1, 1, 1, 1, 1, 0, 1, 1, 1, 1, 0, 1, 0, 1, 0, 0, 1, 1, 1, 1, 1,\n",
              "       0, 1, 0, 1, 0, 1, 0, 1, 1, 0, 1, 0, 0, 1, 1, 0, 1, 1, 0, 1, 1, 1,\n",
              "       1, 1, 1, 0, 0, 1, 1, 0, 1, 1, 1, 0, 0, 0, 1, 0, 1, 0, 0, 1, 1, 1,\n",
              "       1, 0, 1, 1, 0, 1, 0, 1, 1, 0, 1, 1, 0, 0, 0, 0, 1, 0, 1, 0, 0, 0,\n",
              "       1, 0, 0, 0, 1, 0, 0, 0, 0, 0, 0, 1, 1, 1, 1, 0, 0, 0, 0, 1, 1, 0,\n",
              "       1, 0, 0, 1, 1, 0, 0, 1, 1, 1, 1, 1, 1, 0, 1, 0, 1, 1, 1, 1, 0, 1,\n",
              "       0, 0, 1, 1, 0, 1, 0, 0, 0, 0, 1, 1, 1, 1, 1, 0, 0, 0, 1, 0, 0, 0,\n",
              "       1, 0, 0, 0, 1, 0, 1, 0, 1, 1, 0, 0, 1, 1, 1, 1, 0, 1, 1, 1, 1, 1,\n",
              "       1, 1, 1, 0, 0, 0, 0, 1, 0, 0, 1, 1, 1, 1, 0, 0, 1, 0, 1, 1, 0, 1,\n",
              "       1, 1, 0, 1, 0, 0, 1, 0, 1, 0, 1, 1, 0, 0, 0, 0, 1, 1, 1, 1, 0, 0,\n",
              "       1, 0, 0, 1, 0, 1, 1, 0, 1, 0, 1, 1, 0, 1, 1, 0, 0, 1, 1, 1, 1, 0,\n",
              "       0, 1, 0, 0, 1, 1, 1, 1, 0, 1, 0, 1, 0, 1, 1, 0, 1, 1, 0, 1, 1, 1,\n",
              "       1, 1, 1, 0, 1, 1, 1, 0, 0, 0, 1, 1, 1, 1, 1, 1, 0, 1, 1, 1, 1, 1,\n",
              "       1, 0, 1, 1, 1, 1, 1, 0, 1, 1, 0, 1, 1, 1, 0, 1, 0, 1, 1, 0, 1, 1,\n",
              "       1, 0, 0, 0, 1, 1, 1, 1, 0, 1, 1, 1, 0, 1, 0, 0, 1, 0, 1, 0, 1, 0,\n",
              "       1, 1, 0, 0, 1, 1, 0, 1, 1, 0, 0, 0, 0, 0, 0, 0, 1, 1, 1, 0, 1, 1,\n",
              "       0, 0, 1, 0, 1, 1, 1, 1, 1, 0, 1, 1, 0, 0, 1, 1, 0, 1, 1, 0, 0, 1,\n",
              "       1, 1, 0, 0, 0, 1, 1, 0, 0, 0, 0, 0, 1, 1, 1, 1, 1, 0, 1, 0, 1, 1,\n",
              "       1, 1, 0, 1, 0, 0, 1, 1, 1, 0, 1, 1, 0, 1, 1, 0, 1, 1, 1, 1, 1, 1,\n",
              "       1, 1, 1, 0, 0, 1, 0, 0, 0, 1, 0, 1, 1, 1, 0, 0, 1, 0, 0, 1, 0])"
            ]
          },
          "metadata": {},
          "execution_count": 311
        }
      ]
    },
    {
      "cell_type": "markdown",
      "source": [
        "## Gabarito"
      ],
      "metadata": {
        "id": "u9v_niNyWsoH"
      }
    },
    {
      "cell_type": "code",
      "source": [
        "y_sensor_teste"
      ],
      "metadata": {
        "colab": {
          "base_uri": "https://localhost:8080/"
        },
        "id": "CYwqAbiiWrHQ",
        "outputId": "a877668a-e703-406a-b8be-f722dceea18c"
      },
      "execution_count": 312,
      "outputs": [
        {
          "output_type": "execute_result",
          "data": {
            "text/plain": [
              "array([1, 1, 0, 0, 0, 1, 1, 0, 1, 0, 0, 1, 1, 0, 1, 1, 1, 1, 0, 0, 1, 1,\n",
              "       0, 0, 0, 1, 0, 0, 1, 1, 1, 1, 0, 0, 0, 1, 0, 1, 1, 0, 0, 0, 1, 1,\n",
              "       1, 1, 0, 0, 1, 1, 0, 1, 1, 1, 0, 0, 1, 1, 1, 0, 1, 1, 0, 1, 1, 1,\n",
              "       1, 0, 0, 1, 1, 0, 1, 1, 1, 1, 1, 1, 0, 0, 0, 1, 1, 0, 0, 1, 1, 0,\n",
              "       1, 1, 1, 1, 1, 0, 1, 1, 1, 0, 1, 0, 1, 0, 1, 1, 0, 0, 1, 0, 0, 0,\n",
              "       1, 1, 0, 1, 0, 0, 1, 1, 1, 1, 1, 1, 1, 0, 0, 1, 0, 1, 1, 1, 1, 1,\n",
              "       1, 0, 1, 1, 1, 1, 1, 0, 1, 1, 0, 1, 1, 0, 1, 1, 1, 0, 0, 1, 0, 0,\n",
              "       1, 0, 0, 0, 0, 1, 0, 1, 0, 1, 0, 1, 1, 1, 0, 1, 0, 1, 1, 1, 0, 0,\n",
              "       0, 0, 0, 1, 0, 1, 1, 1, 1, 1, 1, 1, 1, 0, 0, 1, 1, 1, 1, 0, 0, 1,\n",
              "       0, 1, 0, 0, 1, 1, 0, 1, 0, 1, 1, 1, 1, 0, 0, 0, 1, 0, 0, 1, 1, 1,\n",
              "       1, 1, 0, 1, 0, 1, 1, 1, 1, 1, 0, 1, 1, 1, 1, 0, 1, 1, 1, 0, 0, 0,\n",
              "       1, 1, 1, 1, 1, 0, 1, 1, 0, 1, 0, 0, 1, 1, 0, 1, 1, 0, 1, 0, 1, 1,\n",
              "       1, 1, 1, 1, 0, 0, 0, 1, 1, 1, 1, 0, 1, 1, 1, 0, 1, 1, 0, 1, 0, 1,\n",
              "       1, 1, 0, 1, 0, 0, 0, 0, 1, 0, 1, 0, 0, 0, 1, 0, 1, 1, 0, 0, 0, 1,\n",
              "       0, 1, 0, 0, 0, 1, 1, 0, 1, 1, 1, 0, 0, 0, 0, 0, 1, 0, 0, 1, 1, 0,\n",
              "       1, 1, 1, 0, 1, 1, 0, 0, 1, 0, 1, 1, 0, 0, 0, 0, 1, 0, 1, 1, 0, 0,\n",
              "       1, 1, 0, 0, 1, 0, 0, 1, 1, 0, 1, 1, 0, 1, 0, 0, 0, 0, 0, 1, 1, 1,\n",
              "       1, 1, 0, 1, 0, 1, 1, 1, 1, 1, 1, 0, 1, 0, 1, 0, 0, 0, 1, 1, 0, 0,\n",
              "       0, 0, 1, 1, 0, 1, 0, 0, 0, 0, 1, 1, 1, 1, 1, 1, 0, 1, 1, 1, 0, 0,\n",
              "       1, 0, 1, 0, 1, 0, 1, 0, 1, 1, 0, 0, 1, 1, 1, 1, 1, 1, 0, 0, 0, 1,\n",
              "       1, 1, 1, 1, 0, 0, 0, 1, 0, 0, 1, 0, 1, 1, 1, 0, 1, 0, 1, 1, 0, 1,\n",
              "       1, 1, 0, 1, 1, 1, 0, 1, 1, 0, 1, 1, 0, 0, 1, 0, 1, 1, 1, 1, 0, 0,\n",
              "       1, 0, 0, 1, 0, 0, 1, 0, 1, 0, 1, 1, 0, 1, 1, 0, 0, 1, 1, 1, 1, 0,\n",
              "       0, 1, 0, 0, 0, 1, 1, 0, 0, 1, 0, 0, 0, 0, 1, 0, 0, 1, 0, 1, 1, 1,\n",
              "       1, 1, 1, 0, 1, 1, 1, 0, 0, 0, 1, 1, 1, 1, 1, 0, 0, 0, 1, 1, 1, 1,\n",
              "       1, 1, 1, 1, 0, 1, 1, 0, 1, 1, 0, 1, 1, 1, 1, 1, 1, 1, 1, 0, 0, 1,\n",
              "       1, 1, 0, 0, 1, 1, 0, 1, 0, 0, 1, 0, 0, 0, 1, 0, 1, 0, 1, 0, 1, 0,\n",
              "       1, 1, 0, 0, 1, 1, 0, 1, 1, 0, 0, 1, 1, 0, 0, 0, 1, 1, 1, 0, 1, 1,\n",
              "       0, 0, 1, 0, 1, 0, 0, 1, 1, 1, 0, 1, 0, 0, 1, 1, 0, 1, 1, 0, 0, 1,\n",
              "       1, 1, 0, 0, 0, 1, 1, 0, 0, 0, 0, 0, 0, 0, 1, 1, 1, 0, 1, 0, 1, 1,\n",
              "       1, 1, 1, 0, 1, 0, 0, 1, 0, 0, 0, 1, 0, 1, 1, 0, 1, 1, 0, 1, 1, 1,\n",
              "       1, 1, 1, 0, 0, 0, 0, 0, 1, 1, 0, 1, 1, 0, 0, 0, 1, 0, 0, 1, 0])"
            ]
          },
          "metadata": {},
          "execution_count": 312
        }
      ]
    }
  ]
}